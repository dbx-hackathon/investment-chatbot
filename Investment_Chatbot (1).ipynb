{
 "cells": [
  {
   "cell_type": "markdown",
   "metadata": {
    "application/vnd.databricks.v1+cell": {
     "cellMetadata": {},
     "inputWidgets": {},
     "nuid": "b522acb1-b53b-4ada-bbab-aa36ab0e65d7",
     "showTitle": false,
     "title": ""
    }
   },
   "source": [
    "## libraries"
   ]
  },
  {
   "cell_type": "code",
   "execution_count": 0,
   "metadata": {
    "application/vnd.databricks.v1+cell": {
     "cellMetadata": {
      "byteLimit": 2048000,
      "rowLimit": 10000
     },
     "inputWidgets": {},
     "nuid": "362b7b28-ed80-4fce-92a0-413a387e9447",
     "showTitle": false,
     "title": ""
    }
   },
   "outputs": [
    {
     "output_type": "stream",
     "name": "stdout",
     "output_type": "stream",
     "text": [
      "/databricks/python_shell/dbruntime/PythonPackageImportsInstrumentation/__init__.py:171: TqdmWarning: IProgress not found. Please update jupyter and ipywidgets. See https://ipywidgets.readthedocs.io/en/stable/user_install.html\n  original_result = python_builtin_import(name, globals, locals, fromlist, level)\n"
     ]
    },
    {
     "output_type": "display_data",
     "data": {
      "application/vnd.databricks.v1+bamboolib_hint": "{\"pd.DataFrames\": [], \"version\": \"0.0.1\"}",
      "text/plain": []
     },
     "metadata": {},
     "output_type": "display_data"
    }
   ],
   "source": [
    "import gradio as gr\n",
    "from langchain import OpenAI, PromptTemplate\n",
    "from langchain.llms import OpenAI\n",
    "import openai\n",
    "import os\n",
    "import pandas as pd\n",
    "from langchain.memory import ConversationBufferMemory\n",
    "from langchain.agents import create_csv_agent\n"
   ]
  },
  {
   "cell_type": "code",
   "execution_count": 0,
   "metadata": {
    "application/vnd.databricks.v1+cell": {
     "cellMetadata": {
      "byteLimit": 2048000,
      "rowLimit": 10000
     },
     "inputWidgets": {},
     "nuid": "e6d4fd00-a7f8-4a42-9770-e11792e0215a",
     "showTitle": false,
     "title": ""
    }
   },
   "outputs": [],
   "source": [
    "import os, sys\n",
    "sys.path.append(os.path.abspath('/Repos/jaemilee@deloitte.com/investment-chatbot/'))"
   ]
  },
  {
   "cell_type": "code",
   "execution_count": 0,
   "metadata": {
    "application/vnd.databricks.v1+cell": {
     "cellMetadata": {},
     "inputWidgets": {},
     "nuid": "61fe9b03-ec2c-4629-8353-dcf2dee9443b",
     "showTitle": false,
     "title": ""
    }
   },
   "outputs": [],
   "source": [
    "file_path = \"/dbfs/mnt/data-project/JE_Raw/Pilot_Client_Trial/Pilot_Client_Trial_JE.csv\"\n",
    "dummy_df = pd.read_csv(file_path)\n",
    "dummy_df_1000 = pd.concat([dummy_df.head(500), dummy_df.tail(500)])\n",
    "csv_memory = ConversationBufferMemory()\n",
    "\n",
    "agent = create_csv_agent(OpenAI(temperature=0), file_path, verbose=True, memory=csv_memory)\n",
    "agent.run(input=input(\"Question: \"))"
   ]
  },
  {
   "cell_type": "code",
   "execution_count": 0,
   "metadata": {
    "application/vnd.databricks.v1+cell": {
     "cellMetadata": {},
     "inputWidgets": {},
     "nuid": "48c41541-35a5-49d5-9a65-595da59ee35e",
     "showTitle": false,
     "title": ""
    }
   },
   "outputs": [],
   "source": [
    "import streamlit as st\n",
    "from streamlit_chat import message"
   ]
  },
  {
   "cell_type": "code",
   "execution_count": 0,
   "metadata": {
    "application/vnd.databricks.v1+cell": {
     "cellMetadata": {},
     "inputWidgets": {},
     "nuid": "b0201e95-b507-4256-96c3-8351b20785ed",
     "showTitle": false,
     "title": ""
    }
   },
   "outputs": [],
   "source": [
    "def generate_response(prompt):\n",
    "    completions = openai.Completion.create(\n",
    "        engine = \"text-davinci-003\",\n",
    "        prompt = prompt,\n",
    "        max_tokens = 1024,\n",
    "        n = 1,\n",
    "        stop = None,\n",
    "        temperature=0.5,\n",
    "    )\n",
    "    message = completions.choices[0].text\n",
    "    return message "
   ]
  },
  {
   "cell_type": "code",
   "execution_count": 0,
   "metadata": {
    "application/vnd.databricks.v1+cell": {
     "cellMetadata": {},
     "inputWidgets": {},
     "nuid": "0eb5c547-2c44-445a-916b-95ab788e179a",
     "showTitle": false,
     "title": ""
    }
   },
   "outputs": [],
   "source": [
    "#Creating the chatbot interface\n",
    "st.title(\"chatBot : Streamlit + openAI\")\n",
    "\n",
    "# Storing the chat\n",
    "if 'generated' not in st.session_state:\n",
    "    st.session_state['generated'] = []\n",
    "\n",
    "if 'past' not in st.session_state:\n",
    "    st.session_state['past'] = []"
   ]
  },
  {
   "cell_type": "code",
   "execution_count": 0,
   "metadata": {
    "application/vnd.databricks.v1+cell": {
     "cellMetadata": {},
     "inputWidgets": {},
     "nuid": "190be4e7-8aa3-4956-b8bb-d2036122b568",
     "showTitle": false,
     "title": ""
    }
   },
   "outputs": [],
   "source": [
    "# We will get the user's input by calling the get_text function\n",
    "def get_text():\n",
    "    input_text = st.text_input(\"You: \",\"Hello, how are you?\", key=\"input\")\n",
    "    return input_text"
   ]
  },
  {
   "cell_type": "code",
   "execution_count": 0,
   "metadata": {
    "application/vnd.databricks.v1+cell": {
     "cellMetadata": {},
     "inputWidgets": {},
     "nuid": "316ceef5-b086-44eb-9171-a9dfcd328e4c",
     "showTitle": false,
     "title": ""
    }
   },
   "outputs": [],
   "source": [
    "user_input = get_text()\n",
    "\n",
    "if user_input:\n",
    "    output = generate_response(user_input)\n",
    "    # store the output \n",
    "    st.session_state.past.append(user_input)\n",
    "    st.session_state.generated.append(output)"
   ]
  },
  {
   "cell_type": "code",
   "execution_count": 0,
   "metadata": {
    "application/vnd.databricks.v1+cell": {
     "cellMetadata": {},
     "inputWidgets": {},
     "nuid": "b5b6eb51-1d7c-47a1-ad30-a83642199564",
     "showTitle": false,
     "title": ""
    }
   },
   "outputs": [],
   "source": [
    "!python -m streamlit run /databricks/python_shell/scripts/db_ipykernel_launcher.py       "
   ]
  },
  {
   "cell_type": "code",
   "execution_count": 0,
   "metadata": {
    "application/vnd.databricks.v1+cell": {
     "cellMetadata": {
      "byteLimit": 2048000,
      "rowLimit": 10000
     },
     "inputWidgets": {},
     "nuid": "d4c13e12-b31d-4a9f-b414-6ceb39aa21cd",
     "showTitle": false,
     "title": ""
    }
   },
   "outputs": [
    {
     "output_type": "stream",
     "name": "stdout",
     "output_type": "stream",
     "text": [
      "Out[4]: (34080, 5)"
     ]
    }
   ],
   "source": [
    "df = pd.read_csv(\"source/pull_data/youtube_video_transcript.csv\", sep='\\t')\n",
    "df.shape"
   ]
  },
  {
   "cell_type": "code",
   "execution_count": 0,
   "metadata": {
    "application/vnd.databricks.v1+cell": {
     "cellMetadata": {
      "byteLimit": 2048000,
      "rowLimit": 10000
     },
     "inputWidgets": {},
     "nuid": "965adca1-09e0-45c9-9391-34eae4596dcd",
     "showTitle": false,
     "title": ""
    }
   },
   "outputs": [],
   "source": [
    "df2 = pd.read_csv(\"/dbfs/FileStore/youtube_video_transcript4.csv\", sep='\\t')"
   ]
  },
  {
   "cell_type": "code",
   "execution_count": 0,
   "metadata": {
    "application/vnd.databricks.v1+cell": {
     "cellMetadata": {
      "byteLimit": 2048000,
      "rowLimit": 10000
     },
     "inputWidgets": {},
     "nuid": "e04588f4-6e5a-4493-809d-8b683cf89ba1",
     "showTitle": false,
     "title": ""
    }
   },
   "outputs": [
    {
     "output_type": "display_data",
     "data": {
      "text/html": [
       "<div>\n",
       "<style scoped>\n",
       "    .dataframe tbody tr th:only-of-type {\n",
       "        vertical-align: middle;\n",
       "    }\n",
       "\n",
       "    .dataframe tbody tr th {\n",
       "        vertical-align: top;\n",
       "    }\n",
       "\n",
       "    .dataframe thead th {\n",
       "        text-align: right;\n",
       "    }\n",
       "</style>\n",
       "<table border=\"1\" class=\"dataframe\">\n",
       "  <thead>\n",
       "    <tr style=\"text-align: right;\">\n",
       "      <th></th>\n",
       "      <th>video_id</th>\n",
       "      <th>video_url</th>\n",
       "      <th>text</th>\n",
       "      <th>start</th>\n",
       "      <th>duration</th>\n",
       "    </tr>\n",
       "  </thead>\n",
       "  <tbody>\n",
       "    <tr>\n",
       "      <th>0</th>\n",
       "      <td>rlj2Y466wxg</td>\n",
       "      <td>https://www.youtube.com/watch?v=rlj2Y466wxg</td>\n",
       "      <td>The biggest bank collapse</td>\n",
       "      <td>0.033</td>\n",
       "      <td>1.535</td>\n",
       "    </tr>\n",
       "    <tr>\n",
       "      <th>1</th>\n",
       "      <td>rlj2Y466wxg</td>\n",
       "      <td>https://www.youtube.com/watch?v=rlj2Y466wxg</td>\n",
       "      <td>since the 2008 financial crisis.</td>\n",
       "      <td>1.568</td>\n",
       "      <td>2.302</td>\n",
       "    </tr>\n",
       "    <tr>\n",
       "      <th>2</th>\n",
       "      <td>rlj2Y466wxg</td>\n",
       "      <td>https://www.youtube.com/watch?v=rlj2Y466wxg</td>\n",
       "      <td>And it shut down today.</td>\n",
       "      <td>3.870</td>\n",
       "      <td>1.235</td>\n",
       "    </tr>\n",
       "    <tr>\n",
       "      <th>3</th>\n",
       "      <td>rlj2Y466wxg</td>\n",
       "      <td>https://www.youtube.com/watch?v=rlj2Y466wxg</td>\n",
       "      <td>It's called the Silicon Valley Bank,</td>\n",
       "      <td>5.105</td>\n",
       "      <td>1.368</td>\n",
       "    </tr>\n",
       "    <tr>\n",
       "      <th>4</th>\n",
       "      <td>rlj2Y466wxg</td>\n",
       "      <td>https://www.youtube.com/watch?v=rlj2Y466wxg</td>\n",
       "      <td>and it is one of the tech industry's</td>\n",
       "      <td>6.473</td>\n",
       "      <td>1.535</td>\n",
       "    </tr>\n",
       "    <tr>\n",
       "      <th>...</th>\n",
       "      <td>...</td>\n",
       "      <td>...</td>\n",
       "      <td>...</td>\n",
       "      <td>...</td>\n",
       "      <td>...</td>\n",
       "    </tr>\n",
       "    <tr>\n",
       "      <th>48160</th>\n",
       "      <td>VhzFZ4errj4</td>\n",
       "      <td>https://www.youtube.com/watch?v=VhzFZ4errj4</td>\n",
       "      <td>Structurally</td>\n",
       "      <td>791.357</td>\n",
       "      <td>3.236</td>\n",
       "    </tr>\n",
       "    <tr>\n",
       "      <th>48161</th>\n",
       "      <td>VhzFZ4errj4</td>\n",
       "      <td>https://www.youtube.com/watch?v=VhzFZ4errj4</td>\n",
       "      <td>but</td>\n",
       "      <td>1037.102</td>\n",
       "      <td>2.936</td>\n",
       "    </tr>\n",
       "    <tr>\n",
       "      <th>48162</th>\n",
       "      <td>VhzFZ4errj4</td>\n",
       "      <td>https://www.youtube.com/watch?v=VhzFZ4errj4</td>\n",
       "      <td>average realization</td>\n",
       "      <td>1078.510</td>\n",
       "      <td>4.270</td>\n",
       "    </tr>\n",
       "    <tr>\n",
       "      <th>48163</th>\n",
       "      <td>VhzFZ4errj4</td>\n",
       "      <td>https://www.youtube.com/watch?v=VhzFZ4errj4</td>\n",
       "      <td>he say his situation</td>\n",
       "      <td>1127.859</td>\n",
       "      <td>4.137</td>\n",
       "    </tr>\n",
       "    <tr>\n",
       "      <th>48164</th>\n",
       "      <td>VhzFZ4errj4</td>\n",
       "      <td>https://www.youtube.com/watch?v=VhzFZ4errj4</td>\n",
       "      <td>India</td>\n",
       "      <td>1133.665</td>\n",
       "      <td>3.069</td>\n",
       "    </tr>\n",
       "  </tbody>\n",
       "</table>\n",
       "<p>48165 rows × 5 columns</p>\n",
       "</div>"
      ]
     },
     "metadata": {
      "application/vnd.databricks.v1+output": {
       "addedWidgets": {},
       "arguments": {},
       "data": "<div>\n<style scoped>\n    .dataframe tbody tr th:only-of-type {\n        vertical-align: middle;\n    }\n\n    .dataframe tbody tr th {\n        vertical-align: top;\n    }\n\n    .dataframe thead th {\n        text-align: right;\n    }\n</style>\n<table border=\"1\" class=\"dataframe\">\n  <thead>\n    <tr style=\"text-align: right;\">\n      <th></th>\n      <th>video_id</th>\n      <th>video_url</th>\n      <th>text</th>\n      <th>start</th>\n      <th>duration</th>\n    </tr>\n  </thead>\n  <tbody>\n    <tr>\n      <th>0</th>\n      <td>rlj2Y466wxg</td>\n      <td>https://www.youtube.com/watch?v=rlj2Y466wxg</td>\n      <td>The biggest bank collapse</td>\n      <td>0.033</td>\n      <td>1.535</td>\n    </tr>\n    <tr>\n      <th>1</th>\n      <td>rlj2Y466wxg</td>\n      <td>https://www.youtube.com/watch?v=rlj2Y466wxg</td>\n      <td>since the 2008 financial crisis.</td>\n      <td>1.568</td>\n      <td>2.302</td>\n    </tr>\n    <tr>\n      <th>2</th>\n      <td>rlj2Y466wxg</td>\n      <td>https://www.youtube.com/watch?v=rlj2Y466wxg</td>\n      <td>And it shut down today.</td>\n      <td>3.870</td>\n      <td>1.235</td>\n    </tr>\n    <tr>\n      <th>3</th>\n      <td>rlj2Y466wxg</td>\n      <td>https://www.youtube.com/watch?v=rlj2Y466wxg</td>\n      <td>It's called the Silicon Valley Bank,</td>\n      <td>5.105</td>\n      <td>1.368</td>\n    </tr>\n    <tr>\n      <th>4</th>\n      <td>rlj2Y466wxg</td>\n      <td>https://www.youtube.com/watch?v=rlj2Y466wxg</td>\n      <td>and it is one of the tech industry's</td>\n      <td>6.473</td>\n      <td>1.535</td>\n    </tr>\n    <tr>\n      <th>...</th>\n      <td>...</td>\n      <td>...</td>\n      <td>...</td>\n      <td>...</td>\n      <td>...</td>\n    </tr>\n    <tr>\n      <th>48160</th>\n      <td>VhzFZ4errj4</td>\n      <td>https://www.youtube.com/watch?v=VhzFZ4errj4</td>\n      <td>Structurally</td>\n      <td>791.357</td>\n      <td>3.236</td>\n    </tr>\n    <tr>\n      <th>48161</th>\n      <td>VhzFZ4errj4</td>\n      <td>https://www.youtube.com/watch?v=VhzFZ4errj4</td>\n      <td>but</td>\n      <td>1037.102</td>\n      <td>2.936</td>\n    </tr>\n    <tr>\n      <th>48162</th>\n      <td>VhzFZ4errj4</td>\n      <td>https://www.youtube.com/watch?v=VhzFZ4errj4</td>\n      <td>average realization</td>\n      <td>1078.510</td>\n      <td>4.270</td>\n    </tr>\n    <tr>\n      <th>48163</th>\n      <td>VhzFZ4errj4</td>\n      <td>https://www.youtube.com/watch?v=VhzFZ4errj4</td>\n      <td>he say his situation</td>\n      <td>1127.859</td>\n      <td>4.137</td>\n    </tr>\n    <tr>\n      <th>48164</th>\n      <td>VhzFZ4errj4</td>\n      <td>https://www.youtube.com/watch?v=VhzFZ4errj4</td>\n      <td>India</td>\n      <td>1133.665</td>\n      <td>3.069</td>\n    </tr>\n  </tbody>\n</table>\n<p>48165 rows × 5 columns</p>\n</div>",
       "datasetInfos": [],
       "metadata": {},
       "removedWidgets": [],
       "textData": null,
       "type": "htmlSandbox"
      }
     },
     "output_type": "display_data"
    }
   ],
   "source": [
    "df2"
   ]
  },
  {
   "cell_type": "code",
   "execution_count": 0,
   "metadata": {
    "application/vnd.databricks.v1+cell": {
     "cellMetadata": {
      "byteLimit": 2048000,
      "rowLimit": 10000
     },
     "inputWidgets": {},
     "nuid": "951abe8c-6777-401d-8979-50ac7a53377b",
     "showTitle": false,
     "title": ""
    }
   },
   "outputs": [
    {
     "output_type": "stream",
     "name": "stdout",
     "output_type": "stream",
     "text": [
      "Out[34]: Index(['video_id ', 'video_url ', 'text ', 'start ', 'duration '], dtype='object')"
     ]
    }
   ],
   "source": [
    "df2.columns"
   ]
  },
  {
   "cell_type": "code",
   "execution_count": 0,
   "metadata": {
    "application/vnd.databricks.v1+cell": {
     "cellMetadata": {
      "byteLimit": 2048000,
      "rowLimit": 10000
     },
     "inputWidgets": {},
     "nuid": "12b9a33a-a1fd-41e4-b7d4-8965270c0d44",
     "showTitle": false,
     "title": ""
    }
   },
   "outputs": [],
   "source": [
    "doc = df2['text '].tolist()"
   ]
  },
  {
   "cell_type": "code",
   "execution_count": 0,
   "metadata": {
    "application/vnd.databricks.v1+cell": {
     "cellMetadata": {
      "byteLimit": 2048000,
      "rowLimit": 10000
     },
     "inputWidgets": {},
     "nuid": "24c5e0f8-b12c-433f-8716-b7e73085d522",
     "showTitle": false,
     "title": ""
    }
   },
   "outputs": [],
   "source": [
    "doc_df = pd.DataFrame(doc)"
   ]
  },
  {
   "cell_type": "code",
   "execution_count": 0,
   "metadata": {
    "application/vnd.databricks.v1+cell": {
     "cellMetadata": {
      "byteLimit": 2048000,
      "rowLimit": 10000
     },
     "inputWidgets": {},
     "nuid": "e00b44a1-d1a5-4b18-a24f-92ed21c1ef98",
     "showTitle": false,
     "title": ""
    }
   },
   "outputs": [
    {
     "output_type": "display_data",
     "data": {
      "text/html": [
       "<div>\n",
       "<style scoped>\n",
       "    .dataframe tbody tr th:only-of-type {\n",
       "        vertical-align: middle;\n",
       "    }\n",
       "\n",
       "    .dataframe tbody tr th {\n",
       "        vertical-align: top;\n",
       "    }\n",
       "\n",
       "    .dataframe thead th {\n",
       "        text-align: right;\n",
       "    }\n",
       "</style>\n",
       "<table border=\"1\" class=\"dataframe\">\n",
       "  <thead>\n",
       "    <tr style=\"text-align: right;\">\n",
       "      <th></th>\n",
       "      <th>0</th>\n",
       "    </tr>\n",
       "  </thead>\n",
       "  <tbody>\n",
       "    <tr>\n",
       "      <th>0</th>\n",
       "      <td>The biggest bank collapse</td>\n",
       "    </tr>\n",
       "    <tr>\n",
       "      <th>1</th>\n",
       "      <td>since the 2008 financial crisis.</td>\n",
       "    </tr>\n",
       "    <tr>\n",
       "      <th>2</th>\n",
       "      <td>And it shut down today.</td>\n",
       "    </tr>\n",
       "    <tr>\n",
       "      <th>3</th>\n",
       "      <td>It's called the Silicon Valley Bank,</td>\n",
       "    </tr>\n",
       "    <tr>\n",
       "      <th>4</th>\n",
       "      <td>and it is one of the tech industry's</td>\n",
       "    </tr>\n",
       "    <tr>\n",
       "      <th>...</th>\n",
       "      <td>...</td>\n",
       "    </tr>\n",
       "    <tr>\n",
       "      <th>48160</th>\n",
       "      <td>Structurally</td>\n",
       "    </tr>\n",
       "    <tr>\n",
       "      <th>48161</th>\n",
       "      <td>but</td>\n",
       "    </tr>\n",
       "    <tr>\n",
       "      <th>48162</th>\n",
       "      <td>average realization</td>\n",
       "    </tr>\n",
       "    <tr>\n",
       "      <th>48163</th>\n",
       "      <td>he say his situation</td>\n",
       "    </tr>\n",
       "    <tr>\n",
       "      <th>48164</th>\n",
       "      <td>India</td>\n",
       "    </tr>\n",
       "  </tbody>\n",
       "</table>\n",
       "<p>48165 rows × 1 columns</p>\n",
       "</div>"
      ]
     },
     "metadata": {
      "application/vnd.databricks.v1+output": {
       "addedWidgets": {},
       "arguments": {},
       "data": "<div>\n<style scoped>\n    .dataframe tbody tr th:only-of-type {\n        vertical-align: middle;\n    }\n\n    .dataframe tbody tr th {\n        vertical-align: top;\n    }\n\n    .dataframe thead th {\n        text-align: right;\n    }\n</style>\n<table border=\"1\" class=\"dataframe\">\n  <thead>\n    <tr style=\"text-align: right;\">\n      <th></th>\n      <th>0</th>\n    </tr>\n  </thead>\n  <tbody>\n    <tr>\n      <th>0</th>\n      <td>The biggest bank collapse</td>\n    </tr>\n    <tr>\n      <th>1</th>\n      <td>since the 2008 financial crisis.</td>\n    </tr>\n    <tr>\n      <th>2</th>\n      <td>And it shut down today.</td>\n    </tr>\n    <tr>\n      <th>3</th>\n      <td>It's called the Silicon Valley Bank,</td>\n    </tr>\n    <tr>\n      <th>4</th>\n      <td>and it is one of the tech industry's</td>\n    </tr>\n    <tr>\n      <th>...</th>\n      <td>...</td>\n    </tr>\n    <tr>\n      <th>48160</th>\n      <td>Structurally</td>\n    </tr>\n    <tr>\n      <th>48161</th>\n      <td>but</td>\n    </tr>\n    <tr>\n      <th>48162</th>\n      <td>average realization</td>\n    </tr>\n    <tr>\n      <th>48163</th>\n      <td>he say his situation</td>\n    </tr>\n    <tr>\n      <th>48164</th>\n      <td>India</td>\n    </tr>\n  </tbody>\n</table>\n<p>48165 rows × 1 columns</p>\n</div>",
       "datasetInfos": [],
       "metadata": {},
       "removedWidgets": [],
       "textData": null,
       "type": "htmlSandbox"
      }
     },
     "output_type": "display_data"
    }
   ],
   "source": [
    "doc_df"
   ]
  },
  {
   "cell_type": "code",
   "execution_count": 0,
   "metadata": {
    "application/vnd.databricks.v1+cell": {
     "cellMetadata": {
      "byteLimit": 2048000,
      "rowLimit": 10000
     },
     "inputWidgets": {},
     "nuid": "8190d1c9-3ddf-453b-ba0b-464b5513c0cd",
     "showTitle": false,
     "title": ""
    }
   },
   "outputs": [
    {
     "output_type": "stream",
     "name": "stdout",
     "output_type": "stream",
     "text": [
      "Out[26]: ['Madam Speaker, Madam Vice President, our First Lady and Second Gentleman. Members of Congress and the Cabinet. Justices of the Supreme Court. My fellow Americans.  \\n',\n '\\n',\n 'Last year COVID-19 kept us apart. This year we are finally together again. \\n',\n '\\n',\n 'Tonight, we meet as Democrats Republicans and Independents. But most importantly as Americans. \\n',\n '\\n',\n 'With a duty to one another to the American people to the Constitution. \\n',\n '\\n',\n 'And with an unwavering resolve that freedom will always triumph over tyranny. \\n',\n '\\n',\n 'Six days ago, Russia’s Vladimir Putin sought to shake the foundations of the free world thinking he could make it bend to his menacing ways. But he badly miscalculated. \\n',\n '\\n',\n 'He thought he could roll into Ukraine and the world would roll over. Instead he met a wall of strength he never imagined. \\n',\n '\\n',\n 'He met the Ukrainian people. \\n',\n '\\n',\n 'From President Zelenskyy to every Ukrainian, their fearlessness, their courage, their determination, inspires the world. \\n',\n '\\n',\n 'Groups of citizens blocking tanks with their bodies. Everyone from students to retirees teachers turned soldiers defending their homeland. \\n',\n '\\n',\n 'In this struggle as President Zelenskyy said in his speech to the European Parliament “Light will win over darkness.” The Ukrainian Ambassador to the United States is here tonight. \\n',\n '\\n',\n 'Let each of us here tonight in this Chamber send an unmistakable signal to Ukraine and to the world. \\n',\n '\\n',\n 'Please rise if you are able and show that, Yes, we the United States of America stand with the Ukrainian people. \\n',\n '\\n',\n 'Throughout our history we’ve learned this lesson when dictators do not pay a price for their aggression they cause more chaos.   \\n',\n '\\n',\n 'They keep moving.   \\n',\n '\\n',\n 'And the costs and the threats to America and the world keep rising.   \\n',\n '\\n',\n 'That’s why the NATO Alliance was created to secure peace and stability in Europe after World War 2. \\n',\n '\\n',\n 'The United States is a member along with 29 other nations. \\n',\n '\\n',\n 'It matters. American diplomacy matters. American resolve matters. \\n',\n '\\n',\n 'Putin’s latest attack on Ukraine was premeditated and unprovoked. \\n',\n '\\n',\n 'He rejected repeated efforts at diplomacy. \\n',\n '\\n',\n 'He thought the West and NATO wouldn’t respond. And he thought he could divide us at home. Putin was wrong. We were ready.  Here is what we did.   \\n',\n '\\n',\n 'We prepared extensively and carefully. \\n',\n '\\n',\n 'We spent months building a coalition of other freedom-loving nations from Europe and the Americas to Asia and Africa to confront Putin. \\n',\n '\\n',\n 'I spent countless hours unifying our European allies. We shared with the world in advance what we knew Putin was planning and precisely how he would try to falsely justify his aggression.  \\n',\n '\\n',\n 'We countered Russia’s lies with truth.   \\n',\n '\\n',\n 'And now that he has acted the free world is holding him accountable. \\n',\n '\\n',\n 'Along with twenty-seven members of the European Union including France, Germany, Italy, as well as countries like the United Kingdom, Canada, Japan, Korea, Australia, New Zealand, and many others, even Switzerland. \\n',\n '\\n',\n 'We are inflicting pain on Russia and supporting the people of Ukraine. Putin is now isolated from the world more than ever. \\n',\n '\\n',\n 'Together with our allies –we are right now enforcing powerful economic sanctions. \\n',\n '\\n',\n 'We are cutting off Russia’s largest banks from the international financial system.  \\n',\n '\\n',\n 'Preventing Russia’s central bank from defending the Russian Ruble making Putin’s $630 Billion “war fund” worthless.   \\n',\n '\\n',\n 'We are choking off Russia’s access to technology that will sap its economic strength and weaken its military for years to come.  \\n',\n '\\n',\n 'Tonight I say to the Russian oligarchs and corrupt leaders who have bilked billions of dollars off this violent regime no more. \\n',\n '\\n',\n 'The U.S. Department of Justice is assembling a dedicated task force to go after the crimes of Russian oligarchs.  \\n',\n '\\n',\n 'We are joining with our European allies to find and seize your yachts your luxury apartments your private jets. We are coming for your ill-begotten gains. \\n',\n '\\n',\n 'And tonight I am announcing that we will join our allies in closing off American air space to all Russian flights – further isolating Russia – and adding an additional squeeze –on their economy. The Ruble has lost 30% of its value. \\n',\n '\\n',\n 'The Russian stock market has lost 40% of its value and trading remains suspended. Russia’s economy is reeling and Putin alone is to blame. \\n',\n '\\n',\n 'Together with our allies we are providing support to the Ukrainians in their fight for freedom. Military assistance. Economic assistance. Humanitarian assistance. \\n',\n '\\n',\n 'We are giving more than $1 Billion in direct assistance to Ukraine. \\n',\n '\\n',\n 'And we will continue to aid the Ukrainian people as they defend their country and to help ease their suffering.  \\n',\n '\\n',\n 'Let me be clear, our forces are not engaged and will not engage in conflict with Russian forces in Ukraine.  \\n',\n '\\n',\n 'Our forces are not going to Europe to fight in Ukraine, but to defend our NATO Allies – in the event that Putin decides to keep moving west.  \\n',\n '\\n',\n 'For that purpose we’ve mobilized American ground forces, air squadrons, and ship deployments to protect NATO countries including Poland, Romania, Latvia, Lithuania, and Estonia. \\n',\n '\\n',\n 'As I have made crystal clear the United States and our Allies will defend every inch of territory of NATO countries with the full force of our collective power.  \\n',\n '\\n',\n 'And we remain clear-eyed. The Ukrainians are fighting back with pure courage. But the next few days weeks, months, will be hard on them.  \\n',\n '\\n',\n 'Putin has unleashed violence and chaos.  But while he may make gains on the battlefield – he will pay a continuing high price over the long run. \\n',\n '\\n',\n 'And a proud Ukrainian people, who have known 30 years  of independence, have repeatedly shown that they will not tolerate anyone who tries to take their country backwards.  \\n',\n '\\n',\n 'To all Americans, I will be honest with you, as I’ve always promised. A Russian dictator, invading a foreign country, has costs around the world. \\n',\n '\\n',\n 'And I’m taking robust action to make sure the pain of our sanctions  is targeted at Russia’s economy. And I will use every tool at our disposal to protect American businesses and consumers. \\n',\n '\\n',\n 'Tonight, I can announce that the United States has worked with 30 other countries to release 60 Million barrels of oil from reserves around the world.  \\n',\n '\\n',\n 'America will lead that effort, releasing 30 Million barrels from our own Strategic Petroleum Reserve. And we stand ready to do more if necessary, unified with our allies.  \\n',\n '\\n',\n 'These steps will help blunt gas prices here at home. And I know the news about what’s happening can seem alarming. \\n',\n '\\n',\n 'But I want you to know that we are going to be okay. \\n',\n '\\n',\n 'When the history of this era is written Putin’s war on Ukraine will have left Russia weaker and the rest of the world stronger. \\n',\n '\\n',\n 'While it shouldn’t have taken something so terrible for people around the world to see what’s at stake now everyone sees it clearly. \\n',\n '\\n',\n 'We see the unity among leaders of nations and a more unified Europe a more unified West. And we see unity among the people who are gathering in cities in large crowds around the world even in Russia to demonstrate their support for Ukraine.  \\n',\n '\\n',\n 'In the battle between democracy and autocracy, democracies are rising to the moment, and the world is clearly choosing the side of peace and security. \\n',\n '\\n',\n 'This is a real test. It’s going to take time. So let us continue to draw inspiration from the iron will of the Ukrainian people. \\n',\n '\\n',\n 'To our fellow Ukrainian Americans who forge a deep bond that connects our two nations we stand with you. \\n',\n '\\n',\n 'Putin may circle Kyiv with tanks, but he will never gain the hearts and souls of the Ukrainian people. \\n',\n '\\n',\n 'He will never extinguish their love of freedom. He will never weaken the resolve of the free world. \\n',\n '\\n',\n 'We meet tonight in an America that has lived through two of the hardest years this nation has ever faced. \\n',\n '\\n',\n 'The pandemic has been punishing. \\n',\n '\\n',\n 'And so many families are living paycheck to paycheck, struggling to keep up with the rising cost of food, gas, housing, and so much more. \\n',\n '\\n',\n 'I understand. \\n',\n '\\n',\n 'I remember when my Dad had to leave our home in Scranton, Pennsylvania to find work. I grew up in a family where if the price of food went up, you felt it. \\n',\n '\\n',\n 'That’s why one of the first things I did as President was fight to pass the American Rescue Plan.  \\n',\n '\\n',\n 'Because people were hurting. We needed to act, and we did. \\n',\n '\\n',\n 'Few pieces of legislation have done more in a critical moment in our history to lift us out of crisis. \\n',\n '\\n',\n 'It fueled our efforts to vaccinate the nation and combat COVID-19. It delivered immediate economic relief for tens of millions of Americans.  \\n',\n '\\n',\n 'Helped put food on their table, keep a roof over their heads, and cut the cost of health insurance. \\n',\n '\\n',\n 'And as my Dad used to say, it gave people a little breathing room. \\n',\n '\\n',\n 'And unlike the $2 Trillion tax cut passed in the previous administration that benefitted the top 1% of Americans, the American Rescue Plan helped working people—and left no one behind. \\n',\n '\\n',\n 'And it worked. It created jobs. Lots of jobs. \\n',\n '\\n',\n 'In fact—our economy created over 6.5 Million new jobs just last year, more jobs created in one year  \\n',\n 'than ever before in the history of America. \\n',\n '\\n',\n 'Our economy grew at a rate of 5.7% last year, the strongest growth in nearly 40 years, the first step in bringing fundamental change to an economy that hasn’t worked for the working people of this nation for too long.  \\n',\n '\\n',\n 'For the past 40 years we were told that if we gave tax breaks to those at the very top, the benefits would trickle down to everyone else. \\n',\n '\\n',\n 'But that trickle-down theory led to weaker economic growth, lower wages, bigger deficits, and the widest gap between those at the top and everyone else in nearly a century. \\n',\n '\\n',\n 'Vice President Harris and I ran for office with a new economic vision for America. \\n',\n '\\n',\n 'Invest in America. Educate Americans. Grow the workforce. Build the economy from the bottom up  \\n',\n 'and the middle out, not from the top down.  \\n',\n '\\n',\n 'Because we know that when the middle class grows, the poor have a ladder up and the wealthy do very well. \\n',\n '\\n',\n 'America used to have the best roads, bridges, and airports on Earth. \\n',\n '\\n',\n 'Now our infrastructure is ranked 13th in the world. \\n',\n '\\n',\n 'We won’t be able to compete for the jobs of the 21st Century if we don’t fix that. \\n',\n '\\n',\n 'That’s why it was so important to pass the Bipartisan Infrastructure Law—the most sweeping investment to rebuild America in history. \\n',\n '\\n',\n 'This was a bipartisan effort, and I want to thank the members of both parties who worked to make it happen. \\n',\n '\\n',\n 'We’re done talking about infrastructure weeks. \\n',\n '\\n',\n 'We’re going to have an infrastructure decade. \\n',\n '\\n',\n 'It is going to transform America and put us on a path to win the economic competition of the 21st Century that we face with the rest of the world—particularly with China.  \\n',\n '\\n',\n 'As I’ve told Xi Jinping, it is never a good bet to bet against the American people. \\n',\n '\\n',\n 'We’ll create good jobs for millions of Americans, modernizing roads, airports, ports, and waterways all across America. \\n',\n '\\n',\n 'And we’ll do it all to withstand the devastating effects of the climate crisis and promote environmental justice. \\n',\n '\\n',\n 'We’ll build a national network of 500,000 electric vehicle charging stations, begin to replace poisonous lead pipes—so every child—and every American—has clean water to drink at home and at school, provide affordable high-speed internet for every American—urban, suburban, rural, and tribal communities. \\n',\n '\\n',\n '4,000 projects have already been announced. \\n',\n '\\n',\n 'And tonight, I’m announcing that this year we will start fixing over 65,000 miles of highway and 1,500 bridges in disrepair. \\n',\n '\\n',\n 'When we use taxpayer dollars to rebuild America – we are going to Buy American: buy American products to support American jobs. \\n',\n '\\n',\n 'The federal government spends about $600 Billion a year to keep the country safe and secure. \\n',\n '\\n',\n 'There’s been a law on the books for almost a century \\n',\n 'to make sure taxpayers’ dollars support American jobs and businesses. \\n',\n '\\n',\n 'Every Administration says they’ll do it, but we are actually doing it. \\n',\n '\\n',\n 'We will buy American to make sure everything from the deck of an aircraft carrier to the steel on highway guardrails are made in America. \\n',\n '\\n',\n 'But to compete for the best jobs of the future, we also need to level the playing field with China and other competitors. \\n',\n '\\n',\n 'That’s why it is so important to pass the Bipartisan Innovation Act sitting in Congress that will make record investments in emerging technologies and American manufacturing. \\n',\n '\\n',\n 'Let me give you one example of why it’s so important to pass it. \\n',\n '\\n',\n 'If you travel 20 miles east of Columbus, Ohio, you’ll find 1,000 empty acres of land. \\n',\n '\\n',\n 'It won’t look like much, but if you stop and look closely, you’ll see a “Field of dreams,” the ground on which America’s future will be built. \\n',\n '\\n',\n 'This is where Intel, the American company that helped build Silicon Valley, is going to build its $20 billion semiconductor “mega site”. \\n',\n '\\n',\n 'Up to eight state-of-the-art factories in one place. 10,000 new good-paying jobs. \\n',\n '\\n',\n 'Some of the most sophisticated manufacturing in the world to make computer chips the size of a fingertip that power the world and our everyday lives. \\n',\n '\\n',\n 'Smartphones. The Internet. Technology we have yet to invent. \\n',\n '\\n',\n 'But that’s just the beginning. \\n',\n '\\n',\n 'Intel’s CEO, Pat Gelsinger, who is here tonight, told me they are ready to increase their investment from  \\n',\n '$20 billion to $100 billion. \\n',\n '\\n',\n 'That would be one of the biggest investments in manufacturing in American history. \\n',\n '\\n',\n 'And all they’re waiting for is for you to pass this bill. \\n',\n '\\n',\n 'So let’s not wait any longer. Send it to my desk. I’ll sign it.  \\n',\n '\\n',\n 'And we will really take off. \\n',\n '\\n',\n 'And Intel is not alone. \\n',\n '\\n',\n 'There’s something happening in America. \\n',\n '\\n',\n 'Just look around and you’ll see an amazing story. \\n',\n '\\n',\n 'The rebirth of the pride that comes from stamping products “Made In America.” The revitalization of American manufacturing.   \\n',\n '\\n',\n 'Companies are choosing to build new factories here, when just a few years ago, they would have built them overseas. \\n',\n '\\n',\n 'That’s what is happening. Ford is investing $11 billion to build electric vehicles, creating 11,000 jobs across the country. \\n',\n '\\n',\n 'GM is making the largest investment in its history—$7 billion to build electric vehicles, creating 4,000 jobs in Michigan. \\n',\n '\\n',\n 'All told, we created 369,000 new manufacturing jobs in America just last year. \\n',\n '\\n',\n 'Powered by people I’ve met like JoJo Burgess, from generations of union steelworkers from Pittsburgh, who’s here with us tonight. \\n',\n '\\n',\n 'As Ohio Senator Sherrod Brown says, “It’s time to bury the label “Rust Belt.” \\n',\n '\\n',\n 'It’s time. \\n',\n '\\n',\n 'But with all the bright spots in our economy, record job growth and higher wages, too many families are struggling to keep up with the bills.  \\n',\n '\\n',\n 'Inflation is robbing them of the gains they might otherwise feel. \\n',\n '\\n',\n 'I get it. That’s why my top priority is getting prices under control. \\n',\n '\\n',\n 'Look, our economy roared back faster than most predicted, but the pandemic meant that businesses had a hard time hiring enough workers to keep up production in their factories. \\n',\n '\\n',\n 'The pandemic also disrupted global supply chains. \\n',\n '\\n',\n 'When factories close, it takes longer to make goods and get them from the warehouse to the store, and prices go up. \\n',\n '\\n',\n 'Look at cars. \\n',\n '\\n',\n 'Last year, there weren’t enough semiconductors to make all the cars that people wanted to buy. \\n',\n '\\n',\n 'And guess what, prices of automobiles went up. \\n',\n '\\n',\n 'So—we have a choice. \\n',\n '\\n',\n 'One way to fight inflation is to drive down wages and make Americans poorer.  \\n',\n '\\n',\n 'I have a better plan to fight inflation. \\n',\n '\\n',\n 'Lower your costs, not your wages. \\n',\n '\\n',\n 'Make more cars and semiconductors in America. \\n',\n '\\n',\n 'More infrastructure and innovation in America. \\n',\n '\\n',\n 'More goods moving faster and cheaper in America. \\n',\n '\\n',\n 'More jobs where you can earn a good living in America. \\n',\n '\\n',\n 'And instead of relying on foreign supply chains, let’s make it in America. \\n',\n '\\n',\n 'Economists call it “increasing the productive capacity of our economy.” \\n',\n '\\n',\n 'I call it building a better America. \\n',\n '\\n',\n 'My plan to fight inflation will lower your costs and lower the deficit. \\n',\n '\\n',\n '17 Nobel laureates in economics say my plan will ease long-term inflationary pressures. Top business leaders and most Americans support my plan. And here’s the plan: \\n',\n '\\n',\n 'First – cut the cost of prescription drugs. Just look at insulin. One in ten Americans has diabetes. In Virginia, I met a 13-year-old boy named Joshua Davis.  \\n',\n '\\n',\n 'He and his Dad both have Type 1 diabetes, which means they need insulin every day. Insulin costs about $10 a vial to make.  \\n',\n '\\n',\n 'But drug companies charge families like Joshua and his Dad up to 30 times more. I spoke with Joshua’s mom. \\n',\n '\\n',\n 'Imagine what it’s like to look at your child who needs insulin and have no idea how you’re going to pay for it.  \\n',\n '\\n',\n 'What it does to your dignity, your ability to look your child in the eye, to be the parent you expect to be. \\n',\n '\\n',\n 'Joshua is here with us tonight. Yesterday was his birthday. Happy birthday, buddy.  \\n',\n '\\n',\n 'For Joshua, and for the 200,000 other young people with Type 1 diabetes, let’s cap the cost of insulin at $35 a month so everyone can afford it.  \\n',\n '\\n',\n 'Drug companies will still do very well. And while we’re at it let Medicare negotiate lower prices for prescription drugs, like the VA already does. \\n',\n '\\n',\n 'Look, the American Rescue Plan is helping millions of families on Affordable Care Act plans save $2,400 a year on their health care premiums. Let’s close the coverage gap and make those savings permanent. \\n',\n '\\n',\n 'Second – cut energy costs for families an average of $500 a year by combatting climate change.  \\n',\n '\\n',\n 'Let’s provide investments and tax credits to weatherize your homes and businesses to be energy efficient and you get a tax credit; double America’s clean energy production in solar, wind, and so much more;  lower the price of electric vehicles, saving you another $80 a month because you’ll never have to pay at the gas pump again. \\n',\n '\\n',\n 'Third – cut the cost of child care. Many families pay up to $14,000 a year for child care per child.  \\n',\n '\\n',\n 'Middle-class and working families shouldn’t have to pay more than 7% of their income for care of young children.  \\n',\n '\\n',\n 'My plan will cut the cost in half for most families and help parents, including millions of women, who left the workforce during the pandemic because they couldn’t afford child care, to be able to get back to work. \\n',\n '\\n',\n 'My plan doesn’t stop there. It also includes home and long-term care. More affordable housing. And Pre-K for every 3- and 4-year-old.  \\n',\n '\\n',\n 'All of these will lower costs. \\n',\n '\\n',\n 'And under my plan, nobody earning less than $400,000 a year will pay an additional penny in new taxes. Nobody.  \\n',\n '\\n',\n 'The one thing all Americans agree on is that the tax system is not fair. We have to fix it.  \\n',\n '\\n',\n 'I’m not looking to punish anyone. But let’s make sure corporations and the wealthiest Americans start paying their fair share. \\n',\n '\\n',\n 'Just last year, 55 Fortune 500 corporations earned $40 billion in profits and paid zero dollars in federal income tax.  \\n',\n '\\n',\n 'That’s simply not fair. That’s why I’ve proposed a 15% minimum tax rate for corporations. \\n',\n '\\n',\n 'We got more than 130 countries to agree on a global minimum tax rate so companies can’t get out of paying their taxes at home by shipping jobs and factories overseas. \\n',\n '\\n',\n 'That’s why I’ve proposed closing loopholes so the very wealthy don’t pay a lower tax rate than a teacher or a firefighter.  \\n',\n '\\n',\n 'So that’s my plan. It will grow the economy and lower costs for families. \\n',\n '\\n',\n 'So what are we waiting for? Let’s get this done. And while you’re at it, confirm my nominees to the Federal Reserve, which plays a critical role in fighting inflation.  \\n',\n '\\n',\n 'My plan will not only lower costs to give families a fair shot, it will lower the deficit. \\n',\n '\\n',\n 'The previous Administration not only ballooned the deficit with tax cuts for the very wealthy and corporations, it undermined the watchdogs whose job was to keep pandemic relief funds from being wasted. \\n',\n '\\n',\n 'But in my administration, the watchdogs have been welcomed back. \\n',\n '\\n',\n 'We’re going after the criminals who stole billions in relief money meant for small businesses and millions of Americans.  \\n',\n '\\n',\n 'And tonight, I’m announcing that the Justice Department will name a chief prosecutor for pandemic fraud. \\n',\n '\\n',\n 'By the end of this year, the deficit will be down to less than half what it was before I took office.  \\n',\n '\\n',\n 'The only president ever to cut the deficit by more than one trillion dollars in a single year. \\n',\n '\\n',\n 'Lowering your costs also means demanding more competition. \\n',\n '\\n',\n 'I’m a capitalist, but capitalism without competition isn’t capitalism. \\n',\n '\\n',\n 'It’s exploitation—and it drives up prices. \\n',\n '\\n',\n 'When corporations don’t have to compete, their profits go up, your prices go up, and small businesses and family farmers and ranchers go under. \\n',\n '\\n',\n 'We see it happening with ocean carriers moving goods in and out of America. \\n',\n '\\n',\n 'During the pandemic, these foreign-owned companies raised prices by as much as 1,000% and made record profits. \\n',\n '\\n',\n 'Tonight, I’m announcing a crackdown on these companies overcharging American businesses and consumers. \\n',\n '\\n',\n 'And as Wall Street firms take over more nursing homes, quality in those homes has gone down and costs have gone up.  \\n',\n '\\n',\n 'That ends on my watch. \\n',\n '\\n',\n 'Medicare is going to set higher standards for nursing homes and make sure your loved ones get the care they deserve and expect. \\n',\n '\\n',\n 'We’ll also cut costs and keep the economy going strong by giving workers a fair shot, provide more training and apprenticeships, hire them based on their skills not degrees. \\n',\n '\\n',\n 'Let’s pass the Paycheck Fairness Act and paid leave.  \\n',\n '\\n',\n 'Raise the minimum wage to $15 an hour and extend the Child Tax Credit, so no one has to raise a family in poverty. \\n',\n '\\n',\n 'Let’s increase Pell Grants and increase our historic support of HBCUs, and invest in what Jill—our First Lady who teaches full-time—calls America’s best-kept secret: community colleges. \\n',\n '\\n',\n 'And let’s pass the PRO Act when a majority of workers want to form a union—they shouldn’t be stopped.  \\n',\n '\\n',\n 'When we invest in our workers, when we build the economy from the bottom up and the middle out together, we can do something we haven’t done in a long time: build a better America. \\n',\n '\\n',\n 'For more than two years, COVID-19 has impacted every decision in our lives and the life of the nation. \\n',\n '\\n',\n 'And I know you’re tired, frustrated, and exhausted. \\n',\n '\\n',\n 'But I also know this. \\n',\n '\\n',\n 'Because of the progress we’ve made, because of your resilience and the tools we have, tonight I can say  \\n',\n 'we are moving forward safely, back to more normal routines.  \\n',\n '\\n',\n 'We’ve reached a new moment in the fight against COVID-19, with severe cases down to a level not seen since last July.  \\n',\n '\\n',\n 'Just a few days ago, the Centers for Disease Control and Prevention—the CDC—issued new mask guidelines. \\n',\n '\\n',\n 'Under these new guidelines, most Americans in most of the country can now be mask free.   \\n',\n '\\n',\n 'And based on the projections, more of the country will reach that point across the next couple of weeks. \\n',\n '\\n',\n 'Thanks to the progress we have made this past year, COVID-19 need no longer control our lives.  \\n',\n '\\n',\n 'I know some are talking about “living with COVID-19”. Tonight – I say that we will never just accept living with COVID-19. \\n',\n '\\n',\n 'We will continue to combat the virus as we do other diseases. And because this is a virus that mutates and spreads, we will stay on guard. \\n',\n '\\n',\n 'Here are four common sense steps as we move forward safely.  \\n',\n '\\n',\n 'First, stay protected with vaccines and treatments. We know how incredibly effective vaccines are. If you’re vaccinated and boosted you have the highest degree of protection. \\n',\n '\\n',\n 'We will never give up on vaccinating more Americans. Now, I know parents with kids under 5 are eager to see a vaccine authorized for their children. \\n',\n '\\n',\n 'The scientists are working hard to get that done and we’ll be ready with plenty of vaccines when they do. \\n',\n '\\n',\n 'We’re also ready with anti-viral treatments. If you get COVID-19, the Pfizer pill reduces your chances of ending up in the hospital by 90%.  \\n',\n '\\n',\n 'We’ve ordered more of these pills than anyone in the world. And Pfizer is working overtime to get us 1 Million pills this month and more than double that next month.  \\n',\n '\\n',\n 'And we’re launching the “Test to Treat” initiative so people can get tested at a pharmacy, and if they’re positive, receive antiviral pills on the spot at no cost.  \\n',\n '\\n',\n 'If you’re immunocompromised or have some other vulnerability, we have treatments and free high-quality masks. \\n',\n '\\n',\n 'We’re leaving no one behind or ignoring anyone’s needs as we move forward. \\n',\n '\\n',\n 'And on testing, we have made hundreds of millions of tests available for you to order for free.   \\n',\n '\\n',\n 'Even if you already ordered free tests tonight, I am announcing that you can order more from covidtests.gov starting next week. \\n',\n '\\n',\n 'Second – we must prepare for new variants. Over the past year, we’ve gotten much better at detecting new variants. \\n',\n '\\n',\n 'If necessary, we’ll be able to deploy new vaccines within 100 days instead of many more months or years.  \\n',\n '\\n',\n 'And, if Congress provides the funds we need, we’ll have new stockpiles of tests, masks, and pills ready if needed. \\n',\n '\\n',\n 'I cannot promise a new variant won’t come. But I can promise you we’ll do everything within our power to be ready if it does.  \\n',\n '\\n',\n 'Third – we can end the shutdown of schools and businesses. We have the tools we need. \\n',\n '\\n',\n 'It’s time for Americans to get back to work and fill our great downtowns again.  People working from home can feel safe to begin to return to the office.   \\n',\n '\\n',\n 'We’re doing that here in the federal government. The vast majority of federal workers will once again work in person. \\n',\n '\\n',\n 'Our schools are open. Let’s keep it that way. Our kids need to be in school. \\n',\n '\\n',\n 'And with 75% of adult Americans fully vaccinated and hospitalizations down by 77%, most Americans can remove their masks, return to work, stay in the classroom, and move forward safely. \\n',\n '\\n',\n 'We achieved this because we provided free vaccines, treatments, tests, and masks. \\n',\n '\\n',\n 'Of course, continuing this costs money. \\n',\n '\\n',\n 'I will soon send Congress a request. \\n',\n '\\n',\n 'The vast majority of Americans have used these tools and may want to again, so I expect Congress to pass it quickly.   \\n',\n '\\n',\n 'Fourth, we will continue vaccinating the world.     \\n',\n '\\n',\n 'We’ve sent 475 Million vaccine doses to 112 countries, more than any other nation. \\n',\n '\\n',\n 'And we won’t stop. \\n',\n '\\n',\n 'We have lost so much to COVID-19. Time with one another. And worst of all, so much loss of life. \\n',\n '\\n',\n 'Let’s use this moment to reset. Let’s stop looking at COVID-19 as a partisan dividing line and see it for what it is: A God-awful disease.  \\n',\n '\\n',\n 'Let’s stop seeing each other as enemies, and start seeing each other for who we really are: Fellow Americans.  \\n',\n '\\n',\n 'We can’t change how divided we’ve been. But we can change how we move forward—on COVID-19 and other issues we must face together. \\n',\n '\\n',\n 'I recently visited the New York City Police Department days after the funerals of Officer Wilbert Mora and his partner, Officer Jason Rivera. \\n',\n '\\n',\n 'They were responding to a 9-1-1 call when a man shot and killed them with a stolen gun. \\n',\n '\\n',\n 'Officer Mora was 27 years old. \\n',\n '\\n',\n 'Officer Rivera was 22. \\n',\n '\\n',\n 'Both Dominican Americans who’d grown up on the same streets they later chose to patrol as police officers. \\n',\n '\\n',\n 'I spoke with their families and told them that we are forever in debt for their sacrifice, and we will carry on their mission to restore the trust and safety every community deserves. \\n',\n '\\n',\n 'I’ve worked on these issues a long time. \\n',\n '\\n',\n 'I know what works: Investing in crime preventionand community police officers who’ll walk the beat, who’ll know the neighborhood, and who can restore trust and safety. \\n',\n '\\n',\n 'So let’s not abandon our streets. Or choose between safety and equal justice. \\n',\n '\\n',\n 'Let’s come together to protect our communities, restore trust, and hold law enforcement accountable. \\n',\n '\\n',\n 'That’s why the Justice Department required body cameras, banned chokeholds, and restricted no-knock warrants for its officers. \\n',\n '\\n',\n 'That’s why the American Rescue Plan provided $350 Billion that cities, states, and counties can use to hire more police and invest in proven strategies like community violence interruption—trusted messengers breaking the cycle of violence and trauma and giving young people hope.  \\n',\n '\\n',\n 'We should all agree: The answer is not to Defund the police. The answer is to FUND the police with the resources and training they need to protect our communities. \\n',\n '\\n',\n 'I ask Democrats and Republicans alike: Pass my budget and keep our neighborhoods safe.  \\n',\n '\\n',\n 'And I will keep doing everything in my power to crack down on gun trafficking and ghost guns you can buy online and make at home—they have no serial numbers and can’t be traced. \\n',\n '\\n',\n 'And I ask Congress to pass proven measures to reduce gun violence. Pass universal background checks. Why should anyone on a terrorist list be able to purchase a weapon? \\n',\n '\\n',\n 'Ban assault weapons and high-capacity magazines. \\n',\n '\\n',\n 'Repeal the liability shield that makes gun manufacturers the only industry in America that can’t be sued. \\n',\n '\\n',\n 'These laws don’t infringe on the Second Amendment. They save lives. \\n',\n '\\n',\n 'The most fundamental right in America is the right to vote – and to have it counted. And it’s under assault. \\n',\n '\\n',\n 'In state after state, new laws have been passed, not only to suppress the vote, but to subvert entire elections. \\n',\n '\\n',\n 'We cannot let this happen. \\n',\n '\\n',\n 'Tonight. I call on the Senate to: Pass the Freedom to Vote Act. Pass the John Lewis Voting Rights Act. And while you’re at it, pass the Disclose Act so Americans can know who is funding our elections. \\n',\n '\\n',\n 'Tonight, I’d like to honor someone who has dedicated his life to serve this country: Justice Stephen Breyer—an Army veteran, Constitutional scholar, and retiring Justice of the United States Supreme Court. Justice Breyer, thank you for your service. \\n',\n '\\n',\n 'One of the most serious constitutional responsibilities a President has is nominating someone to serve on the United States Supreme Court. \\n',\n '\\n',\n 'And I did that 4 days ago, when I nominated Circuit Court of Appeals Judge Ketanji Brown Jackson. One of our nation’s top legal minds, who will continue Justice Breyer’s legacy of excellence. \\n',\n '\\n',\n 'A former top litigator in private practice. A former federal public defender. And from a family of public school educators and police officers. A consensus builder. Since she’s been nominated, she’s received a broad range of support—from the Fraternal Order of Police to former judges appointed by Democrats and Republicans. \\n',\n '\\n',\n 'And if we are to advance liberty and justice, we need to secure the Border and fix the immigration system. \\n',\n '\\n',\n 'We can do both. At our border, we’ve installed new technology like cutting-edge scanners to better detect drug smuggling.  \\n',\n '\\n',\n 'We’ve set up joint patrols with Mexico and Guatemala to catch more human traffickers.  \\n',\n '\\n',\n 'We’re putting in place dedicated immigration judges so families fleeing persecution and violence can have their cases heard faster. \\n',\n '\\n',\n 'We’re securing commitments and supporting partners in South and Central America to host more refugees and secure their own borders. \\n',\n '\\n',\n 'We can do all this while keeping lit the torch of liberty that has led generations of immigrants to this land—my forefathers and so many of yours. \\n',\n '\\n',\n 'Provide a pathway to citizenship for Dreamers, those on temporary status, farm workers, and essential workers. \\n',\n '\\n',\n 'Revise our laws so businesses have the workers they need and families don’t wait decades to reunite. \\n',\n '\\n',\n 'It’s not only the right thing to do—it’s the economically smart thing to do. \\n',\n '\\n',\n 'That’s why immigration reform is supported by everyone from labor unions to religious leaders to the U.S. Chamber of Commerce. \\n',\n '\\n',\n 'Let’s get it done once and for all. \\n',\n '\\n',\n 'Advancing liberty and justice also requires protecting the rights of women. \\n',\n '\\n',\n 'The constitutional right affirmed in Roe v. Wade—standing precedent for half a century—is under attack as never before. \\n',\n '\\n',\n 'If we want to go forward—not backward—we must protect access to health care. Preserve a woman’s right to choose. And let’s continue to advance maternal health care in America. \\n',\n '\\n',\n 'And for our LGBTQ+ Americans, let’s finally get the bipartisan Equality Act to my desk. The onslaught of state laws targeting transgender Americans and their families is wrong. \\n',\n '\\n',\n 'As I said last year, especially to our younger transgender Americans, I will always have your back as your President, so you can be yourself and reach your God-given potential. \\n',\n '\\n',\n 'While it often appears that we never agree, that isn’t true. I signed 80 bipartisan bills into law last year. From preventing government shutdowns to protecting Asian-Americans from still-too-common hate crimes to reforming military justice. \\n',\n '\\n',\n 'And soon, we’ll strengthen the Violence Against Women Act that I first wrote three decades ago. It is important for us to show the nation that we can come together and do big things. \\n',\n '\\n',\n 'So tonight I’m offering a Unity Agenda for the Nation. Four big things we can do together.  \\n',\n '\\n',\n 'First, beat the opioid epidemic. \\n',\n '\\n',\n 'There is so much we can do. Increase funding for prevention, treatment, harm reduction, and recovery.  \\n',\n '\\n',\n 'Get rid of outdated rules that stop doctors from prescribing treatments. And stop the flow of illicit drugs by working with state and local law enforcement to go after traffickers. \\n',\n '\\n',\n 'If you’re suffering from addiction, know you are not alone. I believe in recovery, and I celebrate the 23 million Americans in recovery. \\n',\n '\\n',\n 'Second, let’s take on mental health. Especially among our children, whose lives and education have been turned upside down.  \\n',\n '\\n',\n 'The American Rescue Plan gave schools money to hire teachers and help students make up for lost learning.  \\n',\n '\\n',\n 'I urge every parent to make sure your school does just that. And we can all play a part—sign up to be a tutor or a mentor. \\n',\n '\\n',\n 'Children were also struggling before the pandemic. Bullying, violence, trauma, and the harms of social media. \\n',\n '\\n',\n 'As Frances Haugen, who is here with us tonight, has shown, we must hold social media platforms accountable for the national experiment they’re conducting on our children for profit. \\n',\n '\\n',\n 'It’s time to strengthen privacy protections, ban targeted advertising to children, demand tech companies stop collecting personal data on our children. \\n',\n '\\n',\n 'And let’s get all Americans the mental health services they need. More people they can turn to for help, and full parity between physical and mental health care. \\n',\n '\\n',\n 'Third, support our veterans. \\n',\n '\\n',\n 'Veterans are the best of us. \\n',\n '\\n',\n 'I’ve always believed that we have a sacred obligation to equip all those we send to war and care for them and their families when they come home. \\n',\n '\\n',\n 'My administration is providing assistance with job training and housing, and now helping lower-income veterans get VA care debt-free.  \\n',\n '\\n',\n 'Our troops in Iraq and Afghanistan faced many dangers. \\n',\n '\\n',\n 'One was stationed at bases and breathing in toxic smoke from “burn pits” that incinerated wastes of war—medical and hazard material, jet fuel, and more. \\n',\n '\\n',\n 'When they came home, many of the world’s fittest and best trained warriors were never the same. \\n',\n '\\n',\n 'Headaches. Numbness. Dizziness. \\n',\n '\\n',\n 'A cancer that would put them in a flag-draped coffin. \\n',\n '\\n',\n 'I know. \\n',\n '\\n',\n 'One of those soldiers was my son Major Beau Biden. \\n',\n '\\n',\n 'We don’t know for sure if a burn pit was the cause of his brain cancer, or the diseases of so many of our troops. \\n',\n '\\n',\n 'But I’m committed to finding out everything we can. \\n',\n '\\n',\n 'Committed to military families like Danielle Robinson from Ohio. \\n',\n '\\n',\n 'The widow of Sergeant First Class Heath Robinson.  \\n',\n '\\n',\n 'He was born a soldier. Army National Guard. Combat medic in Kosovo and Iraq. \\n',\n '\\n',\n 'Stationed near Baghdad, just yards from burn pits the size of football fields. \\n',\n '\\n',\n 'Heath’s widow Danielle is here with us tonight. They loved going to Ohio State football games. He loved building Legos with their daughter. \\n',\n '\\n',\n 'But cancer from prolonged exposure to burn pits ravaged Heath’s lungs and body. \\n',\n '\\n',\n 'Danielle says Heath was a fighter to the very end. \\n',\n '\\n',\n 'He didn’t know how to stop fighting, and neither did she. \\n',\n '\\n',\n 'Through her pain she found purpose to demand we do better. \\n',\n '\\n',\n 'Tonight, Danielle—we are. \\n',\n '\\n',\n 'The VA is pioneering new ways of linking toxic exposures to diseases, already helping more veterans get benefits. \\n',\n '\\n',\n 'And tonight, I’m announcing we’re expanding eligibility to veterans suffering from nine respiratory cancers. \\n',\n '\\n',\n 'I’m also calling on Congress: pass a law to make sure veterans devastated by toxic exposures in Iraq and Afghanistan finally get the benefits and comprehensive health care they deserve. \\n',\n '\\n',\n 'And fourth, let’s end cancer as we know it. \\n',\n '\\n',\n 'This is personal to me and Jill, to Kamala, and to so many of you. \\n',\n '\\n',\n 'Cancer is the #2 cause of death in America–second only to heart disease. \\n',\n '\\n',\n 'Last month, I announced our plan to supercharge  \\n',\n 'the Cancer Moonshot that President Obama asked me to lead six years ago. \\n',\n '\\n',\n 'Our goal is to cut the cancer death rate by at least 50% over the next 25 years, turn more cancers from death sentences into treatable diseases.  \\n',\n '\\n',\n 'More support for patients and families. \\n',\n '\\n',\n 'To get there, I call on Congress to fund ARPA-H, the Advanced Research Projects Agency for Health. \\n',\n '\\n',\n 'It’s based on DARPA—the Defense Department project that led to the Internet, GPS, and so much more.  \\n',\n '\\n',\n 'ARPA-H will have a singular purpose—to drive breakthroughs in cancer, Alzheimer’s, diabetes, and more. \\n',\n '\\n',\n 'A unity agenda for the nation. \\n',\n '\\n',\n 'We can do this. \\n',\n '\\n',\n 'My fellow Americans—tonight , we have gathered in a sacred space—the citadel of our democracy. \\n',\n '\\n',\n 'In this Capitol, generation after generation, Americans have debated great questions amid great strife, and have done great things. \\n',\n '\\n',\n 'We have fought for freedom, expanded liberty, defeated totalitarianism and terror. \\n',\n '\\n',\n 'And built the strongest, freest, and most prosperous nation the world has ever known. \\n',\n '\\n',\n 'Now is the hour. \\n',\n '\\n',\n 'Our moment of responsibility. \\n',\n '\\n',\n 'Our test of resolve and conscience, of history itself. \\n',\n '\\n',\n 'It is in this moment that our character is formed. Our purpose is found. Our future is forged. \\n',\n '\\n',\n 'Well I know this nation.  \\n',\n '\\n',\n 'We will meet the test. \\n',\n '\\n',\n 'To protect freedom and liberty, to expand fairness and opportunity. \\n',\n '\\n',\n 'We will save democracy. \\n',\n '\\n',\n 'As hard as these times have been, I am more optimistic about America today than I have been my whole life. \\n',\n '\\n',\n 'Because I see the future that is within our grasp. \\n',\n '\\n',\n 'Because I know there is simply nothing beyond our capacity. \\n',\n '\\n',\n 'We are the only nation on Earth that has always turned every crisis we have faced into an opportunity. \\n',\n '\\n',\n 'The only nation that can be defined by a single word: possibilities. \\n',\n '\\n',\n 'So on this night, in our 245th year as a nation, I have come to report on the State of the Union. \\n',\n '\\n',\n 'And my report is this: the State of the Union is strong—because you, the American people, are strong. \\n',\n '\\n',\n 'We are stronger today than we were a year ago. \\n',\n '\\n',\n 'And we will be stronger a year from now than we are today. \\n',\n '\\n',\n 'Now is our moment to meet and overcome the challenges of our time. \\n',\n '\\n',\n 'And we will, as one people. \\n',\n '\\n',\n 'One America. \\n',\n '\\n',\n 'The United States of America. \\n',\n '\\n',\n 'May God bless you all. May God protect our troops.']"
     ]
    }
   ],
   "source": [
    "with open('/dbfs/FileStore/state_of_the_union.txt') as f:\n",
    "    sou = f.readlines()\n",
    "sou"
   ]
  },
  {
   "cell_type": "code",
   "execution_count": 0,
   "metadata": {
    "application/vnd.databricks.v1+cell": {
     "cellMetadata": {
      "byteLimit": 2048000,
      "rowLimit": 10000
     },
     "inputWidgets": {},
     "nuid": "8d1a1243-f7c4-463a-b423-37f4da6d31c8",
     "showTitle": false,
     "title": ""
    }
   },
   "outputs": [
    {
     "output_type": "stream",
     "name": "stdout",
     "output_type": "stream",
     "text": [
      "Out[33]: [\"The biggest bank collapse. since the 2008 financial crisis.. And it shut down today.. It's called the Silicon Valley Bank,. and it is one of the tech industry's. largest lenders also lend to individuals. across the country.. It is now under control. of the federal government.. It was a sudden implosion. and it came after a run on deposits.. So the bank stock lost. 80% of its value this week.. 60% in one day alone.. Yesterday, this morning, shares halted.. It was over quickly.. And then police showed up. at the bank headquarters. in California today.. You're looking at that here. Customers reportedly. even lined up at a bank. branch on Park Avenue in New York City.. The NYPD showed up there.. Those customers. demanding their deposits back.. Now to be clear,. Silicon Valley. Bank is a huge bank and its customers. include individuals as well as household. names, you may know, like Airbnb,. Pinterest, Cisco.. And this is a way bigger story.. The entire banking. industry is feeling the impact.. US banks at one. point had lost over. $100 billion in stock market value. in just two days.. And there are fears. now that this could spread beyond banking. to other parts of the economy.. This is like the SNL. crisis in the eighties.. We're not talking. about a failure of this bank,. but the banks could, you know, fail.. Not all of this is clearly an example. of something breaking.. We can assume that there are serious. contagion here.. Okay.. So when you use the word contagion,. it begs the question,. why could this happen at other banks?. Well, for one basic reason,. Silicon Valley Bank was doing. what a lot of other. banks are doing right now. slip to customer deposits.. And they went. and invested that money in other things. like U.S. government debt and mortgages.. And they've been doing that. for quite a while.. Well,. when the Fed started to hike rates. aggressively, that meant that Silicon. Valley bank. immediately lost money. on those investments. at the very same time. as they were losing money. as interest rates rose.. Those bank customers, those depositors,. they needed to withdraw more money.. So they started to sell assets,. losing money. just to raise the money,. needed to make good on deposit. withdrawal requests.. And then that turned. into a spiral of fear. and a race among customers. to withdraw assets. The run on the bank.. And yesterday afternoon,. the CEO of Silicon Valley Bank,. his name is Greg Becker,. hosted a call with clients. and said, quote,. My ask is to stay calm. because that's what's important.. We have been long term supporters of you.. The last thing we need you to do. is panic.. Well, when that's the ask as a bank,. you're toast.. And one person. familiar with the situation. asking me. the hypothetical question tonight. what prevents. runs on a whole bunch. more banks next week? Unclear.. It is an important moment.. And tonight,. the deputy treasury secretary,. Wally Adeyemo, is trying to calm fears.. In an exclusive interview with CNN,. federal. regulators are paying. attention to this. particular financial institution and that. when we think about the broader. financial system,. we're very confident in the ability. and the resilience of the system.. Alison Greenberg is OUTFRONT.. She is the CEO of Ruth Health.. It's a maternity care startup. that has money deposited in Silicon. Valley Bank.. So, Alison,. thank you very much for being with me.. So you are right in the middle of this.. Let's just start with.. When you realized you. a startup, you've got money at this bank.. You're using that money to make payroll. and other things.. When did you find out. something was wrong?. So my co-founder, Audrey Wu,. and I received an email. from one of our seed investors.. The email seemed cryptic.. It was strange. It was urgent.. It was not like the other email he sends. And we were in meetings.. You know, we run a busy. maternal health startup.. We have so many concerns every day. that this email just didn't make sense.. So a few hours later,. I called the investor and I said, Hey,. what was this email about?. He was out of breath,. like he had just run a marathon.. And he said, Take your money out of SBB,. go into your account,. take your money out as soon as possible.. And, you know, as a business owner,. my co-founder,. Adrian. I constantly think about two things.. We think about our team,. the people we employ and their families.. And we think about our patients,. the mothers, the new moms. and the families that we support. and their families.. And so for us, it was do this now. or else. Okay.. And this was what, yesterday. or the day before?. This was yesterday. between the hours of noon and 3 p.m... Yesterday between the hours of noon. and 3 p.m.. you get this.. So then you do it. You go and you.. And how does that happen?. They actually give you the money. I mean, these are the 3 hours. before the world fell apart.. So what happened then?. Well,. we were incredibly lucky. to have that news early from an investor.. We didn't withdraw the money immediately.. You know,. we're conscientious business owners.. We spoke to a few other investors.. We spoke to friends.. I mean,. this is like calls going off the hook. for the last 36 hours.. When we felt confident. that this was going to be a crisis.. Audrey acted fast.. And this is the kind of fear. that actually incites focus.. We withdrew the money. through transfers and wires. as soon as possible.. I mean, she was withdrawing. small amounts,. big amounts. just to not set off an eye. that might limit our withdrawals.. And we were able to remove. this was not our only bank account,. but we were able. to remove the majority of the funds. so that what was left. when the website crashed. was below the $250,000.. Right. So you have money there.. And I know the FDIC in terms of. because the amount. I mean, obviously. had a lot more than that there.. You were able to get that out.. The amount that you have. that's insured now. by the FDIC, the 250,000.. Your understanding. is you're going to get that. pretty much right away.. What we're hearing is by Monday. Okay.. So that that. I think that should give people calm.. The FDIC. if you're under the limit. it gives you. is a holding is holding strong on this.. So Barron's is reporting. that the CEO Greg Becker. I just mentioned him. I know you weren't on that call,. but he had that call. that he sold nearly $3.6 million in stock. less than two weeks ago.. That's obviously worth zero tonight.. I know you don't necessarily know. the circumstances of that.. And I'm not trying to say. it was nefarious I'm just saying.. What's your reaction when you hear that?. Erin, my reaction is. that this is so much bigger than a bank.. I run a nationwide telehealth company.. We serve,. you know, prenatal. and postpartum patients.. I have friends in health care, tech. and financial tech and property tech,. all of us see the impact on human life.. And so for us,. you know,. call with the CEO of the bank. is not our first priority.. Our first priority is securing. those funds.. And making sure we can meet. payroll on the 15th.. So, you know, the human impact of this,. I think, is something. I cannot underscore enough.. And, you know,. my heart goes out to. so many business owners,. not just startups, but small business,. agriculture,. all the kinds of companies. that bank with us. where their founders. and owners are struggling right now,. trying to make ends meet,. trying to make sense of you fear.. And what you see is,. I mean, we're. not even talking about other banks.. We're talking about ASB itself,. but that the impacts. of this are significant. I mean, they will affect. everyday Americans.. They will not just affect CDOs like me.. We have team members in Arkansas,. North Carolina,. Washington State, Minnesota,. those people would be affected, too,. had we not gotten those. funds out in time.\\n\",\n \"if I ask you that how rich Anil Ambani. is you will probably go on Google and. start typing how rich is Vanilla money. and then you will figure out that okay. he's actually bankrupt he filed for. bankruptcy but interestingly if you. actually look at the type of Lifestyle. he's currently enjoying by no measure he. would be considered as a bankrupt person. similarly if you study about Donald. Trump's wealth you will quickly figure. out that Mr Donald Trump has filed for. bankruptcy four times in his life then. again you will say that you know he. travels in like private jets he has his. own golf course he has like so much real. estate then by what definition is he. bankrupt the point that I'm trying to. outline through these simple stories is. that rich people despite bankruptcy they. are able to retain their wealth or many. of them are able to do that the prime. reason for that is that they actually. understand the law they also know how to. bend the rules without breaking them and. in the process they stay active they are. able to preserve that wealth this is. very different from the middle class. mindset that you and I usually have for. us we will always follow the rules we. will just go with the herd mentality. whatever new app is coming out we will. go and experiment with them so as a. result we get trapped into modern. Financial traps that are built for us. like new apps which the rich people. benefit by trapping us so on this video. I am going to speak about these eight. very modern traps that are set for you. these could be things like you know what. getting 12 guaranteed returns investing. 5000 rupees in a startup so that we can. also call ourselves as mini sharks what. not so all these are modern day traps if. you avoid them you will definitely. become rich so Point number one is that. rich people understand the risk reward. curve but the middle class people or New. Age investors really struggle to. understand this equation so let me help. you understand this point by using a. couple of examples but first and. foremost to understand what risk reward. curve means take a look at this. particular graph so for example here if. you are investing in fixed deposits that. is what that is a low risk investment. and the return is also low so it's a low. risk low reward equation on the flip. side if you go and invest in cryptos. that's completely other end of the. spectrum so here the risk is also very. high and the reward is also very high so. when rich people invest they understand. that they are putting their money. somewhere along this curve they can take. high risk they can take low risk they. usually balance out their portfolio so. that is the perspective with which they. invest on the flip side the normal. retail investors or normal common. investors or new investors who are. getting into the market who want to grow. their wealth they Keep On Believing in. like pointless arguments like you know. what if I give my money to some app it. will grow it at 12 13 14 Club does that. so I'm not naming the app directly but. you know which apps I'm speaking about. so they commit to the fact that you know. what if you give us money we will be. giving you 12 return guaranteed okay it. sounds great in theory but the problem. is that just understand again that. equation from risk reward perspective. usually these type of apps weave these. Rosy dreams said you know what if you. give us your money we will grow it at 12. okay great you have talked about the. first half of the equation but you have. forgotten to mention the risk part of. the curve so this is something that a. normal retail investors or normal New. Age investors fail to understand and. they are not able to grow their wealth. on the flip side Rich investors like. Robert Kiyosaki Warren Buffett they. understand this point and they balance. their portfolio accordingly I have. received so many questions queries that. you know what actually can you please. talk about this particular app it is. promising to give 12 return should I. invest all my money in it you should. definitely not invest all your money in. it why for the simple point that the. risk associated with such investment is. also going to be fairly high so I hope. you get this point let's move on to the. second point now when it comes to rich. people they mostly live on rent in early. part of their life rather than owning. stuff now what do I mean by that let me. give you a practical example so I live. in South Goa and it is one of the. poshest society that I'm living in it. has a bunch of Villas and I get to speak. with my neighbors quite frequently and. I've learned that majority of the people. living in this neighborhood they own. their businesses at least most of them. and they are living on rent this is. something that you might have also. noticed with people in the business. community that typically the business. Community people what they simply do is. that rather than buying a house in the. early part of their life they will put. that money where into their business for. example creating a factory buying a land. or using that money to generate some. kind of cash flow they will not stick. that money in terms of buying a house. now what do middle class people do now. I'm not trying to criticize the middle. class I'm just telling you the Practical. reality so that you can pick up these. type of points so typically middle class. people what they would do is that Jesse. as soon as I get a job I will start an. Emi on my home loan so that is called as. buying things to early in life now I am. not against buying a house if you're. getting a good deal definitely buy a. house you should have a house at some. stage in your life I'm not against it at. all but the timing of that buying. decision needs to be really thought. through so again I'll give you second. example of Mr Mark Cuban who is one of. my favorite entrepreneurs and here is an. article about him and he advises people. when they are in their early 20 to live. a very frugal life now one of the core. tenets or principles of living a Frugal. life is that you must rent more before. you buy the third thing that rich people. do really really well is that they know. how to protect their downside now what. is the meaning of protecting the. downside so let me explain this by some. of the FAQs or frequently asked. questions that I typically get so I get. a lot of questions from college going. students that's her my family income is. not very high and I'm struggling in my. life currently but I want to study. abroad and I've gotten an admission from. this top university but my Feast is like. one and a half crores and on the flip. side I'm getting like this very good. scholarship and it is giving me a free. ride but it is 10th round so which. college should I pick okay so I will. simply push you to investigate the worst. case scenario here that if you are. getting full scholarship from a decent. College getting no scholarship from a. college which you can't afford what is. The Logical decision here I'll not even. spell it out for you you guys are smart. enough so protecting the downside simply. means that you don't end up making. decisions that can literally wipe off. your wealth now many times college. students reach out to me they say that. you know what I am not not enjoying my. college degree I want to become a. full-time Trader and I will trade now do. you know that almost 99 of Traders do. not even beat fixed deposit returns now. this is the data that comes from zeruda. and again we should not be making the. type of decisions that can wipe off your. wealth or just put you in a situation. where you are completely paralyzed and. you do not know that once you fail in. that situation what are you going to do. next so that aspect is called as. protecting the downside now rich people. are fairly good at this now one of the. Prime reasons why they are good at this. is that a they create multiple types of. incomes for example they have active. income they have passive income they. have portfolio income they have a. network which they can leverage they. start building Brands so they do a bunch. of different things I'll not believe at. this point because there is a separate. video that I have done on this topic. I'll link it down below in case you want. to learn more about it but to cut the. long story short rich people what they. do is they create a portfolio of. different incomes a portfolio of. different assets that kind of protects. their downside risk now comes the. natural question that how can I protect. my downside risk now one of the foremost. things that you can do there is that. please have insurance do not experiment. with the fact you know what but because. this puts you and your family at greater. risk and it is very very important to. hedge your downside risk now many of you. would say that okay in the latest budget. it was announced that in the new tax. regime the incentives to buy insurance. would be withdrawn now again please ask. a natural question that why is it that. you need insurance is it to grow your. money the answer is no many insurance. companies sell insurance that way but. that is not the objective of insurance. is it to get like tax benefits only then. you will buy insurance again that is not. the right answer the only reason why you. need to have insurance is fairly simple. to protect the downside and to buy. insurance do check out ditto they are a. wonderful platform you can speak with an. insurance expert for free absolutely. free you can use the link in the comment. and description box to schedule your. free phone call I have personally. purchased my insurance by using Twitter. Insurance the fourth thing that rich. people do is that they actually own real. Assets Now you say all assets are real. what is the difference between real. asset and fake asset so let me give you. two examples there the first example is. of REITs versus Real Estate now think. about it this way that have you ever. read in the newspaper that Donald Trump. purchased five million dollars worth of. REITs no you would have read that he. actually purchased physical real estate. in India if you go again have you ever. read that this Rich builder for example. hirana nanis they invested in reads now. again you will read that okay. hiranandani's purchased this crore of. real estate now what is the point that. I'm trying to drive home the point is. that these days in finance a lot of. things are packaged in a certain way for. example you will be given the assurance. that okay if you are investing in REITs. you can do it with only 5000 rupees. what's the big harm just go and invest. five thousand rupees you'll become Malik. of some house no that is not correct in. REITs what ends up happening is that you. end up owning the shares in a particular. company now theoretically now again this. is a highly debatable point I have made. a separate video on reads please go and. watch it but just to contextualize. things if you are owning let's say five. shares in a party particular REITs. company what are you actually owning. you're owning some kind of a paper asset. on the flip side if you are owning five. shares of Hindustan Unilever again what. are you owning you are owning a. fractional ownership in a particular. company now think about it this way that. reads what is the underlying here the. underlying is the real estate why do you. buy real estate it is very simple to. gain control over a particular property. so to say so that you can rent it out. that decision is yours you can do a. bunch of stuff on it but when you're. buying in reads you get absolutely zero. control so this is the biggest problem. in terms of buying read personally I. will prefer investing my money in good. companies like hindustanian liver HDFC. Bank Etc because the underlying growth. of these business is much higher. compared to the real estate growth to. begin with and also when you are buying. REITs you are again getting paper assets. and absolutely zero control now you'll. say that okay fine. but what about gold because I find it. very difficult to buy physical gold. store physical gold all this jig Jake is. there so does it make sense for me to go. and buy some something like Sovereign. Gold Bond so again have you ever read. that Robert Kiyosaki invested in. Sovereign Gold Bond or some variant of. it the answer is no he actually buys. physical gold any rich person who. believes in the gold story they end up. procuring physical gold is there Jamila. associated with it absolutely yes there. are jamilas associated in terms of. procuring gold storing it etc etc but to. cut the long story short it serves a. specific purpose people buy gold as a. hedge for risk now what is the meaning. of Hedge for risk for example if there. is some kind of government default or if. there is increased risk or if there are. Wars breaking out between countries then. in such a situation gold becomes a good. asset but what type of gold sovereign. gold one the answer is no it is the. physical gold that gains value in the. event a particular government defaults. I'm not talking about the Indian. government here but generally if a. particular government defaults then any. type of bond including the Gold Bond its. value will go to absolute zero so rich. people what they actually own is real. assets not fake assets rich people know. where their money is actually going but. majority of the new investors or middle. class are unaware of this fact so let me. give you some examples and back it up. with some logic and facts here for. example many of the rich people they. invest via hedge funds now hedge funds. are what so hedge funds are managed by. these big big people like you know Bill. Ackman and Mr Ray dalio so they run. their own hedge funds and these people. manage other rich people's money now the. rich people actually somewhat closely. monitor the performance of hedge funds. the hedge funds tells them they have. frequent calls with these rich people. they explain them why they are investing. in certain assets versus not etc etc so. for example let's say that if money is. giving his money to Bill Ackman to. manage then he will keep a very close. eye on him and Mr Bill Ackman is going. to explain categorically where Mr Mukesh. Ambani money is being invested but on. the flip side when it comes to average. investors and New Age investors what. ends up happening majority of us even if. we are investing our money in equities. or other form of asset classes what what. do we do we typically give it to mutual. fund managers now do we have a sense. where our money is going in mutual funds. for most of us the answer is no on top. of that these days you might have seen. apps what are they doing they are saying. that you're not we will automate the. Investments for you all you have to do. is that you know shopping page we will. round it off 200 rupees and five rupees. will go to some asset you'll say that. okay right automatic investment but the. problem there is that there are two. layers of commissions now how to layers. one is that's it these apps or New Age. apps are not doing some kind of dandharm. right they are going to take some. commissions from you second if they are. rounding off and giving money to some. user fund manager to invest on your. behalf then there is second layer of. permission now you'll say that okay. thought about commission yeah little bit. commission here and there so what's the. big deal it's not as if that that is the. end of the world if I'm paying one. percent commission extra what's that big. deal now the problem with one percent. commission can be understood through. this simple example so let's say that. you are putting one lakh rupee in the. stock market and you are able to. generate 10 return so what does that. become and it becomes 1.1 lakhs now if. you are paying one percent additional. then how much profit percentage you are. paying so the answer comes out to be. roughly 10 how you do the math and tell. me in the comment box but that is the. analysis that I'll leave you with So. when you say one percent of my AUM is. being paid in commissions you need to. acknowledge the fact that that one. percent AUM or asset under management is. equivalent to almost 10 percent of your. profit sometime so be very very. cognizant about where your money is. going how much commissions you are. paying so all these rich people know. this game and us new normal investors. Keep On Believing in this automation. stuff now rich people do not take. Consumer loans they take business loans. and on their business they take further. Consumer loans now how does this. mechanism play out let me use some. examples to illustrate the power of this. point so again coming back to the. example where we started the story of Mr. Anil Amani so Anil Ambani went bankrupt. but his personal wealth or a large part. of his personal wealth is intact how\n\n*** WARNING: max output size exceeded, skipping output. ***\n\ne the audience\\xa0 to check out that episode with John Huber if. they’d like to learn more about why John made\\xa0 Amazon his largest stock position in his fund.. [00:29:40] Amazon’s advertising business\\xa0 grew by 25% in the most recent quarter,. and in the trailing 12 months, their ad business\\xa0 generated over 35 billion in revenue. And then. last but not least, Amazon’s cash cow is their\\xa0 AWS business. This business in the trailing 12. months generated 76 billion in revenue with\\xa0 revenues in Q3 of 2022, increasing by 27%.. [00:30:07] Their AWS business is not only a\\xa0 very large and very fast growing business,. it’s also very high margins as EBIT margins\\xa0 are 30% and give Amazon the cash needed to. help fund the ever-growing retail business and\\xa0 other necessary investments they’re making in. their continued future growth. In relation to\\xa0 Amazon’s moat, let’s not forget that Nick Sleep,. who’s an investor that puts so much\\xa0 emphasis on quality still to this day,. as far as we know, has owned\\xa0 Amazon stock for the last 20 years.. [00:30:39] When Sleep was researching the best\\xa0 companies to own, he discovered the incredible. power of companies with what he calls scaled\\xa0 economy. Meaning that as the companies grow,. they’re able to continue to\\xa0 offer lower and lower prices,. which in turn only attracts more and more\\xa0 customers. It’s the ultimate win-win situation.. [00:30:58] So Sleep identified Amazon,\\xa0 Costco, and Berkshire Hathaway back in. the early two thousands and put his entire\\xa0 net worth practically in these three stocks.. That’s not to say that we should invest in\\xa0 whatever companies the super investors buy,. but I believe that Amazon has a\\xa0 very large moat around its business.. [00:31:16] Amazon, over the many years\\xa0 continues to ensure that they’re providing. low prices to customers, especially\\xa0 since many of them are signing up for. their annual prime membership. In order to\\xa0 provide that fast and easy two day shipping,. Amazon had to spend so much money\\xa0 to build out that fulfillment.. [00:31:35] Because of the amount of capital that\\xa0 took to build all that out. This is just another. factor that plays into their moat because they\\xa0 have all these fulfillment centers and it becomes. extremely difficult for other companies\\xa0 to compete in, achieve profitable margins.. In addition to all the capital they’ve had to\\xa0 invest, they also have immense network effects,. especially with Amazon Prime, essentially locking. customers in giving these customers massive\\xa0 incentives to continue to shop on Amazon.. [00:32:02] The network effects also tie into\\xa0 the scaled economy share that Nick Sleep. describes as they’re able to continually have\\xa0 a cost advantage over the long. As the company. continues to grow year in and year out, I did a\\xa0 bit of research into Amazon’s market share and. how that’s trending as well. I’m seeing varying\\xa0 statistics from different sources, but multiple. more conservative sources stated that in 2021,\\xa0 Amazon accounted for 40% of all e-commerce sales.. [00:32:33] Walmart, of course, is also making\\xa0 a push for e-commerce and is growing as well,. but today they only account for around 6%\\xa0 of e-commerce sales. Amazon also has the. largest cloud business in the world with aws\\xa0 and with the continued increase in spend and. commitments on aws, more and more companies\\xa0 are getting locked into that AWS ecosystem,. and there’s high switching cost if they ever\\xa0 wanted to switch to another cloud provider.. [00:32:59] Recently, Amazon’s free cash flows\\xa0 have dipped into the negative territory,. dragging the stock down with it.\\xa0 BuTIPersonally believe that these. headwinds from a free cash flow perspective\\xa0 are temporary. When I look at the company’s. top line for each of their important business\\xa0 segments, I see strong and consistent growth.. [00:33:17] And when I look at the big picture\\xa0 and the secular trends of e-commerce and the. cloud industries, Amazon is a massive beneficiary\\xa0 for these trends. I believe that if Amazon really. wanted to produce a ton of free cash flow\\xa0 in the near term, they could definitely do. that. But instead they’re opting to continue to\\xa0 reinvest back into the growth of the company and. reinvest and create that customer goodwill\\xa0 by continually offering those low prices.. [00:33:43] I dunno when the situation will\\xa0 improve in terms of Amazon’s financials,. but when the stock price of a great company drops\\xa0 by 50% and is trading below what I believe the. value to be, then I think when the financials\\xa0 improve and the economy eventually recovers,. these lower share prices will prove to have\\xa0 been potentially great buying opportunities.. [00:34:04] I think this will also be a really\\xa0 big test for Andy Jassy as he’s facing a lot. of pressure in terms of the overall economy\\xa0 and inflation, but I think there’s a lot of. options for him and levers he can pull,\\xa0 such as the trimming the employee count,. or increasing their prices a little bit, or\\xa0 just tweaking some of their business segments.. [00:34:22] I think there’s so much optionality\\xa0 in so many levers that management can pull to,. you know, achieve that long term profit.\\xa0 Lastly regarding Alphabet and Amazon,. I wouldn’t be surprised at all if\\xa0 either of these two companies have. really depressed earnings in 2023 and\\xa0 it pushes their stock prices even lower.. [00:34:41] The emphasis for me is on\\xa0 the really long term and the secular. trends that will benefit these companies.\\xa0 When looking at Alphabet, for example,. and what looks like a relatively low PE today,\\xa0 we need to consider that those earnings in the. future may decline. We may see lower earnings\\xa0 in 2023, so the stock might look cheap today.. [00:35:00] So I guess that’s my way of saying\\xa0 to be prepared for a potentially bumpy ride. with these two companies. As the market\\xa0 is a voting machine in the short run and. a weighing machine in the long. Transitioning\\xa0 to the third company I wanted to talk about. in today’s episode. This is a new one I haven’t\\xa0 done into prior to researching for this episode.. [00:35:20] It’s a company called S&P\\xa0 Global, ticker, SPGI Value Stock Geek,. which is one of my very favorite blogs for company\\xa0 deep dives did a pretty detailed article on this. company. So shout out to him for his great\\xa0 writeup on his blog called Security Analysis.. [00:35:37] Plus my colleague Shawn O’Malley,\\xa0 who’s our newsletter writer at TIP, used to. work at this company, so I was able to get some\\xa0 interesting insights from him as well. Shawn is. doing great work on TIP’s daily newsletter\\xa0 called We Study Markets. If you’re not yet. subscribed for that, you can do so by going\\xa0 to theinvestorspodcast.com/westudymarkets.. [00:35:59] Now S&P Global describes themselves as. the leading provider of transparent\\xa0 and independent ratings, benchmarks,. analytics, and data to the capital\\xa0 and commodity markets worldwide.. [00:36:12] Their claim to fame is their\\xa0 creation of the S&P 500 and Dow Jones. Industrial Average Indexes, and they’re also\\xa0 one of the three major corporate credit rating. agencies along with Moody’s and Fitch. So\\xa0 they operate in an oligopoly in this market,. which provides them with one of the\\xa0 most powerful moats in the world.. [00:36:33] Many of our listeners may be aware\\xa0 that Buffett has roughly a 6 billion position in. Moody’s and has owned the company since the year\\xa0 2000. Any corporation that wants to issue debt,. which is practically every company, they’re going\\xa0 to need to get a credit rating in order to do.. [00:36:50] SPGI is also a data company, as in\\xa0 2020, they acquired a company called IHS Market.. [00:36:58] IHS Market has various products that\\xa0 provide things such as economic forecasting data,. financial data for securities and derivatives,\\xa0 data and analytics for the energy market and. various other niche data. So from a high level,\\xa0 SPGI has four major business segment. First is the. ratings business. This is the supplier of credit\\xa0 ratings on corporations and sovereign governments.. [00:37:23] The blog post from security\\xa0 analysis states that the data collected. from this segment supplies the market\\xa0 intelligence. Business ratings are the. most cyclical segment of the company as\\xa0 it depends on new deals and debt issuance,. which we’ll pick up when the economy is hot.\\xa0 Ratings represent nearly 57% of operating profit.. [00:37:44] The second segment is their\\xa0 indices business as they’re the index. provider for indexes like the S&P\\xa0 500. When a company like iShares,. Vanguard or BlackRock wants to create\\xa0 a product based on the S&P index,. they have to pay SPGI a fee. This segment\\xa0 represents 17% of operating profits.. Third is their market intelligence segment that\\xa0 represents subscription software that supplies. data to investment professionals, government\\xa0 agencies, corporations, and universities.. [00:38:14] So this brings that recurring\\xa0 revenue in for providing an essential. product for financial professionals.\\xa0 This is 15% of operating profits,. and fourth is what’s called their Platt\\xa0 segment. This is a data provider of information. and benchmark prices for commodity and energy\\xa0 markets. So what S&P is to the equity markets?. [00:38:34] Platts is to the commodity markets.\\xa0 This is 11% of operating profits. 39% of the. company’s revenues are subscription based,\\xa0 and they’re very sticky due to the nature of. their agreements, and they’re high switching\\xa0 costs as well. The index business is also a. very sticky business because if a company\\xa0 like BlackRock creates an S&P 500 index,. it’s not like they can easily shut\\xa0 that down and stop paying SPGI. their fees, and this helps provide\\xa0 entrenchment in the company’s moat.. [00:39:05] SPGI is priced as if it’s a great\\xa0 company. Their PE ratio is around 30 and their EV. to EBIT is around 24, which is a metric that got\\xa0 as low as six during the great financial crisis,. which was quite an extreme event for\\xa0 the company. Like many other companies,. they’ve outperformed the market over the\\xa0 past 10 years as shares of averaged 22%. annual growth over the past decade\\xa0 versus just 12% for the S&P 500.. [00:39:32] Even since the mid 1980s,\\xa0 it’s been a really strong outperformer. as they’ve continued to deliver strong\\xa0 growth in their e p s and their free cash. flow per share. The company went through\\xa0 some structural changes back in 2016,. and ever since they’ve seen considerable\\xa0 improvements in their operating margins.. [00:39:50] Prior to 2016, operating\\xa0 margins were around 30%, and now. operating margins are around 50%. Their\\xa0 returns on capital are also outstanding,. averaging north of 20%, and the company\\xa0 also has a really good management team.. They’ve recently acquired Market,\\xa0 which helped expand their moat,. and they’ve rebranded the company over the\\xa0 previous decade from McGraw Hill to S&P Global.. [00:40:14] The fundamentals have improved\\xa0 substantially over the past few years as. revenues have grown by over 50% since 2019,\\xa0 and operating income has increased by 64%. I. think that if we see poor economic conditions\\xa0 in 2023, then the somewhat cyclicality of S. P G’s business will likely come to haunt them\\xa0 like it did during the great financial crisis.. [00:40:38] But the business itself won’t be\\xa0 going anywhere. So we could see some great. buying opportunities in this company if we do\\xa0 end up seeing, , rough recess. To be honest,. I don’t love the valuation at these prices,\\xa0 but it’s definitely one of the strongest. moats for a large cap public company. I could\\xa0 really find the returns on capital are really,. really good, but if you see their\\xa0 earnings multiple mean revert,. you could see a 30 to 50% markdown in\\xa0 the shares to the 180 to $260 range.. [00:41:09] At their current level of earnings.\\xa0 So this company is more so one to add to my watch. list to keep an eye on if we do end up seeing\\xa0 a recession in a sharp drawdown in the stock. price. Other than the price, it really checks\\xa0 all the boxes for me from a value investor’s. perspective. All right, so transitioning\\xa0 to the fourth and final wide mo company,. I wanted to discuss during this episode, it\\xa0 was somewhat hard to just pick one company.. [00:41:32] There are a number of companies I’ve\\xa0 talked about in the past that would probably. be what I call honorable mentions,\\xa0 such as Dollar General Home Depot,. Adobe. Or there are companies that are frankly\\xa0 pretty expensive on a multiple basis like Costco,. visa, MasterCard, and some of the other big\\xa0 tech companies like Apple and Microsoft.. [00:41:50] But that’s the trouble with these\\xa0 great companies is that for a lot of the. companies lifetime, they’re gonna be trading\\xa0 at what looks to be pretty expensive prices.. Now let’s talk about a company that is likely\\xa0 impossible to be disrupted by technology,. and that is Sherwin William. Another special\\xa0 shout out to my friend Adam Zeel for touching. on Sherwin Williams in his book, and it\\xa0 really piqued my interest in the company.. [00:42:14] Sherwin Williams started all the\\xa0 way back in 1866 and it’s widely known for. manufacturing, paint and paint products. Today\\xa0 they have about 4,800 locations in the us,. Canada, Latin America, and the Caribbeans.\\xa0 Their business is primarily driven by three. main segments, consumer brands at\\xa0 the AmericaS&Performance coatings.. [00:42:36] The consumer brands is what is sold\\xa0 to retail stores like Lowe’s. The Americas is. what is sold in their own Sherwin-Williams\\xa0 locations, which drives over 50% of their. revenue. And then the performance coatings\\xa0 are there. Industrial customers such as. automotive companies and floor manufacturers, the\\xa0 company is somewhat tied to the housing market.. [00:42:57] People do home improvements.\\xa0 They may be redoing their pain job and their. home. Of course, looking back at their\\xa0 history, revenues did decline in 2009,. but quickly rebounded in the years that followed\\xa0 the company continued to produce positive net. income throughout the great financial\\xa0 crisis as well. Over the past 10 years,. this boring, stable business has produced\\xa0 average annual returns of 16% annually,. not including the small dividend that they’ve been\\xa0 paying out, which right now is about a 1% yield.. [00:43:27] Sherwin Williams has a pretty\\xa0 strong moat for a number of reasons I think.. For the foreseeable future, we’re gonna always\\xa0 need paint. New houses are always being built.. People are always doing updates on their houses. I\\xa0 think that their consistent operating margins show. that they’re able to continually increase prices\\xa0 over time without being disrupted by competitors.. [00:43:48] They’ve built out these really\\xa0 strong relationships with contractors,. and they’re able to either deliver\\xa0 products to them in a timely manner,. or have them pick up the products at somewhere\\xa0 like a Lowe’s or in their own Sherwin-Williams. store. Because a lot of these contractors\\xa0 value speed in getting the job done quickly.. [00:44:05] Sherwin-Williams is able\\xa0 to deliver fast delivery to customers. better than anyone else because they have the\\xa0 largest distribution network of stores in the. us similar to S B G I. Sherwin-Williams is a\\xa0 quality company trading at a premium price.. The EV to ebis is around 27, which got\\xa0 all the way up to 36 at the end of 2020.. [00:44:27] And it’s now trading more in line\\xa0 with where it was in 2017 prior to then it. could be purchased at a multiple in the\\xa0 low teens. So I’d say that the market. has definitely recognized the quality of\\xa0 this company. Sherwin-Williams has three. things I really like to see in a company.\\xa0 On top of their return on invested capital,. being in the mid-teens, they’re continually\\xa0 growing their earnings year after year.. [00:44:50] They’re repurchasing\\xa0 shares at around one to 3% per year,. and they’re steadily increasing their dividend.\\xa0 Which is a really strong indication that the. management team is looking out for the best\\xa0 interest of their shareholders. I think that. investors will do just fine buying at\\xa0 this price, but more cautious investors. may put it on their watch list and see if the\\xa0 multiple drops from the mid twenties to below. the twenties to the mid-teens, which is where\\xa0 it’s been for a good amount of its history.. [00:45:17] It’s more so what Buffett would call a\\xa0 wonderful company at a fair price than something. that happens to be trading at a wonderful\\xa0 price as well. Let’s remember that alphabet,. which I talked about earlier,\\xa0 is trading at a multiple of 14. to 15 before factoring in any stock-based\\xa0 compensation. Also for Sherwin Williams.. [00:45:34] I wanted to read another excerpt from\\xa0 Adam Diesel’s book because I just really enjoyed. this book and he has so many good pieces in it.\\xa0 All my non-tech companies are largely tech proof,. but none is more so than Sherwin Williams.\\xa0 You just can’t render paint digitally,. at least not. Meanwhile, there’s something\\xa0 deep within human beings that drives them to. coat their walls either for decoration\\xa0 or to protect against the weather.. [00:46:01] In 1866, Henry Sherwin and\\xa0 Edward Williams founded the company. that would introduce the world’s first\\xa0 guaranteed ready to use paint. As the. industrial age progressed, paint became\\xa0 coatings and was used to finish anything. that needed protection from the elements\\xa0 such as automobiles, ships, and airplanes.. [00:46:21] Sherwin Williams developed many\\xa0 of these modern finisheS&Patented them,. then kept investing money into research and\\xa0 development to deepen its product mo to make. the Sherwin-Williams brand instantly recognizable.\\xa0 It also kept spending on marketing. Today, Sherwin. Williams has competitive advantages that stem\\xa0 from 150 years of innovation and brand loyalty.. [00:46:45] But what really distinguishes the\\xa0 company is its incredible retail presence.. Sherwin Williams operates a network of nearly. 5,000 company owned stores, and its\\xa0 nearest competitor PPG operates roughly. 1000 stores. Why does this network of owned\\xa0 stores give Sherwin an edge? Because only. Sherwin Williams has a store base extensive\\xa0 enough to touch American painters every day.. [00:47:11] Like many gray businesses,\\xa0 Sherwin Williams created its moat by. asking what does my customer care about?\\xa0 And then working backwards until computers. learn about how to cope buildings, the\\xa0 economics of house painting will remain. simple. 80% of a painter’s expenses are\\xa0 labor and 20% is paint Time is therefore. money to a painter and Sherman Williams\\xa0 focused on that fact like a laser beam.. [00:47:37] Given these unit economics, wouldn’t\\xa0 painters reward the company that saved them time?. If so, why not roll out so many stores that\\xa0 most would drive by them every day on the. way to their job? , that’s what Sherwin\\xa0 Williams has done. They even offer free. curbside pickups so the painters don’t have to\\xa0 get out of their trucks in free donuts as well.. [00:47:58] The company supplements\\xa0 this network with a fleet of 3000. trucks whose drivers make constant runs\\xa0 to job sites to replenish low supplies.. PPG owns their stores, but roughly one\\xa0 fifth, the number of Sherwin Williams PPG. doesn’t have the density required to make\\xa0 the network ubiquitous. Benjamin Moore has. more contact points because only Sherwin\\xa0 Williams can handle national accounts,. and only Sherwin Williams can roll out a new and\\xa0 improved finish in a consistent nationwide brand.. [00:48:31] Only Sherwin Williams has\\xa0 a mobile app that allows a painter to. order 10 gallons of eggshell white in the\\xa0 evening, then show up at his local store. the next morning and find it ready for him.\\xa0 Sherwin’s store network gives in an edge,. and this edge is continuing to grow. Every year.\\xa0 Sherwin adds nearly 100 new company owned stores.. [00:48:53] PPGs annual new store count\\xa0 barely reaches double digits. Little wonder. that Sherwin Williams is growing its North\\xa0 American paint sales at six to 7% per year. twice the rate of the competition. Meanwhile,\\xa0 Sherwin Williams has a low share of a large and. growing market. The worldwide painting\\xa0 and coating sector remains fragmented.. [00:49:14] Insure wind only has about 10%\\xa0 of it at nearly 150 billion in annual. The. market is huge and growing slightly more\\xa0 than the worldwide economy. Management is. also excellent. Unlike Bezos at\\xa0 Amazon or Murphy at Cap Cities,. there is no single star executive There\\xa0 is, however, a culture at Sherwin-Williams. that enunciates an every employee from\\xa0 the lowest store trainee to the C E O.. [00:49:42] The discipline of thinking\\xa0 like an owner, Unlike many companies,. Sherwin doesn’t just leave it to the CFO to\\xa0 understand principles like return on capital. and capital allocation. You can tell this is not\\xa0 only from how executives talk, but how they act.. Sherwin Williams rarely buys companies,\\xa0 but when they do, they do it brilliantly.. [00:50:02] In 2017, they bought Valspar, a leading\\xa0 industrial coating company using a hundred percent. debt financ. Like Tom Murphy at Cap Cities, the\\xa0 reasoned that they didn’t need to use stock.. Instead, they could use Sherwin-Williams\\xa0 ample cash flow to pay down the debt over. several years. Then enjoy the acquisition\\xa0 forever without any dilution to shareholders.. [00:50:25] Unlike other less disciplined\\xa0 businesses, Sherwin Williams articulates. clear priorities for its cash flow\\xa0 and then sticks to them if reinvest. money in it, store, network, and product\\xa0 development. And in the Sherwin brand,. anything leftover goes back to shareholders\\xa0 either as dividends or share purchases.. [00:50:44] So as you can tell, Zeel has\\xa0 so much respect for Sherwin Williams as a. brand and their business fundamental.\\xa0 And I also discovered back in 2018,. Lowe’s announced that they would be the only\\xa0 nationwide home center outside of Sherwin Williams. owned store. Now Lowe’s and Home Depot are in\\xa0 a race to partner with the very best brands,. and this partnership Lowe’s, established\\xa0 with Sherwin Williams not only shows how. strong of a brand Sherwin Williams\\xa0 has, but also helps widen their mow.. [00:51:13] As anyone who shops at\\xa0 Lowe’s and wants to purchase paint,. they have no other choice than to buy\\xa0 from Sherwin Williams. If that’s not a mo,. I don’t know what. A Lowe’s executive\\xa0 stated that we do a tremendous amount. of research related to customer preferences,\\xa0 and through that analysis we draw insights,. which has led us to some of the most important\\xa0 brands in Sherwin, William being one of those.. [00:51:37] Although the partnership with\\xa0 Lowe’s is great news, the company earned 75%. of its profit from the Americas group, which\\xa0 is essentially its own stores, and they. completely dominate the US with 50% market. Their\\xa0 competitive advantage in this division is their. vertical integration within their operations and\\xa0 their stores being so close to their customers.. [00:51:59] So again, Sherwin-Williams, it’s a\\xa0 great company, likely trading at a fairly high. multiple, but it’s come back a little bit\\xa0 in 2022 and 2023 here. So I think it’s one. for considering if you’re really looking for\\xa0 companies with really, really strong moats.. All right, that wraps up today’s\\xa0 episode. I hope you enjoyed this. episode covering four wide moat\\xa0 companies to consider for 2023.. [00:52:23] If you don’t already, be sure to\\xa0 click follow on the podcast app you’re on so. you can get notified of all of our future\\xa0 episodes coming out in the future. Also,. if you enjoyed this episode, I would\\xa0 really, really appreciate it if you. shared it with just one person you think\\xa0 would also enjoy it, or maybe even you. decide to share it on your favorite social\\xa0 media platform that you use day to day.. [00:52:44] This will really help us out\\xa0 as we continue to provide these episodes. to you for free. TIP is my full-time\\xa0 job, and if you’re enjoying the show,. we would really appreciate it\\xa0 if you shared the episode to. help support the team. And if you don’t\\xa0 yet subscribe to our daily newsletter,. We Study Markets, be sure to get signed up at\\xa0 theinvestorspodcast.com/WeStudyMarkets. And with. that, thank you so much for tuning into today’s\\xa0 episode, and I hope to see you again next time.']"
     ]
    }
   ],
   "source": [
    "with open('/dbfs/FileStore/justText.txt') as f:\n",
    "    lines = f.readlines()\n",
    "lines"
   ]
  },
  {
   "cell_type": "code",
   "execution_count": 0,
   "metadata": {
    "application/vnd.databricks.v1+cell": {
     "cellMetadata": {
      "byteLimit": 2048000,
      "rowLimit": 10000
     },
     "inputWidgets": {},
     "nuid": "2665aea2-b455-4402-863d-9195d6330098",
     "showTitle": false,
     "title": ""
    }
   },
   "outputs": [],
   "source": [
    "from langchain.embeddings.openai import OpenAIEmbeddings\n",
    "from langchain.vectorstores import Chroma\n",
    "from langchain.text_splitter import CharacterTextSplitter\n",
    "from langchain import OpenAI, VectorDBQA\n",
    "\n",
    "llm = OpenAI(temperature=0)"
   ]
  },
  {
   "cell_type": "code",
   "execution_count": 0,
   "metadata": {
    "application/vnd.databricks.v1+cell": {
     "cellMetadata": {
      "byteLimit": 2048000,
      "rowLimit": 10000
     },
     "inputWidgets": {},
     "nuid": "d30b364d-0b51-41c2-9ff2-aa090fd22431",
     "showTitle": false,
     "title": ""
    }
   },
   "outputs": [
    {
     "output_type": "display_data",
     "data": {
      "text/plain": [
       "\u001B[0;31m---------------------------------------------------------------------------\u001B[0m\n",
       "\u001B[0;31mInvalidRequestError\u001B[0m                       Traceback (most recent call last)\n",
       "File \u001B[0;32m<command-108776940641816>:7\u001B[0m\n",
       "\u001B[1;32m      5\u001B[0m texts \u001B[38;5;241m=\u001B[39m text_splitter\u001B[38;5;241m.\u001B[39msplit_documents(documents)\n",
       "\u001B[1;32m      6\u001B[0m embeddings \u001B[38;5;241m=\u001B[39m OpenAIEmbeddings()\n",
       "\u001B[0;32m----> 7\u001B[0m state_of_union_store \u001B[38;5;241m=\u001B[39m Chroma\u001B[38;5;241m.\u001B[39mfrom_documents(\n",
       "\u001B[1;32m      8\u001B[0m     texts, embeddings, collection_name\u001B[38;5;241m=\u001B[39m\u001B[38;5;124m\"\u001B[39m\u001B[38;5;124mjustText\u001B[39m\u001B[38;5;124m\"\u001B[39m\n",
       "\u001B[1;32m      9\u001B[0m )\n",
       "\n",
       "File \u001B[0;32m/local_disk0/.ephemeral_nfs/cluster_libraries/python/lib/python3.9/site-packages/langchain/vectorstores/chroma.py:435\u001B[0m, in \u001B[0;36mChroma.from_documents\u001B[0;34m(cls, documents, embedding, ids, collection_name, persist_directory, client_settings, client, **kwargs)\u001B[0m\n",
       "\u001B[1;32m    433\u001B[0m texts \u001B[38;5;241m=\u001B[39m [doc\u001B[38;5;241m.\u001B[39mpage_content \u001B[38;5;28;01mfor\u001B[39;00m doc \u001B[38;5;129;01min\u001B[39;00m documents]\n",
       "\u001B[1;32m    434\u001B[0m metadatas \u001B[38;5;241m=\u001B[39m [doc\u001B[38;5;241m.\u001B[39mmetadata \u001B[38;5;28;01mfor\u001B[39;00m doc \u001B[38;5;129;01min\u001B[39;00m documents]\n",
       "\u001B[0;32m--> 435\u001B[0m \u001B[38;5;28;01mreturn\u001B[39;00m \u001B[38;5;28;43mcls\u001B[39;49m\u001B[38;5;241;43m.\u001B[39;49m\u001B[43mfrom_texts\u001B[49m\u001B[43m(\u001B[49m\n",
       "\u001B[1;32m    436\u001B[0m \u001B[43m    \u001B[49m\u001B[43mtexts\u001B[49m\u001B[38;5;241;43m=\u001B[39;49m\u001B[43mtexts\u001B[49m\u001B[43m,\u001B[49m\n",
       "\u001B[1;32m    437\u001B[0m \u001B[43m    \u001B[49m\u001B[43membedding\u001B[49m\u001B[38;5;241;43m=\u001B[39;49m\u001B[43membedding\u001B[49m\u001B[43m,\u001B[49m\n",
       "\u001B[1;32m    438\u001B[0m \u001B[43m    \u001B[49m\u001B[43mmetadatas\u001B[49m\u001B[38;5;241;43m=\u001B[39;49m\u001B[43mmetadatas\u001B[49m\u001B[43m,\u001B[49m\n",
       "\u001B[1;32m    439\u001B[0m \u001B[43m    \u001B[49m\u001B[43mids\u001B[49m\u001B[38;5;241;43m=\u001B[39;49m\u001B[43mids\u001B[49m\u001B[43m,\u001B[49m\n",
       "\u001B[1;32m    440\u001B[0m \u001B[43m    \u001B[49m\u001B[43mcollection_name\u001B[49m\u001B[38;5;241;43m=\u001B[39;49m\u001B[43mcollection_name\u001B[49m\u001B[43m,\u001B[49m\n",
       "\u001B[1;32m    441\u001B[0m \u001B[43m    \u001B[49m\u001B[43mpersist_directory\u001B[49m\u001B[38;5;241;43m=\u001B[39;49m\u001B[43mpersist_directory\u001B[49m\u001B[43m,\u001B[49m\n",
       "\u001B[1;32m    442\u001B[0m \u001B[43m    \u001B[49m\u001B[43mclient_settings\u001B[49m\u001B[38;5;241;43m=\u001B[39;49m\u001B[43mclient_settings\u001B[49m\u001B[43m,\u001B[49m\n",
       "\u001B[1;32m    443\u001B[0m \u001B[43m    \u001B[49m\u001B[43mclient\u001B[49m\u001B[38;5;241;43m=\u001B[39;49m\u001B[43mclient\u001B[49m\u001B[43m,\u001B[49m\n",
       "\u001B[1;32m    444\u001B[0m \u001B[43m\u001B[49m\u001B[43m)\u001B[49m\n",
       "\n",
       "File \u001B[0;32m/local_disk0/.ephemeral_nfs/cluster_libraries/python/lib/python3.9/site-packages/langchain/vectorstores/chroma.py:403\u001B[0m, in \u001B[0;36mChroma.from_texts\u001B[0;34m(cls, texts, embedding, metadatas, ids, collection_name, persist_directory, client_settings, client, **kwargs)\u001B[0m\n",
       "\u001B[1;32m    379\u001B[0m \u001B[38;5;124;03m\"\"\"Create a Chroma vectorstore from a raw documents.\u001B[39;00m\n",
       "\u001B[1;32m    380\u001B[0m \n",
       "\u001B[1;32m    381\u001B[0m \u001B[38;5;124;03mIf a persist_directory is specified, the collection will be persisted there.\u001B[39;00m\n",
       "\u001B[0;32m   (...)\u001B[0m\n",
       "\u001B[1;32m    394\u001B[0m \u001B[38;5;124;03m    Chroma: Chroma vectorstore.\u001B[39;00m\n",
       "\u001B[1;32m    395\u001B[0m \u001B[38;5;124;03m\"\"\"\u001B[39;00m\n",
       "\u001B[1;32m    396\u001B[0m chroma_collection \u001B[38;5;241m=\u001B[39m \u001B[38;5;28mcls\u001B[39m(\n",
       "\u001B[1;32m    397\u001B[0m     collection_name\u001B[38;5;241m=\u001B[39mcollection_name,\n",
       "\u001B[1;32m    398\u001B[0m     embedding_function\u001B[38;5;241m=\u001B[39membedding,\n",
       "\u001B[0;32m   (...)\u001B[0m\n",
       "\u001B[1;32m    401\u001B[0m     client\u001B[38;5;241m=\u001B[39mclient,\n",
       "\u001B[1;32m    402\u001B[0m )\n",
       "\u001B[0;32m--> 403\u001B[0m \u001B[43mchroma_collection\u001B[49m\u001B[38;5;241;43m.\u001B[39;49m\u001B[43madd_texts\u001B[49m\u001B[43m(\u001B[49m\u001B[43mtexts\u001B[49m\u001B[38;5;241;43m=\u001B[39;49m\u001B[43mtexts\u001B[49m\u001B[43m,\u001B[49m\u001B[43m \u001B[49m\u001B[43mmetadatas\u001B[49m\u001B[38;5;241;43m=\u001B[39;49m\u001B[43mmetadatas\u001B[49m\u001B[43m,\u001B[49m\u001B[43m \u001B[49m\u001B[43mids\u001B[49m\u001B[38;5;241;43m=\u001B[39;49m\u001B[43mids\u001B[49m\u001B[43m)\u001B[49m\n",
       "\u001B[1;32m    404\u001B[0m \u001B[38;5;28;01mreturn\u001B[39;00m chroma_collection\n",
       "\n",
       "File \u001B[0;32m/local_disk0/.ephemeral_nfs/cluster_libraries/python/lib/python3.9/site-packages/langchain/vectorstores/chroma.py:148\u001B[0m, in \u001B[0;36mChroma.add_texts\u001B[0;34m(self, texts, metadatas, ids, **kwargs)\u001B[0m\n",
       "\u001B[1;32m    146\u001B[0m embeddings \u001B[38;5;241m=\u001B[39m \u001B[38;5;28;01mNone\u001B[39;00m\n",
       "\u001B[1;32m    147\u001B[0m \u001B[38;5;28;01mif\u001B[39;00m \u001B[38;5;28mself\u001B[39m\u001B[38;5;241m.\u001B[39m_embedding_function \u001B[38;5;129;01mis\u001B[39;00m \u001B[38;5;129;01mnot\u001B[39;00m \u001B[38;5;28;01mNone\u001B[39;00m:\n",
       "\u001B[0;32m--> 148\u001B[0m     embeddings \u001B[38;5;241m=\u001B[39m \u001B[38;5;28;43mself\u001B[39;49m\u001B[38;5;241;43m.\u001B[39;49m\u001B[43m_embedding_function\u001B[49m\u001B[38;5;241;43m.\u001B[39;49m\u001B[43membed_documents\u001B[49m\u001B[43m(\u001B[49m\u001B[38;5;28;43mlist\u001B[39;49m\u001B[43m(\u001B[49m\u001B[43mtexts\u001B[49m\u001B[43m)\u001B[49m\u001B[43m)\u001B[49m\n",
       "\u001B[1;32m    149\u001B[0m \u001B[38;5;28mself\u001B[39m\u001B[38;5;241m.\u001B[39m_collection\u001B[38;5;241m.\u001B[39mupsert(\n",
       "\u001B[1;32m    150\u001B[0m     metadatas\u001B[38;5;241m=\u001B[39mmetadatas, embeddings\u001B[38;5;241m=\u001B[39membeddings, documents\u001B[38;5;241m=\u001B[39mtexts, ids\u001B[38;5;241m=\u001B[39mids\n",
       "\u001B[1;32m    151\u001B[0m )\n",
       "\u001B[1;32m    152\u001B[0m \u001B[38;5;28;01mreturn\u001B[39;00m ids\n",
       "\n",
       "File \u001B[0;32m/local_disk0/.ephemeral_nfs/cluster_libraries/python/lib/python3.9/site-packages/langchain/embeddings/openai.py:452\u001B[0m, in \u001B[0;36mOpenAIEmbeddings.embed_documents\u001B[0;34m(self, texts, chunk_size)\u001B[0m\n",
       "\u001B[1;32m    440\u001B[0m \u001B[38;5;124;03m\"\"\"Call out to OpenAI's embedding endpoint for embedding search docs.\u001B[39;00m\n",
       "\u001B[1;32m    441\u001B[0m \n",
       "\u001B[1;32m    442\u001B[0m \u001B[38;5;124;03mArgs:\u001B[39;00m\n",
       "\u001B[0;32m   (...)\u001B[0m\n",
       "\u001B[1;32m    448\u001B[0m \u001B[38;5;124;03m    List of embeddings, one for each text.\u001B[39;00m\n",
       "\u001B[1;32m    449\u001B[0m \u001B[38;5;124;03m\"\"\"\u001B[39;00m\n",
       "\u001B[1;32m    450\u001B[0m \u001B[38;5;66;03m# NOTE: to keep things simple, we assume the list may contain texts longer\u001B[39;00m\n",
       "\u001B[1;32m    451\u001B[0m \u001B[38;5;66;03m#       than the maximum context and use length-safe embedding function.\u001B[39;00m\n",
       "\u001B[0;32m--> 452\u001B[0m \u001B[38;5;28;01mreturn\u001B[39;00m \u001B[38;5;28;43mself\u001B[39;49m\u001B[38;5;241;43m.\u001B[39;49m\u001B[43m_get_len_safe_embeddings\u001B[49m\u001B[43m(\u001B[49m\u001B[43mtexts\u001B[49m\u001B[43m,\u001B[49m\u001B[43m \u001B[49m\u001B[43mengine\u001B[49m\u001B[38;5;241;43m=\u001B[39;49m\u001B[38;5;28;43mself\u001B[39;49m\u001B[38;5;241;43m.\u001B[39;49m\u001B[43mdeployment\u001B[49m\u001B[43m)\u001B[49m\n",
       "\n",
       "File \u001B[0;32m/local_disk0/.ephemeral_nfs/cluster_libraries/python/lib/python3.9/site-packages/langchain/embeddings/openai.py:302\u001B[0m, in \u001B[0;36mOpenAIEmbeddings._get_len_safe_embeddings\u001B[0;34m(self, texts, engine, chunk_size)\u001B[0m\n",
       "\u001B[1;32m    300\u001B[0m _chunk_size \u001B[38;5;241m=\u001B[39m chunk_size \u001B[38;5;129;01mor\u001B[39;00m \u001B[38;5;28mself\u001B[39m\u001B[38;5;241m.\u001B[39mchunk_size\n",
       "\u001B[1;32m    301\u001B[0m \u001B[38;5;28;01mfor\u001B[39;00m i \u001B[38;5;129;01min\u001B[39;00m \u001B[38;5;28mrange\u001B[39m(\u001B[38;5;241m0\u001B[39m, \u001B[38;5;28mlen\u001B[39m(tokens), _chunk_size):\n",
       "\u001B[0;32m--> 302\u001B[0m     response \u001B[38;5;241m=\u001B[39m \u001B[43membed_with_retry\u001B[49m\u001B[43m(\u001B[49m\n",
       "\u001B[1;32m    303\u001B[0m \u001B[43m        \u001B[49m\u001B[38;5;28;43mself\u001B[39;49m\u001B[43m,\u001B[49m\n",
       "\u001B[1;32m    304\u001B[0m \u001B[43m        \u001B[49m\u001B[38;5;28;43minput\u001B[39;49m\u001B[38;5;241;43m=\u001B[39;49m\u001B[43mtokens\u001B[49m\u001B[43m[\u001B[49m\u001B[43mi\u001B[49m\u001B[43m \u001B[49m\u001B[43m:\u001B[49m\u001B[43m \u001B[49m\u001B[43mi\u001B[49m\u001B[43m \u001B[49m\u001B[38;5;241;43m+\u001B[39;49m\u001B[43m \u001B[49m\u001B[43m_chunk_size\u001B[49m\u001B[43m]\u001B[49m\u001B[43m,\u001B[49m\n",
       "\u001B[1;32m    305\u001B[0m \u001B[43m        \u001B[49m\u001B[38;5;241;43m*\u001B[39;49m\u001B[38;5;241;43m*\u001B[39;49m\u001B[38;5;28;43mself\u001B[39;49m\u001B[38;5;241;43m.\u001B[39;49m\u001B[43m_invocation_params\u001B[49m\u001B[43m,\u001B[49m\n",
       "\u001B[1;32m    306\u001B[0m \u001B[43m    \u001B[49m\u001B[43m)\u001B[49m\n",
       "\u001B[1;32m    307\u001B[0m     batched_embeddings \u001B[38;5;241m+\u001B[39m\u001B[38;5;241m=\u001B[39m [r[\u001B[38;5;124m\"\u001B[39m\u001B[38;5;124membedding\u001B[39m\u001B[38;5;124m\"\u001B[39m] \u001B[38;5;28;01mfor\u001B[39;00m r \u001B[38;5;129;01min\u001B[39;00m response[\u001B[38;5;124m\"\u001B[39m\u001B[38;5;124mdata\u001B[39m\u001B[38;5;124m\"\u001B[39m]]\n",
       "\u001B[1;32m    309\u001B[0m results: List[List[List[\u001B[38;5;28mfloat\u001B[39m]]] \u001B[38;5;241m=\u001B[39m [[] \u001B[38;5;28;01mfor\u001B[39;00m _ \u001B[38;5;129;01min\u001B[39;00m \u001B[38;5;28mrange\u001B[39m(\u001B[38;5;28mlen\u001B[39m(texts))]\n",
       "\n",
       "File \u001B[0;32m/local_disk0/.ephemeral_nfs/cluster_libraries/python/lib/python3.9/site-packages/langchain/embeddings/openai.py:97\u001B[0m, in \u001B[0;36membed_with_retry\u001B[0;34m(embeddings, **kwargs)\u001B[0m\n",
       "\u001B[1;32m     93\u001B[0m \u001B[38;5;129m@retry_decorator\u001B[39m\n",
       "\u001B[1;32m     94\u001B[0m \u001B[38;5;28;01mdef\u001B[39;00m \u001B[38;5;21m_embed_with_retry\u001B[39m(\u001B[38;5;241m*\u001B[39m\u001B[38;5;241m*\u001B[39mkwargs: Any) \u001B[38;5;241m-\u001B[39m\u001B[38;5;241m>\u001B[39m Any:\n",
       "\u001B[1;32m     95\u001B[0m     \u001B[38;5;28;01mreturn\u001B[39;00m embeddings\u001B[38;5;241m.\u001B[39mclient\u001B[38;5;241m.\u001B[39mcreate(\u001B[38;5;241m*\u001B[39m\u001B[38;5;241m*\u001B[39mkwargs)\n",
       "\u001B[0;32m---> 97\u001B[0m \u001B[38;5;28;01mreturn\u001B[39;00m \u001B[43m_embed_with_retry\u001B[49m\u001B[43m(\u001B[49m\u001B[38;5;241;43m*\u001B[39;49m\u001B[38;5;241;43m*\u001B[39;49m\u001B[43mkwargs\u001B[49m\u001B[43m)\u001B[49m\n",
       "\n",
       "File \u001B[0;32m/databricks/python/lib/python3.9/site-packages/tenacity/__init__.py:326\u001B[0m, in \u001B[0;36mBaseRetrying.wraps.<locals>.wrapped_f\u001B[0;34m(*args, **kw)\u001B[0m\n",
       "\u001B[1;32m    324\u001B[0m \u001B[38;5;129m@functools\u001B[39m\u001B[38;5;241m.\u001B[39mwraps(f)\n",
       "\u001B[1;32m    325\u001B[0m \u001B[38;5;28;01mdef\u001B[39;00m \u001B[38;5;21mwrapped_f\u001B[39m(\u001B[38;5;241m*\u001B[39margs: t\u001B[38;5;241m.\u001B[39mAny, \u001B[38;5;241m*\u001B[39m\u001B[38;5;241m*\u001B[39mkw: t\u001B[38;5;241m.\u001B[39mAny) \u001B[38;5;241m-\u001B[39m\u001B[38;5;241m>\u001B[39m t\u001B[38;5;241m.\u001B[39mAny:\n",
       "\u001B[0;32m--> 326\u001B[0m     \u001B[38;5;28;01mreturn\u001B[39;00m \u001B[38;5;28;43mself\u001B[39;49m\u001B[43m(\u001B[49m\u001B[43mf\u001B[49m\u001B[43m,\u001B[49m\u001B[43m \u001B[49m\u001B[38;5;241;43m*\u001B[39;49m\u001B[43margs\u001B[49m\u001B[43m,\u001B[49m\u001B[43m \u001B[49m\u001B[38;5;241;43m*\u001B[39;49m\u001B[38;5;241;43m*\u001B[39;49m\u001B[43mkw\u001B[49m\u001B[43m)\u001B[49m\n",
       "\n",
       "File \u001B[0;32m/databricks/python/lib/python3.9/site-packages/tenacity/__init__.py:406\u001B[0m, in \u001B[0;36mRetrying.__call__\u001B[0;34m(self, fn, *args, **kwargs)\u001B[0m\n",
       "\u001B[1;32m    404\u001B[0m retry_state \u001B[38;5;241m=\u001B[39m RetryCallState(retry_object\u001B[38;5;241m=\u001B[39m\u001B[38;5;28mself\u001B[39m, fn\u001B[38;5;241m=\u001B[39mfn, args\u001B[38;5;241m=\u001B[39margs, kwargs\u001B[38;5;241m=\u001B[39mkwargs)\n",
       "\u001B[1;32m    405\u001B[0m \u001B[38;5;28;01mwhile\u001B[39;00m \u001B[38;5;28;01mTrue\u001B[39;00m:\n",
       "\u001B[0;32m--> 406\u001B[0m     do \u001B[38;5;241m=\u001B[39m \u001B[38;5;28;43mself\u001B[39;49m\u001B[38;5;241;43m.\u001B[39;49m\u001B[43miter\u001B[49m\u001B[43m(\u001B[49m\u001B[43mretry_state\u001B[49m\u001B[38;5;241;43m=\u001B[39;49m\u001B[43mretry_state\u001B[49m\u001B[43m)\u001B[49m\n",
       "\u001B[1;32m    407\u001B[0m     \u001B[38;5;28;01mif\u001B[39;00m \u001B[38;5;28misinstance\u001B[39m(do, DoAttempt):\n",
       "\u001B[1;32m    408\u001B[0m         \u001B[38;5;28;01mtry\u001B[39;00m:\n",
       "\n",
       "File \u001B[0;32m/databricks/python/lib/python3.9/site-packages/tenacity/__init__.py:351\u001B[0m, in \u001B[0;36mBaseRetrying.iter\u001B[0;34m(self, retry_state)\u001B[0m\n",
       "\u001B[1;32m    349\u001B[0m is_explicit_retry \u001B[38;5;241m=\u001B[39m retry_state\u001B[38;5;241m.\u001B[39moutcome\u001B[38;5;241m.\u001B[39mfailed \u001B[38;5;129;01mand\u001B[39;00m \u001B[38;5;28misinstance\u001B[39m(retry_state\u001B[38;5;241m.\u001B[39moutcome\u001B[38;5;241m.\u001B[39mexception(), TryAgain)\n",
       "\u001B[1;32m    350\u001B[0m \u001B[38;5;28;01mif\u001B[39;00m \u001B[38;5;129;01mnot\u001B[39;00m (is_explicit_retry \u001B[38;5;129;01mor\u001B[39;00m \u001B[38;5;28mself\u001B[39m\u001B[38;5;241m.\u001B[39mretry(retry_state\u001B[38;5;241m=\u001B[39mretry_state)):\n",
       "\u001B[0;32m--> 351\u001B[0m     \u001B[38;5;28;01mreturn\u001B[39;00m \u001B[43mfut\u001B[49m\u001B[38;5;241;43m.\u001B[39;49m\u001B[43mresult\u001B[49m\u001B[43m(\u001B[49m\u001B[43m)\u001B[49m\n",
       "\u001B[1;32m    353\u001B[0m \u001B[38;5;28;01mif\u001B[39;00m \u001B[38;5;28mself\u001B[39m\u001B[38;5;241m.\u001B[39mafter \u001B[38;5;129;01mis\u001B[39;00m \u001B[38;5;129;01mnot\u001B[39;00m \u001B[38;5;28;01mNone\u001B[39;00m:\n",
       "\u001B[1;32m    354\u001B[0m     \u001B[38;5;28mself\u001B[39m\u001B[38;5;241m.\u001B[39mafter(retry_state)\n",
       "\n",
       "File \u001B[0;32m/usr/lib/python3.9/concurrent/futures/_base.py:438\u001B[0m, in \u001B[0;36mFuture.result\u001B[0;34m(self, timeout)\u001B[0m\n",
       "\u001B[1;32m    436\u001B[0m     \u001B[38;5;28;01mraise\u001B[39;00m CancelledError()\n",
       "\u001B[1;32m    437\u001B[0m \u001B[38;5;28;01melif\u001B[39;00m \u001B[38;5;28mself\u001B[39m\u001B[38;5;241m.\u001B[39m_state \u001B[38;5;241m==\u001B[39m FINISHED:\n",
       "\u001B[0;32m--> 438\u001B[0m     \u001B[38;5;28;01mreturn\u001B[39;00m \u001B[38;5;28;43mself\u001B[39;49m\u001B[38;5;241;43m.\u001B[39;49m\u001B[43m__get_result\u001B[49m\u001B[43m(\u001B[49m\u001B[43m)\u001B[49m\n",
       "\u001B[1;32m    440\u001B[0m \u001B[38;5;28mself\u001B[39m\u001B[38;5;241m.\u001B[39m_condition\u001B[38;5;241m.\u001B[39mwait(timeout)\n",
       "\u001B[1;32m    442\u001B[0m \u001B[38;5;28;01mif\u001B[39;00m \u001B[38;5;28mself\u001B[39m\u001B[38;5;241m.\u001B[39m_state \u001B[38;5;129;01min\u001B[39;00m [CANCELLED, CANCELLED_AND_NOTIFIED]:\n",
       "\n",
       "File \u001B[0;32m/usr/lib/python3.9/concurrent/futures/_base.py:390\u001B[0m, in \u001B[0;36mFuture.__get_result\u001B[0;34m(self)\u001B[0m\n",
       "\u001B[1;32m    388\u001B[0m \u001B[38;5;28;01mif\u001B[39;00m \u001B[38;5;28mself\u001B[39m\u001B[38;5;241m.\u001B[39m_exception:\n",
       "\u001B[1;32m    389\u001B[0m     \u001B[38;5;28;01mtry\u001B[39;00m:\n",
       "\u001B[0;32m--> 390\u001B[0m         \u001B[38;5;28;01mraise\u001B[39;00m \u001B[38;5;28mself\u001B[39m\u001B[38;5;241m.\u001B[39m_exception\n",
       "\u001B[1;32m    391\u001B[0m     \u001B[38;5;28;01mfinally\u001B[39;00m:\n",
       "\u001B[1;32m    392\u001B[0m         \u001B[38;5;66;03m# Break a reference cycle with the exception in self._exception\u001B[39;00m\n",
       "\u001B[1;32m    393\u001B[0m         \u001B[38;5;28mself\u001B[39m \u001B[38;5;241m=\u001B[39m \u001B[38;5;28;01mNone\u001B[39;00m\n",
       "\n",
       "File \u001B[0;32m/databricks/python/lib/python3.9/site-packages/tenacity/__init__.py:409\u001B[0m, in \u001B[0;36mRetrying.__call__\u001B[0;34m(self, fn, *args, **kwargs)\u001B[0m\n",
       "\u001B[1;32m    407\u001B[0m \u001B[38;5;28;01mif\u001B[39;00m \u001B[38;5;28misinstance\u001B[39m(do, DoAttempt):\n",
       "\u001B[1;32m    408\u001B[0m     \u001B[38;5;28;01mtry\u001B[39;00m:\n",
       "\u001B[0;32m--> 409\u001B[0m         result \u001B[38;5;241m=\u001B[39m \u001B[43mfn\u001B[49m\u001B[43m(\u001B[49m\u001B[38;5;241;43m*\u001B[39;49m\u001B[43margs\u001B[49m\u001B[43m,\u001B[49m\u001B[43m \u001B[49m\u001B[38;5;241;43m*\u001B[39;49m\u001B[38;5;241;43m*\u001B[39;49m\u001B[43mkwargs\u001B[49m\u001B[43m)\u001B[49m\n",
       "\u001B[1;32m    410\u001B[0m     \u001B[38;5;28;01mexcept\u001B[39;00m \u001B[38;5;167;01mBaseException\u001B[39;00m:  \u001B[38;5;66;03m# noqa: B902\u001B[39;00m\n",
       "\u001B[1;32m    411\u001B[0m         retry_state\u001B[38;5;241m.\u001B[39mset_exception(sys\u001B[38;5;241m.\u001B[39mexc_info())\n",
       "\n",
       "File \u001B[0;32m/local_disk0/.ephemeral_nfs/cluster_libraries/python/lib/python3.9/site-packages/langchain/embeddings/openai.py:95\u001B[0m, in \u001B[0;36membed_with_retry.<locals>._embed_with_retry\u001B[0;34m(**kwargs)\u001B[0m\n",
       "\u001B[1;32m     93\u001B[0m \u001B[38;5;129m@retry_decorator\u001B[39m\n",
       "\u001B[1;32m     94\u001B[0m \u001B[38;5;28;01mdef\u001B[39;00m \u001B[38;5;21m_embed_with_retry\u001B[39m(\u001B[38;5;241m*\u001B[39m\u001B[38;5;241m*\u001B[39mkwargs: Any) \u001B[38;5;241m-\u001B[39m\u001B[38;5;241m>\u001B[39m Any:\n",
       "\u001B[0;32m---> 95\u001B[0m     \u001B[38;5;28;01mreturn\u001B[39;00m \u001B[43membeddings\u001B[49m\u001B[38;5;241;43m.\u001B[39;49m\u001B[43mclient\u001B[49m\u001B[38;5;241;43m.\u001B[39;49m\u001B[43mcreate\u001B[49m\u001B[43m(\u001B[49m\u001B[38;5;241;43m*\u001B[39;49m\u001B[38;5;241;43m*\u001B[39;49m\u001B[43mkwargs\u001B[49m\u001B[43m)\u001B[49m\n",
       "\n",
       "File \u001B[0;32m/local_disk0/.ephemeral_nfs/cluster_libraries/python/lib/python3.9/site-packages/openai/api_resources/embedding.py:33\u001B[0m, in \u001B[0;36mEmbedding.create\u001B[0;34m(cls, *args, **kwargs)\u001B[0m\n",
       "\u001B[1;32m     31\u001B[0m \u001B[38;5;28;01mwhile\u001B[39;00m \u001B[38;5;28;01mTrue\u001B[39;00m:\n",
       "\u001B[1;32m     32\u001B[0m     \u001B[38;5;28;01mtry\u001B[39;00m:\n",
       "\u001B[0;32m---> 33\u001B[0m         response \u001B[38;5;241m=\u001B[39m \u001B[38;5;28;43msuper\u001B[39;49m\u001B[43m(\u001B[49m\u001B[43m)\u001B[49m\u001B[38;5;241;43m.\u001B[39;49m\u001B[43mcreate\u001B[49m\u001B[43m(\u001B[49m\u001B[38;5;241;43m*\u001B[39;49m\u001B[43margs\u001B[49m\u001B[43m,\u001B[49m\u001B[43m \u001B[49m\u001B[38;5;241;43m*\u001B[39;49m\u001B[38;5;241;43m*\u001B[39;49m\u001B[43mkwargs\u001B[49m\u001B[43m)\u001B[49m\n",
       "\u001B[1;32m     35\u001B[0m         \u001B[38;5;66;03m# If a user specifies base64, we'll just return the encoded string.\u001B[39;00m\n",
       "\u001B[1;32m     36\u001B[0m         \u001B[38;5;66;03m# This is only for the default case.\u001B[39;00m\n",
       "\u001B[1;32m     37\u001B[0m         \u001B[38;5;28;01mif\u001B[39;00m \u001B[38;5;129;01mnot\u001B[39;00m user_provided_encoding_format:\n",
       "\n",
       "File \u001B[0;32m/local_disk0/.ephemeral_nfs/cluster_libraries/python/lib/python3.9/site-packages/openai/api_resources/abstract/engine_api_resource.py:153\u001B[0m, in \u001B[0;36mEngineAPIResource.create\u001B[0;34m(cls, api_key, api_base, api_type, request_id, api_version, organization, **params)\u001B[0m\n",
       "\u001B[1;32m    127\u001B[0m \u001B[38;5;129m@classmethod\u001B[39m\n",
       "\u001B[1;32m    128\u001B[0m \u001B[38;5;28;01mdef\u001B[39;00m \u001B[38;5;21mcreate\u001B[39m(\n",
       "\u001B[1;32m    129\u001B[0m     \u001B[38;5;28mcls\u001B[39m,\n",
       "\u001B[0;32m   (...)\u001B[0m\n",
       "\u001B[1;32m    136\u001B[0m     \u001B[38;5;241m*\u001B[39m\u001B[38;5;241m*\u001B[39mparams,\n",
       "\u001B[1;32m    137\u001B[0m ):\n",
       "\u001B[1;32m    138\u001B[0m     (\n",
       "\u001B[1;32m    139\u001B[0m         deployment_id,\n",
       "\u001B[1;32m    140\u001B[0m         engine,\n",
       "\u001B[0;32m   (...)\u001B[0m\n",
       "\u001B[1;32m    150\u001B[0m         api_key, api_base, api_type, api_version, organization, \u001B[38;5;241m*\u001B[39m\u001B[38;5;241m*\u001B[39mparams\n",
       "\u001B[1;32m    151\u001B[0m     )\n",
       "\u001B[0;32m--> 153\u001B[0m     response, _, api_key \u001B[38;5;241m=\u001B[39m \u001B[43mrequestor\u001B[49m\u001B[38;5;241;43m.\u001B[39;49m\u001B[43mrequest\u001B[49m\u001B[43m(\u001B[49m\n",
       "\u001B[1;32m    154\u001B[0m \u001B[43m        \u001B[49m\u001B[38;5;124;43m\"\u001B[39;49m\u001B[38;5;124;43mpost\u001B[39;49m\u001B[38;5;124;43m\"\u001B[39;49m\u001B[43m,\u001B[49m\n",
       "\u001B[1;32m    155\u001B[0m \u001B[43m        \u001B[49m\u001B[43murl\u001B[49m\u001B[43m,\u001B[49m\n",
       "\u001B[1;32m    156\u001B[0m \u001B[43m        \u001B[49m\u001B[43mparams\u001B[49m\u001B[38;5;241;43m=\u001B[39;49m\u001B[43mparams\u001B[49m\u001B[43m,\u001B[49m\n",
       "\u001B[1;32m    157\u001B[0m \u001B[43m        \u001B[49m\u001B[43mheaders\u001B[49m\u001B[38;5;241;43m=\u001B[39;49m\u001B[43mheaders\u001B[49m\u001B[43m,\u001B[49m\n",
       "\u001B[1;32m    158\u001B[0m \u001B[43m        \u001B[49m\u001B[43mstream\u001B[49m\u001B[38;5;241;43m=\u001B[39;49m\u001B[43mstream\u001B[49m\u001B[43m,\u001B[49m\n",
       "\u001B[1;32m    159\u001B[0m \u001B[43m        \u001B[49m\u001B[43mrequest_id\u001B[49m\u001B[38;5;241;43m=\u001B[39;49m\u001B[43mrequest_id\u001B[49m\u001B[43m,\u001B[49m\n",
       "\u001B[1;32m    160\u001B[0m \u001B[43m        \u001B[49m\u001B[43mrequest_timeout\u001B[49m\u001B[38;5;241;43m=\u001B[39;49m\u001B[43mrequest_timeout\u001B[49m\u001B[43m,\u001B[49m\n",
       "\u001B[1;32m    161\u001B[0m \u001B[43m    \u001B[49m\u001B[43m)\u001B[49m\n",
       "\u001B[1;32m    163\u001B[0m     \u001B[38;5;28;01mif\u001B[39;00m stream:\n",
       "\u001B[1;32m    164\u001B[0m         \u001B[38;5;66;03m# must be an iterator\u001B[39;00m\n",
       "\u001B[1;32m    165\u001B[0m         \u001B[38;5;28;01massert\u001B[39;00m \u001B[38;5;129;01mnot\u001B[39;00m \u001B[38;5;28misinstance\u001B[39m(response, OpenAIResponse)\n",
       "\n",
       "File \u001B[0;32m/local_disk0/.ephemeral_nfs/cluster_libraries/python/lib/python3.9/site-packages/openai/api_requestor.py:298\u001B[0m, in \u001B[0;36mAPIRequestor.request\u001B[0;34m(self, method, url, params, headers, files, stream, request_id, request_timeout)\u001B[0m\n",
       "\u001B[1;32m    277\u001B[0m \u001B[38;5;28;01mdef\u001B[39;00m \u001B[38;5;21mrequest\u001B[39m(\n",
       "\u001B[1;32m    278\u001B[0m     \u001B[38;5;28mself\u001B[39m,\n",
       "\u001B[1;32m    279\u001B[0m     method,\n",
       "\u001B[0;32m   (...)\u001B[0m\n",
       "\u001B[1;32m    286\u001B[0m     request_timeout: Optional[Union[\u001B[38;5;28mfloat\u001B[39m, Tuple[\u001B[38;5;28mfloat\u001B[39m, \u001B[38;5;28mfloat\u001B[39m]]] \u001B[38;5;241m=\u001B[39m \u001B[38;5;28;01mNone\u001B[39;00m,\n",
       "\u001B[1;32m    287\u001B[0m ) \u001B[38;5;241m-\u001B[39m\u001B[38;5;241m>\u001B[39m Tuple[Union[OpenAIResponse, Iterator[OpenAIResponse]], \u001B[38;5;28mbool\u001B[39m, \u001B[38;5;28mstr\u001B[39m]:\n",
       "\u001B[1;32m    288\u001B[0m     result \u001B[38;5;241m=\u001B[39m \u001B[38;5;28mself\u001B[39m\u001B[38;5;241m.\u001B[39mrequest_raw(\n",
       "\u001B[1;32m    289\u001B[0m         method\u001B[38;5;241m.\u001B[39mlower(),\n",
       "\u001B[1;32m    290\u001B[0m         url,\n",
       "\u001B[0;32m   (...)\u001B[0m\n",
       "\u001B[1;32m    296\u001B[0m         request_timeout\u001B[38;5;241m=\u001B[39mrequest_timeout,\n",
       "\u001B[1;32m    297\u001B[0m     )\n",
       "\u001B[0;32m--> 298\u001B[0m     resp, got_stream \u001B[38;5;241m=\u001B[39m \u001B[38;5;28;43mself\u001B[39;49m\u001B[38;5;241;43m.\u001B[39;49m\u001B[43m_interpret_response\u001B[49m\u001B[43m(\u001B[49m\u001B[43mresult\u001B[49m\u001B[43m,\u001B[49m\u001B[43m \u001B[49m\u001B[43mstream\u001B[49m\u001B[43m)\u001B[49m\n",
       "\u001B[1;32m    299\u001B[0m     \u001B[38;5;28;01mreturn\u001B[39;00m resp, got_stream, \u001B[38;5;28mself\u001B[39m\u001B[38;5;241m.\u001B[39mapi_key\n",
       "\n",
       "File \u001B[0;32m/local_disk0/.ephemeral_nfs/cluster_libraries/python/lib/python3.9/site-packages/openai/api_requestor.py:700\u001B[0m, in \u001B[0;36mAPIRequestor._interpret_response\u001B[0;34m(self, result, stream)\u001B[0m\n",
       "\u001B[1;32m    692\u001B[0m     \u001B[38;5;28;01mreturn\u001B[39;00m (\n",
       "\u001B[1;32m    693\u001B[0m         \u001B[38;5;28mself\u001B[39m\u001B[38;5;241m.\u001B[39m_interpret_response_line(\n",
       "\u001B[1;32m    694\u001B[0m             line, result\u001B[38;5;241m.\u001B[39mstatus_code, result\u001B[38;5;241m.\u001B[39mheaders, stream\u001B[38;5;241m=\u001B[39m\u001B[38;5;28;01mTrue\u001B[39;00m\n",
       "\u001B[1;32m    695\u001B[0m         )\n",
       "\u001B[1;32m    696\u001B[0m         \u001B[38;5;28;01mfor\u001B[39;00m line \u001B[38;5;129;01min\u001B[39;00m parse_stream(result\u001B[38;5;241m.\u001B[39miter_lines())\n",
       "\u001B[1;32m    697\u001B[0m     ), \u001B[38;5;28;01mTrue\u001B[39;00m\n",
       "\u001B[1;32m    698\u001B[0m \u001B[38;5;28;01melse\u001B[39;00m:\n",
       "\u001B[1;32m    699\u001B[0m     \u001B[38;5;28;01mreturn\u001B[39;00m (\n",
       "\u001B[0;32m--> 700\u001B[0m         \u001B[38;5;28;43mself\u001B[39;49m\u001B[38;5;241;43m.\u001B[39;49m\u001B[43m_interpret_response_line\u001B[49m\u001B[43m(\u001B[49m\n",
       "\u001B[1;32m    701\u001B[0m \u001B[43m            \u001B[49m\u001B[43mresult\u001B[49m\u001B[38;5;241;43m.\u001B[39;49m\u001B[43mcontent\u001B[49m\u001B[38;5;241;43m.\u001B[39;49m\u001B[43mdecode\u001B[49m\u001B[43m(\u001B[49m\u001B[38;5;124;43m\"\u001B[39;49m\u001B[38;5;124;43mutf-8\u001B[39;49m\u001B[38;5;124;43m\"\u001B[39;49m\u001B[43m)\u001B[49m\u001B[43m,\u001B[49m\n",
       "\u001B[1;32m    702\u001B[0m \u001B[43m            \u001B[49m\u001B[43mresult\u001B[49m\u001B[38;5;241;43m.\u001B[39;49m\u001B[43mstatus_code\u001B[49m\u001B[43m,\u001B[49m\n",
       "\u001B[1;32m    703\u001B[0m \u001B[43m            \u001B[49m\u001B[43mresult\u001B[49m\u001B[38;5;241;43m.\u001B[39;49m\u001B[43mheaders\u001B[49m\u001B[43m,\u001B[49m\n",
       "\u001B[1;32m    704\u001B[0m \u001B[43m            \u001B[49m\u001B[43mstream\u001B[49m\u001B[38;5;241;43m=\u001B[39;49m\u001B[38;5;28;43;01mFalse\u001B[39;49;00m\u001B[43m,\u001B[49m\n",
       "\u001B[1;32m    705\u001B[0m \u001B[43m        \u001B[49m\u001B[43m)\u001B[49m,\n",
       "\u001B[1;32m    706\u001B[0m         \u001B[38;5;28;01mFalse\u001B[39;00m,\n",
       "\u001B[1;32m    707\u001B[0m     )\n",
       "\n",
       "File \u001B[0;32m/local_disk0/.ephemeral_nfs/cluster_libraries/python/lib/python3.9/site-packages/openai/api_requestor.py:763\u001B[0m, in \u001B[0;36mAPIRequestor._interpret_response_line\u001B[0;34m(self, rbody, rcode, rheaders, stream)\u001B[0m\n",
       "\u001B[1;32m    761\u001B[0m stream_error \u001B[38;5;241m=\u001B[39m stream \u001B[38;5;129;01mand\u001B[39;00m \u001B[38;5;124m\"\u001B[39m\u001B[38;5;124merror\u001B[39m\u001B[38;5;124m\"\u001B[39m \u001B[38;5;129;01min\u001B[39;00m resp\u001B[38;5;241m.\u001B[39mdata\n",
       "\u001B[1;32m    762\u001B[0m \u001B[38;5;28;01mif\u001B[39;00m stream_error \u001B[38;5;129;01mor\u001B[39;00m \u001B[38;5;129;01mnot\u001B[39;00m \u001B[38;5;241m200\u001B[39m \u001B[38;5;241m<\u001B[39m\u001B[38;5;241m=\u001B[39m rcode \u001B[38;5;241m<\u001B[39m \u001B[38;5;241m300\u001B[39m:\n",
       "\u001B[0;32m--> 763\u001B[0m     \u001B[38;5;28;01mraise\u001B[39;00m \u001B[38;5;28mself\u001B[39m\u001B[38;5;241m.\u001B[39mhandle_error_response(\n",
       "\u001B[1;32m    764\u001B[0m         rbody, rcode, resp\u001B[38;5;241m.\u001B[39mdata, rheaders, stream_error\u001B[38;5;241m=\u001B[39mstream_error\n",
       "\u001B[1;32m    765\u001B[0m     )\n",
       "\u001B[1;32m    766\u001B[0m \u001B[38;5;28;01mreturn\u001B[39;00m resp\n",
       "\n",
       "\u001B[0;31mInvalidRequestError\u001B[0m: Too many inputs for model None. The max number of inputs is 1.  We hope to increase the number of inputs per request soon. Please contact us through an Azure support request at: https://go.microsoft.com/fwlink/?linkid=2213926 for further questions."
      ]
     },
     "metadata": {
      "application/vnd.databricks.v1+output": {
       "arguments": {},
       "data": "\u001B[0;31m---------------------------------------------------------------------------\u001B[0m\n\u001B[0;31mInvalidRequestError\u001B[0m                       Traceback (most recent call last)\nFile \u001B[0;32m<command-108776940641816>:7\u001B[0m\n\u001B[1;32m      5\u001B[0m texts \u001B[38;5;241m=\u001B[39m text_splitter\u001B[38;5;241m.\u001B[39msplit_documents(documents)\n\u001B[1;32m      6\u001B[0m embeddings \u001B[38;5;241m=\u001B[39m OpenAIEmbeddings()\n\u001B[0;32m----> 7\u001B[0m state_of_union_store \u001B[38;5;241m=\u001B[39m Chroma\u001B[38;5;241m.\u001B[39mfrom_documents(\n\u001B[1;32m      8\u001B[0m     texts, embeddings, collection_name\u001B[38;5;241m=\u001B[39m\u001B[38;5;124m\"\u001B[39m\u001B[38;5;124mjustText\u001B[39m\u001B[38;5;124m\"\u001B[39m\n\u001B[1;32m      9\u001B[0m )\n\nFile \u001B[0;32m/local_disk0/.ephemeral_nfs/cluster_libraries/python/lib/python3.9/site-packages/langchain/vectorstores/chroma.py:435\u001B[0m, in \u001B[0;36mChroma.from_documents\u001B[0;34m(cls, documents, embedding, ids, collection_name, persist_directory, client_settings, client, **kwargs)\u001B[0m\n\u001B[1;32m    433\u001B[0m texts \u001B[38;5;241m=\u001B[39m [doc\u001B[38;5;241m.\u001B[39mpage_content \u001B[38;5;28;01mfor\u001B[39;00m doc \u001B[38;5;129;01min\u001B[39;00m documents]\n\u001B[1;32m    434\u001B[0m metadatas \u001B[38;5;241m=\u001B[39m [doc\u001B[38;5;241m.\u001B[39mmetadata \u001B[38;5;28;01mfor\u001B[39;00m doc \u001B[38;5;129;01min\u001B[39;00m documents]\n\u001B[0;32m--> 435\u001B[0m \u001B[38;5;28;01mreturn\u001B[39;00m \u001B[38;5;28;43mcls\u001B[39;49m\u001B[38;5;241;43m.\u001B[39;49m\u001B[43mfrom_texts\u001B[49m\u001B[43m(\u001B[49m\n\u001B[1;32m    436\u001B[0m \u001B[43m    \u001B[49m\u001B[43mtexts\u001B[49m\u001B[38;5;241;43m=\u001B[39;49m\u001B[43mtexts\u001B[49m\u001B[43m,\u001B[49m\n\u001B[1;32m    437\u001B[0m \u001B[43m    \u001B[49m\u001B[43membedding\u001B[49m\u001B[38;5;241;43m=\u001B[39;49m\u001B[43membedding\u001B[49m\u001B[43m,\u001B[49m\n\u001B[1;32m    438\u001B[0m \u001B[43m    \u001B[49m\u001B[43mmetadatas\u001B[49m\u001B[38;5;241;43m=\u001B[39;49m\u001B[43mmetadatas\u001B[49m\u001B[43m,\u001B[49m\n\u001B[1;32m    439\u001B[0m \u001B[43m    \u001B[49m\u001B[43mids\u001B[49m\u001B[38;5;241;43m=\u001B[39;49m\u001B[43mids\u001B[49m\u001B[43m,\u001B[49m\n\u001B[1;32m    440\u001B[0m \u001B[43m    \u001B[49m\u001B[43mcollection_name\u001B[49m\u001B[38;5;241;43m=\u001B[39;49m\u001B[43mcollection_name\u001B[49m\u001B[43m,\u001B[49m\n\u001B[1;32m    441\u001B[0m \u001B[43m    \u001B[49m\u001B[43mpersist_directory\u001B[49m\u001B[38;5;241;43m=\u001B[39;49m\u001B[43mpersist_directory\u001B[49m\u001B[43m,\u001B[49m\n\u001B[1;32m    442\u001B[0m \u001B[43m    \u001B[49m\u001B[43mclient_settings\u001B[49m\u001B[38;5;241;43m=\u001B[39;49m\u001B[43mclient_settings\u001B[49m\u001B[43m,\u001B[49m\n\u001B[1;32m    443\u001B[0m \u001B[43m    \u001B[49m\u001B[43mclient\u001B[49m\u001B[38;5;241;43m=\u001B[39;49m\u001B[43mclient\u001B[49m\u001B[43m,\u001B[49m\n\u001B[1;32m    444\u001B[0m \u001B[43m\u001B[49m\u001B[43m)\u001B[49m\n\nFile \u001B[0;32m/local_disk0/.ephemeral_nfs/cluster_libraries/python/lib/python3.9/site-packages/langchain/vectorstores/chroma.py:403\u001B[0m, in \u001B[0;36mChroma.from_texts\u001B[0;34m(cls, texts, embedding, metadatas, ids, collection_name, persist_directory, client_settings, client, **kwargs)\u001B[0m\n\u001B[1;32m    379\u001B[0m \u001B[38;5;124;03m\"\"\"Create a Chroma vectorstore from a raw documents.\u001B[39;00m\n\u001B[1;32m    380\u001B[0m \n\u001B[1;32m    381\u001B[0m \u001B[38;5;124;03mIf a persist_directory is specified, the collection will be persisted there.\u001B[39;00m\n\u001B[0;32m   (...)\u001B[0m\n\u001B[1;32m    394\u001B[0m \u001B[38;5;124;03m    Chroma: Chroma vectorstore.\u001B[39;00m\n\u001B[1;32m    395\u001B[0m \u001B[38;5;124;03m\"\"\"\u001B[39;00m\n\u001B[1;32m    396\u001B[0m chroma_collection \u001B[38;5;241m=\u001B[39m \u001B[38;5;28mcls\u001B[39m(\n\u001B[1;32m    397\u001B[0m     collection_name\u001B[38;5;241m=\u001B[39mcollection_name,\n\u001B[1;32m    398\u001B[0m     embedding_function\u001B[38;5;241m=\u001B[39membedding,\n\u001B[0;32m   (...)\u001B[0m\n\u001B[1;32m    401\u001B[0m     client\u001B[38;5;241m=\u001B[39mclient,\n\u001B[1;32m    402\u001B[0m )\n\u001B[0;32m--> 403\u001B[0m \u001B[43mchroma_collection\u001B[49m\u001B[38;5;241;43m.\u001B[39;49m\u001B[43madd_texts\u001B[49m\u001B[43m(\u001B[49m\u001B[43mtexts\u001B[49m\u001B[38;5;241;43m=\u001B[39;49m\u001B[43mtexts\u001B[49m\u001B[43m,\u001B[49m\u001B[43m \u001B[49m\u001B[43mmetadatas\u001B[49m\u001B[38;5;241;43m=\u001B[39;49m\u001B[43mmetadatas\u001B[49m\u001B[43m,\u001B[49m\u001B[43m \u001B[49m\u001B[43mids\u001B[49m\u001B[38;5;241;43m=\u001B[39;49m\u001B[43mids\u001B[49m\u001B[43m)\u001B[49m\n\u001B[1;32m    404\u001B[0m \u001B[38;5;28;01mreturn\u001B[39;00m chroma_collection\n\nFile \u001B[0;32m/local_disk0/.ephemeral_nfs/cluster_libraries/python/lib/python3.9/site-packages/langchain/vectorstores/chroma.py:148\u001B[0m, in \u001B[0;36mChroma.add_texts\u001B[0;34m(self, texts, metadatas, ids, **kwargs)\u001B[0m\n\u001B[1;32m    146\u001B[0m embeddings \u001B[38;5;241m=\u001B[39m \u001B[38;5;28;01mNone\u001B[39;00m\n\u001B[1;32m    147\u001B[0m \u001B[38;5;28;01mif\u001B[39;00m \u001B[38;5;28mself\u001B[39m\u001B[38;5;241m.\u001B[39m_embedding_function \u001B[38;5;129;01mis\u001B[39;00m \u001B[38;5;129;01mnot\u001B[39;00m \u001B[38;5;28;01mNone\u001B[39;00m:\n\u001B[0;32m--> 148\u001B[0m     embeddings \u001B[38;5;241m=\u001B[39m \u001B[38;5;28;43mself\u001B[39;49m\u001B[38;5;241;43m.\u001B[39;49m\u001B[43m_embedding_function\u001B[49m\u001B[38;5;241;43m.\u001B[39;49m\u001B[43membed_documents\u001B[49m\u001B[43m(\u001B[49m\u001B[38;5;28;43mlist\u001B[39;49m\u001B[43m(\u001B[49m\u001B[43mtexts\u001B[49m\u001B[43m)\u001B[49m\u001B[43m)\u001B[49m\n\u001B[1;32m    149\u001B[0m \u001B[38;5;28mself\u001B[39m\u001B[38;5;241m.\u001B[39m_collection\u001B[38;5;241m.\u001B[39mupsert(\n\u001B[1;32m    150\u001B[0m     metadatas\u001B[38;5;241m=\u001B[39mmetadatas, embeddings\u001B[38;5;241m=\u001B[39membeddings, documents\u001B[38;5;241m=\u001B[39mtexts, ids\u001B[38;5;241m=\u001B[39mids\n\u001B[1;32m    151\u001B[0m )\n\u001B[1;32m    152\u001B[0m \u001B[38;5;28;01mreturn\u001B[39;00m ids\n\nFile \u001B[0;32m/local_disk0/.ephemeral_nfs/cluster_libraries/python/lib/python3.9/site-packages/langchain/embeddings/openai.py:452\u001B[0m, in \u001B[0;36mOpenAIEmbeddings.embed_documents\u001B[0;34m(self, texts, chunk_size)\u001B[0m\n\u001B[1;32m    440\u001B[0m \u001B[38;5;124;03m\"\"\"Call out to OpenAI's embedding endpoint for embedding search docs.\u001B[39;00m\n\u001B[1;32m    441\u001B[0m \n\u001B[1;32m    442\u001B[0m \u001B[38;5;124;03mArgs:\u001B[39;00m\n\u001B[0;32m   (...)\u001B[0m\n\u001B[1;32m    448\u001B[0m \u001B[38;5;124;03m    List of embeddings, one for each text.\u001B[39;00m\n\u001B[1;32m    449\u001B[0m \u001B[38;5;124;03m\"\"\"\u001B[39;00m\n\u001B[1;32m    450\u001B[0m \u001B[38;5;66;03m# NOTE: to keep things simple, we assume the list may contain texts longer\u001B[39;00m\n\u001B[1;32m    451\u001B[0m \u001B[38;5;66;03m#       than the maximum context and use length-safe embedding function.\u001B[39;00m\n\u001B[0;32m--> 452\u001B[0m \u001B[38;5;28;01mreturn\u001B[39;00m \u001B[38;5;28;43mself\u001B[39;49m\u001B[38;5;241;43m.\u001B[39;49m\u001B[43m_get_len_safe_embeddings\u001B[49m\u001B[43m(\u001B[49m\u001B[43mtexts\u001B[49m\u001B[43m,\u001B[49m\u001B[43m \u001B[49m\u001B[43mengine\u001B[49m\u001B[38;5;241;43m=\u001B[39;49m\u001B[38;5;28;43mself\u001B[39;49m\u001B[38;5;241;43m.\u001B[39;49m\u001B[43mdeployment\u001B[49m\u001B[43m)\u001B[49m\n\nFile \u001B[0;32m/local_disk0/.ephemeral_nfs/cluster_libraries/python/lib/python3.9/site-packages/langchain/embeddings/openai.py:302\u001B[0m, in \u001B[0;36mOpenAIEmbeddings._get_len_safe_embeddings\u001B[0;34m(self, texts, engine, chunk_size)\u001B[0m\n\u001B[1;32m    300\u001B[0m _chunk_size \u001B[38;5;241m=\u001B[39m chunk_size \u001B[38;5;129;01mor\u001B[39;00m \u001B[38;5;28mself\u001B[39m\u001B[38;5;241m.\u001B[39mchunk_size\n\u001B[1;32m    301\u001B[0m \u001B[38;5;28;01mfor\u001B[39;00m i \u001B[38;5;129;01min\u001B[39;00m \u001B[38;5;28mrange\u001B[39m(\u001B[38;5;241m0\u001B[39m, \u001B[38;5;28mlen\u001B[39m(tokens), _chunk_size):\n\u001B[0;32m--> 302\u001B[0m     response \u001B[38;5;241m=\u001B[39m \u001B[43membed_with_retry\u001B[49m\u001B[43m(\u001B[49m\n\u001B[1;32m    303\u001B[0m \u001B[43m        \u001B[49m\u001B[38;5;28;43mself\u001B[39;49m\u001B[43m,\u001B[49m\n\u001B[1;32m    304\u001B[0m \u001B[43m        \u001B[49m\u001B[38;5;28;43minput\u001B[39;49m\u001B[38;5;241;43m=\u001B[39;49m\u001B[43mtokens\u001B[49m\u001B[43m[\u001B[49m\u001B[43mi\u001B[49m\u001B[43m \u001B[49m\u001B[43m:\u001B[49m\u001B[43m \u001B[49m\u001B[43mi\u001B[49m\u001B[43m \u001B[49m\u001B[38;5;241;43m+\u001B[39;49m\u001B[43m \u001B[49m\u001B[43m_chunk_size\u001B[49m\u001B[43m]\u001B[49m\u001B[43m,\u001B[49m\n\u001B[1;32m    305\u001B[0m \u001B[43m        \u001B[49m\u001B[38;5;241;43m*\u001B[39;49m\u001B[38;5;241;43m*\u001B[39;49m\u001B[38;5;28;43mself\u001B[39;49m\u001B[38;5;241;43m.\u001B[39;49m\u001B[43m_invocation_params\u001B[49m\u001B[43m,\u001B[49m\n\u001B[1;32m    306\u001B[0m \u001B[43m    \u001B[49m\u001B[43m)\u001B[49m\n\u001B[1;32m    307\u001B[0m     batched_embeddings \u001B[38;5;241m+\u001B[39m\u001B[38;5;241m=\u001B[39m [r[\u001B[38;5;124m\"\u001B[39m\u001B[38;5;124membedding\u001B[39m\u001B[38;5;124m\"\u001B[39m] \u001B[38;5;28;01mfor\u001B[39;00m r \u001B[38;5;129;01min\u001B[39;00m response[\u001B[38;5;124m\"\u001B[39m\u001B[38;5;124mdata\u001B[39m\u001B[38;5;124m\"\u001B[39m]]\n\u001B[1;32m    309\u001B[0m results: List[List[List[\u001B[38;5;28mfloat\u001B[39m]]] \u001B[38;5;241m=\u001B[39m [[] \u001B[38;5;28;01mfor\u001B[39;00m _ \u001B[38;5;129;01min\u001B[39;00m \u001B[38;5;28mrange\u001B[39m(\u001B[38;5;28mlen\u001B[39m(texts))]\n\nFile \u001B[0;32m/local_disk0/.ephemeral_nfs/cluster_libraries/python/lib/python3.9/site-packages/langchain/embeddings/openai.py:97\u001B[0m, in \u001B[0;36membed_with_retry\u001B[0;34m(embeddings, **kwargs)\u001B[0m\n\u001B[1;32m     93\u001B[0m \u001B[38;5;129m@retry_decorator\u001B[39m\n\u001B[1;32m     94\u001B[0m \u001B[38;5;28;01mdef\u001B[39;00m \u001B[38;5;21m_embed_with_retry\u001B[39m(\u001B[38;5;241m*\u001B[39m\u001B[38;5;241m*\u001B[39mkwargs: Any) \u001B[38;5;241m-\u001B[39m\u001B[38;5;241m>\u001B[39m Any:\n\u001B[1;32m     95\u001B[0m     \u001B[38;5;28;01mreturn\u001B[39;00m embeddings\u001B[38;5;241m.\u001B[39mclient\u001B[38;5;241m.\u001B[39mcreate(\u001B[38;5;241m*\u001B[39m\u001B[38;5;241m*\u001B[39mkwargs)\n\u001B[0;32m---> 97\u001B[0m \u001B[38;5;28;01mreturn\u001B[39;00m \u001B[43m_embed_with_retry\u001B[49m\u001B[43m(\u001B[49m\u001B[38;5;241;43m*\u001B[39;49m\u001B[38;5;241;43m*\u001B[39;49m\u001B[43mkwargs\u001B[49m\u001B[43m)\u001B[49m\n\nFile \u001B[0;32m/databricks/python/lib/python3.9/site-packages/tenacity/__init__.py:326\u001B[0m, in \u001B[0;36mBaseRetrying.wraps.<locals>.wrapped_f\u001B[0;34m(*args, **kw)\u001B[0m\n\u001B[1;32m    324\u001B[0m \u001B[38;5;129m@functools\u001B[39m\u001B[38;5;241m.\u001B[39mwraps(f)\n\u001B[1;32m    325\u001B[0m \u001B[38;5;28;01mdef\u001B[39;00m \u001B[38;5;21mwrapped_f\u001B[39m(\u001B[38;5;241m*\u001B[39margs: t\u001B[38;5;241m.\u001B[39mAny, \u001B[38;5;241m*\u001B[39m\u001B[38;5;241m*\u001B[39mkw: t\u001B[38;5;241m.\u001B[39mAny) \u001B[38;5;241m-\u001B[39m\u001B[38;5;241m>\u001B[39m t\u001B[38;5;241m.\u001B[39mAny:\n\u001B[0;32m--> 326\u001B[0m     \u001B[38;5;28;01mreturn\u001B[39;00m \u001B[38;5;28;43mself\u001B[39;49m\u001B[43m(\u001B[49m\u001B[43mf\u001B[49m\u001B[43m,\u001B[49m\u001B[43m \u001B[49m\u001B[38;5;241;43m*\u001B[39;49m\u001B[43margs\u001B[49m\u001B[43m,\u001B[49m\u001B[43m \u001B[49m\u001B[38;5;241;43m*\u001B[39;49m\u001B[38;5;241;43m*\u001B[39;49m\u001B[43mkw\u001B[49m\u001B[43m)\u001B[49m\n\nFile \u001B[0;32m/databricks/python/lib/python3.9/site-packages/tenacity/__init__.py:406\u001B[0m, in \u001B[0;36mRetrying.__call__\u001B[0;34m(self, fn, *args, **kwargs)\u001B[0m\n\u001B[1;32m    404\u001B[0m retry_state \u001B[38;5;241m=\u001B[39m RetryCallState(retry_object\u001B[38;5;241m=\u001B[39m\u001B[38;5;28mself\u001B[39m, fn\u001B[38;5;241m=\u001B[39mfn, args\u001B[38;5;241m=\u001B[39margs, kwargs\u001B[38;5;241m=\u001B[39mkwargs)\n\u001B[1;32m    405\u001B[0m \u001B[38;5;28;01mwhile\u001B[39;00m \u001B[38;5;28;01mTrue\u001B[39;00m:\n\u001B[0;32m--> 406\u001B[0m     do \u001B[38;5;241m=\u001B[39m \u001B[38;5;28;43mself\u001B[39;49m\u001B[38;5;241;43m.\u001B[39;49m\u001B[43miter\u001B[49m\u001B[43m(\u001B[49m\u001B[43mretry_state\u001B[49m\u001B[38;5;241;43m=\u001B[39;49m\u001B[43mretry_state\u001B[49m\u001B[43m)\u001B[49m\n\u001B[1;32m    407\u001B[0m     \u001B[38;5;28;01mif\u001B[39;00m \u001B[38;5;28misinstance\u001B[39m(do, DoAttempt):\n\u001B[1;32m    408\u001B[0m         \u001B[38;5;28;01mtry\u001B[39;00m:\n\nFile \u001B[0;32m/databricks/python/lib/python3.9/site-packages/tenacity/__init__.py:351\u001B[0m, in \u001B[0;36mBaseRetrying.iter\u001B[0;34m(self, retry_state)\u001B[0m\n\u001B[1;32m    349\u001B[0m is_explicit_retry \u001B[38;5;241m=\u001B[39m retry_state\u001B[38;5;241m.\u001B[39moutcome\u001B[38;5;241m.\u001B[39mfailed \u001B[38;5;129;01mand\u001B[39;00m \u001B[38;5;28misinstance\u001B[39m(retry_state\u001B[38;5;241m.\u001B[39moutcome\u001B[38;5;241m.\u001B[39mexception(), TryAgain)\n\u001B[1;32m    350\u001B[0m \u001B[38;5;28;01mif\u001B[39;00m \u001B[38;5;129;01mnot\u001B[39;00m (is_explicit_retry \u001B[38;5;129;01mor\u001B[39;00m \u001B[38;5;28mself\u001B[39m\u001B[38;5;241m.\u001B[39mretry(retry_state\u001B[38;5;241m=\u001B[39mretry_state)):\n\u001B[0;32m--> 351\u001B[0m     \u001B[38;5;28;01mreturn\u001B[39;00m \u001B[43mfut\u001B[49m\u001B[38;5;241;43m.\u001B[39;49m\u001B[43mresult\u001B[49m\u001B[43m(\u001B[49m\u001B[43m)\u001B[49m\n\u001B[1;32m    353\u001B[0m \u001B[38;5;28;01mif\u001B[39;00m \u001B[38;5;28mself\u001B[39m\u001B[38;5;241m.\u001B[39mafter \u001B[38;5;129;01mis\u001B[39;00m \u001B[38;5;129;01mnot\u001B[39;00m \u001B[38;5;28;01mNone\u001B[39;00m:\n\u001B[1;32m    354\u001B[0m     \u001B[38;5;28mself\u001B[39m\u001B[38;5;241m.\u001B[39mafter(retry_state)\n\nFile \u001B[0;32m/usr/lib/python3.9/concurrent/futures/_base.py:438\u001B[0m, in \u001B[0;36mFuture.result\u001B[0;34m(self, timeout)\u001B[0m\n\u001B[1;32m    436\u001B[0m     \u001B[38;5;28;01mraise\u001B[39;00m CancelledError()\n\u001B[1;32m    437\u001B[0m \u001B[38;5;28;01melif\u001B[39;00m \u001B[38;5;28mself\u001B[39m\u001B[38;5;241m.\u001B[39m_state \u001B[38;5;241m==\u001B[39m FINISHED:\n\u001B[0;32m--> 438\u001B[0m     \u001B[38;5;28;01mreturn\u001B[39;00m \u001B[38;5;28;43mself\u001B[39;49m\u001B[38;5;241;43m.\u001B[39;49m\u001B[43m__get_result\u001B[49m\u001B[43m(\u001B[49m\u001B[43m)\u001B[49m\n\u001B[1;32m    440\u001B[0m \u001B[38;5;28mself\u001B[39m\u001B[38;5;241m.\u001B[39m_condition\u001B[38;5;241m.\u001B[39mwait(timeout)\n\u001B[1;32m    442\u001B[0m \u001B[38;5;28;01mif\u001B[39;00m \u001B[38;5;28mself\u001B[39m\u001B[38;5;241m.\u001B[39m_state \u001B[38;5;129;01min\u001B[39;00m [CANCELLED, CANCELLED_AND_NOTIFIED]:\n\nFile \u001B[0;32m/usr/lib/python3.9/concurrent/futures/_base.py:390\u001B[0m, in \u001B[0;36mFuture.__get_result\u001B[0;34m(self)\u001B[0m\n\u001B[1;32m    388\u001B[0m \u001B[38;5;28;01mif\u001B[39;00m \u001B[38;5;28mself\u001B[39m\u001B[38;5;241m.\u001B[39m_exception:\n\u001B[1;32m    389\u001B[0m     \u001B[38;5;28;01mtry\u001B[39;00m:\n\u001B[0;32m--> 390\u001B[0m         \u001B[38;5;28;01mraise\u001B[39;00m \u001B[38;5;28mself\u001B[39m\u001B[38;5;241m.\u001B[39m_exception\n\u001B[1;32m    391\u001B[0m     \u001B[38;5;28;01mfinally\u001B[39;00m:\n\u001B[1;32m    392\u001B[0m         \u001B[38;5;66;03m# Break a reference cycle with the exception in self._exception\u001B[39;00m\n\u001B[1;32m    393\u001B[0m         \u001B[38;5;28mself\u001B[39m \u001B[38;5;241m=\u001B[39m \u001B[38;5;28;01mNone\u001B[39;00m\n\nFile \u001B[0;32m/databricks/python/lib/python3.9/site-packages/tenacity/__init__.py:409\u001B[0m, in \u001B[0;36mRetrying.__call__\u001B[0;34m(self, fn, *args, **kwargs)\u001B[0m\n\u001B[1;32m    407\u001B[0m \u001B[38;5;28;01mif\u001B[39;00m \u001B[38;5;28misinstance\u001B[39m(do, DoAttempt):\n\u001B[1;32m    408\u001B[0m     \u001B[38;5;28;01mtry\u001B[39;00m:\n\u001B[0;32m--> 409\u001B[0m         result \u001B[38;5;241m=\u001B[39m \u001B[43mfn\u001B[49m\u001B[43m(\u001B[49m\u001B[38;5;241;43m*\u001B[39;49m\u001B[43margs\u001B[49m\u001B[43m,\u001B[49m\u001B[43m \u001B[49m\u001B[38;5;241;43m*\u001B[39;49m\u001B[38;5;241;43m*\u001B[39;49m\u001B[43mkwargs\u001B[49m\u001B[43m)\u001B[49m\n\u001B[1;32m    410\u001B[0m     \u001B[38;5;28;01mexcept\u001B[39;00m \u001B[38;5;167;01mBaseException\u001B[39;00m:  \u001B[38;5;66;03m# noqa: B902\u001B[39;00m\n\u001B[1;32m    411\u001B[0m         retry_state\u001B[38;5;241m.\u001B[39mset_exception(sys\u001B[38;5;241m.\u001B[39mexc_info())\n\nFile \u001B[0;32m/local_disk0/.ephemeral_nfs/cluster_libraries/python/lib/python3.9/site-packages/langchain/embeddings/openai.py:95\u001B[0m, in \u001B[0;36membed_with_retry.<locals>._embed_with_retry\u001B[0;34m(**kwargs)\u001B[0m\n\u001B[1;32m     93\u001B[0m \u001B[38;5;129m@retry_decorator\u001B[39m\n\u001B[1;32m     94\u001B[0m \u001B[38;5;28;01mdef\u001B[39;00m \u001B[38;5;21m_embed_with_retry\u001B[39m(\u001B[38;5;241m*\u001B[39m\u001B[38;5;241m*\u001B[39mkwargs: Any) \u001B[38;5;241m-\u001B[39m\u001B[38;5;241m>\u001B[39m Any:\n\u001B[0;32m---> 95\u001B[0m     \u001B[38;5;28;01mreturn\u001B[39;00m \u001B[43membeddings\u001B[49m\u001B[38;5;241;43m.\u001B[39;49m\u001B[43mclient\u001B[49m\u001B[38;5;241;43m.\u001B[39;49m\u001B[43mcreate\u001B[49m\u001B[43m(\u001B[49m\u001B[38;5;241;43m*\u001B[39;49m\u001B[38;5;241;43m*\u001B[39;49m\u001B[43mkwargs\u001B[49m\u001B[43m)\u001B[49m\n\nFile \u001B[0;32m/local_disk0/.ephemeral_nfs/cluster_libraries/python/lib/python3.9/site-packages/openai/api_resources/embedding.py:33\u001B[0m, in \u001B[0;36mEmbedding.create\u001B[0;34m(cls, *args, **kwargs)\u001B[0m\n\u001B[1;32m     31\u001B[0m \u001B[38;5;28;01mwhile\u001B[39;00m \u001B[38;5;28;01mTrue\u001B[39;00m:\n\u001B[1;32m     32\u001B[0m     \u001B[38;5;28;01mtry\u001B[39;00m:\n\u001B[0;32m---> 33\u001B[0m         response \u001B[38;5;241m=\u001B[39m \u001B[38;5;28;43msuper\u001B[39;49m\u001B[43m(\u001B[49m\u001B[43m)\u001B[49m\u001B[38;5;241;43m.\u001B[39;49m\u001B[43mcreate\u001B[49m\u001B[43m(\u001B[49m\u001B[38;5;241;43m*\u001B[39;49m\u001B[43margs\u001B[49m\u001B[43m,\u001B[49m\u001B[43m \u001B[49m\u001B[38;5;241;43m*\u001B[39;49m\u001B[38;5;241;43m*\u001B[39;49m\u001B[43mkwargs\u001B[49m\u001B[43m)\u001B[49m\n\u001B[1;32m     35\u001B[0m         \u001B[38;5;66;03m# If a user specifies base64, we'll just return the encoded string.\u001B[39;00m\n\u001B[1;32m     36\u001B[0m         \u001B[38;5;66;03m# This is only for the default case.\u001B[39;00m\n\u001B[1;32m     37\u001B[0m         \u001B[38;5;28;01mif\u001B[39;00m \u001B[38;5;129;01mnot\u001B[39;00m user_provided_encoding_format:\n\nFile \u001B[0;32m/local_disk0/.ephemeral_nfs/cluster_libraries/python/lib/python3.9/site-packages/openai/api_resources/abstract/engine_api_resource.py:153\u001B[0m, in \u001B[0;36mEngineAPIResource.create\u001B[0;34m(cls, api_key, api_base, api_type, request_id, api_version, organization, **params)\u001B[0m\n\u001B[1;32m    127\u001B[0m \u001B[38;5;129m@classmethod\u001B[39m\n\u001B[1;32m    128\u001B[0m \u001B[38;5;28;01mdef\u001B[39;00m \u001B[38;5;21mcreate\u001B[39m(\n\u001B[1;32m    129\u001B[0m     \u001B[38;5;28mcls\u001B[39m,\n\u001B[0;32m   (...)\u001B[0m\n\u001B[1;32m    136\u001B[0m     \u001B[38;5;241m*\u001B[39m\u001B[38;5;241m*\u001B[39mparams,\n\u001B[1;32m    137\u001B[0m ):\n\u001B[1;32m    138\u001B[0m     (\n\u001B[1;32m    139\u001B[0m         deployment_id,\n\u001B[1;32m    140\u001B[0m         engine,\n\u001B[0;32m   (...)\u001B[0m\n\u001B[1;32m    150\u001B[0m         api_key, api_base, api_type, api_version, organization, \u001B[38;5;241m*\u001B[39m\u001B[38;5;241m*\u001B[39mparams\n\u001B[1;32m    151\u001B[0m     )\n\u001B[0;32m--> 153\u001B[0m     response, _, api_key \u001B[38;5;241m=\u001B[39m \u001B[43mrequestor\u001B[49m\u001B[38;5;241;43m.\u001B[39;49m\u001B[43mrequest\u001B[49m\u001B[43m(\u001B[49m\n\u001B[1;32m    154\u001B[0m \u001B[43m        \u001B[49m\u001B[38;5;124;43m\"\u001B[39;49m\u001B[38;5;124;43mpost\u001B[39;49m\u001B[38;5;124;43m\"\u001B[39;49m\u001B[43m,\u001B[49m\n\u001B[1;32m    155\u001B[0m \u001B[43m        \u001B[49m\u001B[43murl\u001B[49m\u001B[43m,\u001B[49m\n\u001B[1;32m    156\u001B[0m \u001B[43m        \u001B[49m\u001B[43mparams\u001B[49m\u001B[38;5;241;43m=\u001B[39;49m\u001B[43mparams\u001B[49m\u001B[43m,\u001B[49m\n\u001B[1;32m    157\u001B[0m \u001B[43m        \u001B[49m\u001B[43mheaders\u001B[49m\u001B[38;5;241;43m=\u001B[39;49m\u001B[43mheaders\u001B[49m\u001B[43m,\u001B[49m\n\u001B[1;32m    158\u001B[0m \u001B[43m        \u001B[49m\u001B[43mstream\u001B[49m\u001B[38;5;241;43m=\u001B[39;49m\u001B[43mstream\u001B[49m\u001B[43m,\u001B[49m\n\u001B[1;32m    159\u001B[0m \u001B[43m        \u001B[49m\u001B[43mrequest_id\u001B[49m\u001B[38;5;241;43m=\u001B[39;49m\u001B[43mrequest_id\u001B[49m\u001B[43m,\u001B[49m\n\u001B[1;32m    160\u001B[0m \u001B[43m        \u001B[49m\u001B[43mrequest_timeout\u001B[49m\u001B[38;5;241;43m=\u001B[39;49m\u001B[43mrequest_timeout\u001B[49m\u001B[43m,\u001B[49m\n\u001B[1;32m    161\u001B[0m \u001B[43m    \u001B[49m\u001B[43m)\u001B[49m\n\u001B[1;32m    163\u001B[0m     \u001B[38;5;28;01mif\u001B[39;00m stream:\n\u001B[1;32m    164\u001B[0m         \u001B[38;5;66;03m# must be an iterator\u001B[39;00m\n\u001B[1;32m    165\u001B[0m         \u001B[38;5;28;01massert\u001B[39;00m \u001B[38;5;129;01mnot\u001B[39;00m \u001B[38;5;28misinstance\u001B[39m(response, OpenAIResponse)\n\nFile \u001B[0;32m/local_disk0/.ephemeral_nfs/cluster_libraries/python/lib/python3.9/site-packages/openai/api_requestor.py:298\u001B[0m, in \u001B[0;36mAPIRequestor.request\u001B[0;34m(self, method, url, params, headers, files, stream, request_id, request_timeout)\u001B[0m\n\u001B[1;32m    277\u001B[0m \u001B[38;5;28;01mdef\u001B[39;00m \u001B[38;5;21mrequest\u001B[39m(\n\u001B[1;32m    278\u001B[0m     \u001B[38;5;28mself\u001B[39m,\n\u001B[1;32m    279\u001B[0m     method,\n\u001B[0;32m   (...)\u001B[0m\n\u001B[1;32m    286\u001B[0m     request_timeout: Optional[Union[\u001B[38;5;28mfloat\u001B[39m, Tuple[\u001B[38;5;28mfloat\u001B[39m, \u001B[38;5;28mfloat\u001B[39m]]] \u001B[38;5;241m=\u001B[39m \u001B[38;5;28;01mNone\u001B[39;00m,\n\u001B[1;32m    287\u001B[0m ) \u001B[38;5;241m-\u001B[39m\u001B[38;5;241m>\u001B[39m Tuple[Union[OpenAIResponse, Iterator[OpenAIResponse]], \u001B[38;5;28mbool\u001B[39m, \u001B[38;5;28mstr\u001B[39m]:\n\u001B[1;32m    288\u001B[0m     result \u001B[38;5;241m=\u001B[39m \u001B[38;5;28mself\u001B[39m\u001B[38;5;241m.\u001B[39mrequest_raw(\n\u001B[1;32m    289\u001B[0m         method\u001B[38;5;241m.\u001B[39mlower(),\n\u001B[1;32m    290\u001B[0m         url,\n\u001B[0;32m   (...)\u001B[0m\n\u001B[1;32m    296\u001B[0m         request_timeout\u001B[38;5;241m=\u001B[39mrequest_timeout,\n\u001B[1;32m    297\u001B[0m     )\n\u001B[0;32m--> 298\u001B[0m     resp, got_stream \u001B[38;5;241m=\u001B[39m \u001B[38;5;28;43mself\u001B[39;49m\u001B[38;5;241;43m.\u001B[39;49m\u001B[43m_interpret_response\u001B[49m\u001B[43m(\u001B[49m\u001B[43mresult\u001B[49m\u001B[43m,\u001B[49m\u001B[43m \u001B[49m\u001B[43mstream\u001B[49m\u001B[43m)\u001B[49m\n\u001B[1;32m    299\u001B[0m     \u001B[38;5;28;01mreturn\u001B[39;00m resp, got_stream, \u001B[38;5;28mself\u001B[39m\u001B[38;5;241m.\u001B[39mapi_key\n\nFile \u001B[0;32m/local_disk0/.ephemeral_nfs/cluster_libraries/python/lib/python3.9/site-packages/openai/api_requestor.py:700\u001B[0m, in \u001B[0;36mAPIRequestor._interpret_response\u001B[0;34m(self, result, stream)\u001B[0m\n\u001B[1;32m    692\u001B[0m     \u001B[38;5;28;01mreturn\u001B[39;00m (\n\u001B[1;32m    693\u001B[0m         \u001B[38;5;28mself\u001B[39m\u001B[38;5;241m.\u001B[39m_interpret_response_line(\n\u001B[1;32m    694\u001B[0m             line, result\u001B[38;5;241m.\u001B[39mstatus_code, result\u001B[38;5;241m.\u001B[39mheaders, stream\u001B[38;5;241m=\u001B[39m\u001B[38;5;28;01mTrue\u001B[39;00m\n\u001B[1;32m    695\u001B[0m         )\n\u001B[1;32m    696\u001B[0m         \u001B[38;5;28;01mfor\u001B[39;00m line \u001B[38;5;129;01min\u001B[39;00m parse_stream(result\u001B[38;5;241m.\u001B[39miter_lines())\n\u001B[1;32m    697\u001B[0m     ), \u001B[38;5;28;01mTrue\u001B[39;00m\n\u001B[1;32m    698\u001B[0m \u001B[38;5;28;01melse\u001B[39;00m:\n\u001B[1;32m    699\u001B[0m     \u001B[38;5;28;01mreturn\u001B[39;00m (\n\u001B[0;32m--> 700\u001B[0m         \u001B[38;5;28;43mself\u001B[39;49m\u001B[38;5;241;43m.\u001B[39;49m\u001B[43m_interpret_response_line\u001B[49m\u001B[43m(\u001B[49m\n\u001B[1;32m    701\u001B[0m \u001B[43m            \u001B[49m\u001B[43mresult\u001B[49m\u001B[38;5;241;43m.\u001B[39;49m\u001B[43mcontent\u001B[49m\u001B[38;5;241;43m.\u001B[39;49m\u001B[43mdecode\u001B[49m\u001B[43m(\u001B[49m\u001B[38;5;124;43m\"\u001B[39;49m\u001B[38;5;124;43mutf-8\u001B[39;49m\u001B[38;5;124;43m\"\u001B[39;49m\u001B[43m)\u001B[49m\u001B[43m,\u001B[49m\n\u001B[1;32m    702\u001B[0m \u001B[43m            \u001B[49m\u001B[43mresult\u001B[49m\u001B[38;5;241;43m.\u001B[39;49m\u001B[43mstatus_code\u001B[49m\u001B[43m,\u001B[49m\n\u001B[1;32m    703\u001B[0m \u001B[43m            \u001B[49m\u001B[43mresult\u001B[49m\u001B[38;5;241;43m.\u001B[39;49m\u001B[43mheaders\u001B[49m\u001B[43m,\u001B[49m\n\u001B[1;32m    704\u001B[0m \u001B[43m            \u001B[49m\u001B[43mstream\u001B[49m\u001B[38;5;241;43m=\u001B[39;49m\u001B[38;5;28;43;01mFalse\u001B[39;49;00m\u001B[43m,\u001B[49m\n\u001B[1;32m    705\u001B[0m \u001B[43m        \u001B[49m\u001B[43m)\u001B[49m,\n\u001B[1;32m    706\u001B[0m         \u001B[38;5;28;01mFalse\u001B[39;00m,\n\u001B[1;32m    707\u001B[0m     )\n\nFile \u001B[0;32m/local_disk0/.ephemeral_nfs/cluster_libraries/python/lib/python3.9/site-packages/openai/api_requestor.py:763\u001B[0m, in \u001B[0;36mAPIRequestor._interpret_response_line\u001B[0;34m(self, rbody, rcode, rheaders, stream)\u001B[0m\n\u001B[1;32m    761\u001B[0m stream_error \u001B[38;5;241m=\u001B[39m stream \u001B[38;5;129;01mand\u001B[39;00m \u001B[38;5;124m\"\u001B[39m\u001B[38;5;124merror\u001B[39m\u001B[38;5;124m\"\u001B[39m \u001B[38;5;129;01min\u001B[39;00m resp\u001B[38;5;241m.\u001B[39mdata\n\u001B[1;32m    762\u001B[0m \u001B[38;5;28;01mif\u001B[39;00m stream_error \u001B[38;5;129;01mor\u001B[39;00m \u001B[38;5;129;01mnot\u001B[39;00m \u001B[38;5;241m200\u001B[39m \u001B[38;5;241m<\u001B[39m\u001B[38;5;241m=\u001B[39m rcode \u001B[38;5;241m<\u001B[39m \u001B[38;5;241m300\u001B[39m:\n\u001B[0;32m--> 763\u001B[0m     \u001B[38;5;28;01mraise\u001B[39;00m \u001B[38;5;28mself\u001B[39m\u001B[38;5;241m.\u001B[39mhandle_error_response(\n\u001B[1;32m    764\u001B[0m         rbody, rcode, resp\u001B[38;5;241m.\u001B[39mdata, rheaders, stream_error\u001B[38;5;241m=\u001B[39mstream_error\n\u001B[1;32m    765\u001B[0m     )\n\u001B[1;32m    766\u001B[0m \u001B[38;5;28;01mreturn\u001B[39;00m resp\n\n\u001B[0;31mInvalidRequestError\u001B[0m: Too many inputs for model None. The max number of inputs is 1.  We hope to increase the number of inputs per request soon. Please contact us through an Azure support request at: https://go.microsoft.com/fwlink/?linkid=2213926 for further questions.",
       "errorSummary": "<span class='ansi-red-fg'>InvalidRequestError</span>: Too many inputs for model None. The max number of inputs is 1.  We hope to increase the number of inputs per request soon. Please contact us through an Azure support request at: https://go.microsoft.com/fwlink/?linkid=2213926 for further questions.",
       "errorTraceType": "ansi",
       "metadata": {},
       "type": "ipynbError"
      }
     },
     "output_type": "display_data"
    }
   ],
   "source": [
    "from langchain.document_loaders import TextLoader\n",
    "loader = TextLoader(\"/dbfs/FileStore/justText.txt\")\n",
    "documents = loader.load()\n",
    "text_splitter = CharacterTextSplitter(chunk_size=10, chunk_overlap=0)\n",
    "texts = text_splitter.split_documents(documents)\n",
    "embeddings = OpenAIEmbeddings()\n",
    "state_of_union_store = Chroma.from_documents(\n",
    "    texts, embeddings, collection_name=\"justText\"\n",
    ")"
   ]
  },
  {
   "cell_type": "code",
   "execution_count": 0,
   "metadata": {
    "application/vnd.databricks.v1+cell": {
     "cellMetadata": {
      "byteLimit": 2048000,
      "rowLimit": 10000
     },
     "inputWidgets": {},
     "nuid": "292334da-348e-4de3-bd47-8e4abace2b8b",
     "showTitle": false,
     "title": ""
    }
   },
   "outputs": [
    {
     "output_type": "display_data",
     "data": {
      "text/plain": [
       "\u001B[0;31m---------------------------------------------------------------------------\u001B[0m\n",
       "\u001B[0;31mNameError\u001B[0m                                 Traceback (most recent call last)\n",
       "File \u001B[0;32m<command-108776940641825>:10\u001B[0m\n",
       "\u001B[1;32m      1\u001B[0m \u001B[38;5;28;01mfrom\u001B[39;00m \u001B[38;5;21;01mlangchain\u001B[39;00m\u001B[38;5;21;01m.\u001B[39;00m\u001B[38;5;21;01magents\u001B[39;00m\u001B[38;5;21;01m.\u001B[39;00m\u001B[38;5;21;01magent_toolkits\u001B[39;00m \u001B[38;5;28;01mimport\u001B[39;00m (\n",
       "\u001B[1;32m      2\u001B[0m     create_vectorstore_agent,\n",
       "\u001B[1;32m      3\u001B[0m     VectorStoreToolkit,\n",
       "\u001B[1;32m      4\u001B[0m     VectorStoreInfo,\n",
       "\u001B[1;32m      5\u001B[0m )\n",
       "\u001B[1;32m      7\u001B[0m vectorstore_info \u001B[38;5;241m=\u001B[39m VectorStoreInfo(\n",
       "\u001B[1;32m      8\u001B[0m     name\u001B[38;5;241m=\u001B[39m\u001B[38;5;124m\"\u001B[39m\u001B[38;5;124mstate_of_union_address\u001B[39m\u001B[38;5;124m\"\u001B[39m,\n",
       "\u001B[1;32m      9\u001B[0m     description\u001B[38;5;241m=\u001B[39m\u001B[38;5;124m\"\u001B[39m\u001B[38;5;124mthe most recent state of the Union adress\u001B[39m\u001B[38;5;124m\"\u001B[39m,\n",
       "\u001B[0;32m---> 10\u001B[0m     vectorstore\u001B[38;5;241m=\u001B[39mstate_of_union_store,\n",
       "\u001B[1;32m     11\u001B[0m )\n",
       "\u001B[1;32m     13\u001B[0m toolkit \u001B[38;5;241m=\u001B[39m VectorStoreToolkit(vectorstore_info\u001B[38;5;241m=\u001B[39mvectorstore_info)\n",
       "\u001B[1;32m     14\u001B[0m agent_executor \u001B[38;5;241m=\u001B[39m create_vectorstore_agent(llm\u001B[38;5;241m=\u001B[39mllm, toolkit\u001B[38;5;241m=\u001B[39mtoolkit, verbose\u001B[38;5;241m=\u001B[39m\u001B[38;5;28;01mTrue\u001B[39;00m)\n",
       "\n",
       "\u001B[0;31mNameError\u001B[0m: name 'state_of_union_store' is not defined"
      ]
     },
     "metadata": {
      "application/vnd.databricks.v1+output": {
       "arguments": {},
       "data": "\u001B[0;31m---------------------------------------------------------------------------\u001B[0m\n\u001B[0;31mNameError\u001B[0m                                 Traceback (most recent call last)\nFile \u001B[0;32m<command-108776940641825>:10\u001B[0m\n\u001B[1;32m      1\u001B[0m \u001B[38;5;28;01mfrom\u001B[39;00m \u001B[38;5;21;01mlangchain\u001B[39;00m\u001B[38;5;21;01m.\u001B[39;00m\u001B[38;5;21;01magents\u001B[39;00m\u001B[38;5;21;01m.\u001B[39;00m\u001B[38;5;21;01magent_toolkits\u001B[39;00m \u001B[38;5;28;01mimport\u001B[39;00m (\n\u001B[1;32m      2\u001B[0m     create_vectorstore_agent,\n\u001B[1;32m      3\u001B[0m     VectorStoreToolkit,\n\u001B[1;32m      4\u001B[0m     VectorStoreInfo,\n\u001B[1;32m      5\u001B[0m )\n\u001B[1;32m      7\u001B[0m vectorstore_info \u001B[38;5;241m=\u001B[39m VectorStoreInfo(\n\u001B[1;32m      8\u001B[0m     name\u001B[38;5;241m=\u001B[39m\u001B[38;5;124m\"\u001B[39m\u001B[38;5;124mstate_of_union_address\u001B[39m\u001B[38;5;124m\"\u001B[39m,\n\u001B[1;32m      9\u001B[0m     description\u001B[38;5;241m=\u001B[39m\u001B[38;5;124m\"\u001B[39m\u001B[38;5;124mthe most recent state of the Union adress\u001B[39m\u001B[38;5;124m\"\u001B[39m,\n\u001B[0;32m---> 10\u001B[0m     vectorstore\u001B[38;5;241m=\u001B[39mstate_of_union_store,\n\u001B[1;32m     11\u001B[0m )\n\u001B[1;32m     13\u001B[0m toolkit \u001B[38;5;241m=\u001B[39m VectorStoreToolkit(vectorstore_info\u001B[38;5;241m=\u001B[39mvectorstore_info)\n\u001B[1;32m     14\u001B[0m agent_executor \u001B[38;5;241m=\u001B[39m create_vectorstore_agent(llm\u001B[38;5;241m=\u001B[39mllm, toolkit\u001B[38;5;241m=\u001B[39mtoolkit, verbose\u001B[38;5;241m=\u001B[39m\u001B[38;5;28;01mTrue\u001B[39;00m)\n\n\u001B[0;31mNameError\u001B[0m: name 'state_of_union_store' is not defined",
       "errorSummary": "<span class='ansi-red-fg'>NameError</span>: name 'state_of_union_store' is not defined",
       "errorTraceType": "ansi",
       "metadata": {},
       "type": "ipynbError"
      }
     },
     "output_type": "display_data"
    }
   ],
   "source": [
    "from langchain.agents.agent_toolkits import (\n",
    "    create_vectorstore_agent,\n",
    "    VectorStoreToolkit,\n",
    "    VectorStoreInfo,\n",
    ")\n",
    "\n",
    "vectorstore_info = VectorStoreInfo(\n",
    "    name=\"state_of_union_address\",\n",
    "    description=\"the most recent state of the Union adress\",\n",
    "    vectorstore=state_of_union_store,\n",
    ")\n",
    "\n",
    "toolkit = VectorStoreToolkit(vectorstore_info=vectorstore_info)\n",
    "agent_executor = create_vectorstore_agent(llm=llm, toolkit=toolkit, verbose=True)"
   ]
  },
  {
   "cell_type": "code",
   "execution_count": 0,
   "metadata": {
    "application/vnd.databricks.v1+cell": {
     "cellMetadata": {
      "byteLimit": 2048000,
      "rowLimit": 10000
     },
     "inputWidgets": {},
     "nuid": "caa95c1f-60d4-41b1-800e-c78b6002b4ca",
     "showTitle": false,
     "title": ""
    }
   },
   "outputs": [
    {
     "output_type": "stream",
     "name": "stdout",
     "output_type": "stream",
     "text": [
      "Python interpreter will be restarted.\nRequirement already satisfied: chromadb in /local_disk0/.ephemeral_nfs/envs/pythonEnv-9bd80bd4-8b18-454c-aac7-91f2b4aa2b37/lib/python3.9/site-packages (0.3.26)\nRequirement already satisfied: pandas>=1.3 in /local_disk0/.ephemeral_nfs/cluster_libraries/python/lib/python3.9/site-packages (from chromadb) (1.5.3)\nRequirement already satisfied: requests>=2.28 in /local_disk0/.ephemeral_nfs/cluster_libraries/python/lib/python3.9/site-packages (from chromadb) (2.31.0)\nRequirement already satisfied: pydantic>=1.9 in /local_disk0/.ephemeral_nfs/cluster_libraries/python/lib/python3.9/site-packages (from chromadb) (1.10.9)\nRequirement already satisfied: hnswlib>=0.7 in /local_disk0/.ephemeral_nfs/envs/pythonEnv-9bd80bd4-8b18-454c-aac7-91f2b4aa2b37/lib/python3.9/site-packages (from chromadb) (0.7.0)\nRequirement already satisfied: clickhouse-connect>=0.5.7 in /local_disk0/.ephemeral_nfs/envs/pythonEnv-9bd80bd4-8b18-454c-aac7-91f2b4aa2b37/lib/python3.9/site-packages (from chromadb) (0.6.4)\nRequirement already satisfied: duckdb>=0.7.1 in /local_disk0/.ephemeral_nfs/envs/pythonEnv-9bd80bd4-8b18-454c-aac7-91f2b4aa2b37/lib/python3.9/site-packages (from chromadb) (0.8.1)\nRequirement already satisfied: fastapi>=0.85.1 in /local_disk0/.ephemeral_nfs/cluster_libraries/python/lib/python3.9/site-packages (from chromadb) (0.98.0)\nRequirement already satisfied: uvicorn[standard]>=0.18.3 in /local_disk0/.ephemeral_nfs/cluster_libraries/python/lib/python3.9/site-packages (from chromadb) (0.22.0)\nRequirement already satisfied: numpy>=1.21.6 in /databricks/python3/lib/python3.9/site-packages (from chromadb) (1.23.2)\nRequirement already satisfied: posthog>=2.4.0 in /local_disk0/.ephemeral_nfs/envs/pythonEnv-9bd80bd4-8b18-454c-aac7-91f2b4aa2b37/lib/python3.9/site-packages (from chromadb) (3.0.1)\nRequirement already satisfied: typing-extensions>=4.5.0 in /local_disk0/.ephemeral_nfs/envs/pythonEnv-9bd80bd4-8b18-454c-aac7-91f2b4aa2b37/lib/python3.9/site-packages (from chromadb) (4.6.3)\nRequirement already satisfied: pulsar-client>=3.1.0 in /local_disk0/.ephemeral_nfs/envs/pythonEnv-9bd80bd4-8b18-454c-aac7-91f2b4aa2b37/lib/python3.9/site-packages (from chromadb) (3.2.0)\nRequirement already satisfied: onnxruntime>=1.14.1 in /local_disk0/.ephemeral_nfs/envs/pythonEnv-9bd80bd4-8b18-454c-aac7-91f2b4aa2b37/lib/python3.9/site-packages (from chromadb) (1.15.1)\nRequirement already satisfied: tokenizers>=0.13.2 in /local_disk0/.ephemeral_nfs/envs/pythonEnv-9bd80bd4-8b18-454c-aac7-91f2b4aa2b37/lib/python3.9/site-packages (from chromadb) (0.13.3)\nRequirement already satisfied: tqdm>=4.65.0 in /local_disk0/.ephemeral_nfs/envs/pythonEnv-9bd80bd4-8b18-454c-aac7-91f2b4aa2b37/lib/python3.9/site-packages (from chromadb) (4.65.0)\nRequirement already satisfied: overrides>=7.3.1 in /local_disk0/.ephemeral_nfs/envs/pythonEnv-9bd80bd4-8b18-454c-aac7-91f2b4aa2b37/lib/python3.9/site-packages (from chromadb) (7.3.1)\nRequirement already satisfied: certifi in /usr/lib/python3/dist-packages (from clickhouse-connect>=0.5.7->chromadb) (2019.11.28)\nRequirement already satisfied: urllib3>=1.26 in /local_disk0/.ephemeral_nfs/envs/pythonEnv-9bd80bd4-8b18-454c-aac7-91f2b4aa2b37/lib/python3.9/site-packages (from clickhouse-connect>=0.5.7->chromadb) (2.0.3)\nRequirement already satisfied: pytz in /databricks/python3/lib/python3.9/site-packages (from clickhouse-connect>=0.5.7->chromadb) (2022.2.1)\nRequirement already satisfied: zstandard in /local_disk0/.ephemeral_nfs/envs/pythonEnv-9bd80bd4-8b18-454c-aac7-91f2b4aa2b37/lib/python3.9/site-packages (from clickhouse-connect>=0.5.7->chromadb) (0.21.0)\nRequirement already satisfied: lz4 in /local_disk0/.ephemeral_nfs/envs/pythonEnv-9bd80bd4-8b18-454c-aac7-91f2b4aa2b37/lib/python3.9/site-packages (from clickhouse-connect>=0.5.7->chromadb) (4.3.2)\nRequirement already satisfied: starlette<0.28.0,>=0.27.0 in /local_disk0/.ephemeral_nfs/cluster_libraries/python/lib/python3.9/site-packages (from fastapi>=0.85.1->chromadb) (0.27.0)\nRequirement already satisfied: coloredlogs in /local_disk0/.ephemeral_nfs/envs/pythonEnv-9bd80bd4-8b18-454c-aac7-91f2b4aa2b37/lib/python3.9/site-packages (from onnxruntime>=1.14.1->chromadb) (15.0.1)\nRequirement already satisfied: flatbuffers in /local_disk0/.ephemeral_nfs/envs/pythonEnv-9bd80bd4-8b18-454c-aac7-91f2b4aa2b37/lib/python3.9/site-packages (from onnxruntime>=1.14.1->chromadb) (23.5.26)\nRequirement already satisfied: packaging in /databricks/python3/lib/python3.9/site-packages (from onnxruntime>=1.14.1->chromadb) (21.3)\nRequirement already satisfied: protobuf in /databricks/python3/lib/python3.9/site-packages (from onnxruntime>=1.14.1->chromadb) (3.19.6)\nRequirement already satisfied: sympy in /local_disk0/.ephemeral_nfs/envs/pythonEnv-9bd80bd4-8b18-454c-aac7-91f2b4aa2b37/lib/python3.9/site-packages (from onnxruntime>=1.14.1->chromadb) (1.12)\nRequirement already satisfied: python-dateutil>=2.8.1 in /databricks/python3/lib/python3.9/site-packages (from pandas>=1.3->chromadb) (2.8.2)\nRequirement already satisfied: six>=1.5 in /usr/lib/python3/dist-packages (from posthog>=2.4.0->chromadb) (1.14.0)\nRequirement already satisfied: monotonic>=1.5 in /local_disk0/.ephemeral_nfs/envs/pythonEnv-9bd80bd4-8b18-454c-aac7-91f2b4aa2b37/lib/python3.9/site-packages (from posthog>=2.4.0->chromadb) (1.6)\nRequirement already satisfied: backoff>=1.10.0 in /local_disk0/.ephemeral_nfs/envs/pythonEnv-9bd80bd4-8b18-454c-aac7-91f2b4aa2b37/lib/python3.9/site-packages (from posthog>=2.4.0->chromadb) (2.2.1)\nRequirement already satisfied: charset-normalizer<4,>=2 in /databricks/python3/lib/python3.9/site-packages (from requests>=2.28->chromadb) (2.1.1)\nRequirement already satisfied: idna<4,>=2.5 in /usr/lib/python3/dist-packages (from requests>=2.28->chromadb) (2.8)\nRequirement already satisfied: click>=7.0 in /databricks/python3/lib/python3.9/site-packages (from uvicorn[standard]>=0.18.3->chromadb) (8.1.3)\nRequirement already satisfied: h11>=0.8 in /local_disk0/.ephemeral_nfs/cluster_libraries/python/lib/python3.9/site-packages (from uvicorn[standard]>=0.18.3->chromadb) (0.14.0)\nRequirement already satisfied: httptools>=0.5.0 in /local_disk0/.ephemeral_nfs/envs/pythonEnv-9bd80bd4-8b18-454c-aac7-91f2b4aa2b37/lib/python3.9/site-packages (from uvicorn[standard]>=0.18.3->chromadb) (0.5.0)\nRequirement already satisfied: python-dotenv>=0.13 in /local_disk0/.ephemeral_nfs/cluster_libraries/python/lib/python3.9/site-packages (from uvicorn[standard]>=0.18.3->chromadb) (1.0.0)\nRequirement already satisfied: pyyaml>=5.1 in /databricks/python3/lib/python3.9/site-packages (from uvicorn[standard]>=0.18.3->chromadb) (6.0)\nRequirement already satisfied: uvloop!=0.15.0,!=0.15.1,>=0.14.0 in /local_disk0/.ephemeral_nfs/envs/pythonEnv-9bd80bd4-8b18-454c-aac7-91f2b4aa2b37/lib/python3.9/site-packages (from uvicorn[standard]>=0.18.3->chromadb) (0.17.0)\nRequirement already satisfied: watchfiles>=0.13 in /local_disk0/.ephemeral_nfs/envs/pythonEnv-9bd80bd4-8b18-454c-aac7-91f2b4aa2b37/lib/python3.9/site-packages (from uvicorn[standard]>=0.18.3->chromadb) (0.19.0)\nRequirement already satisfied: websockets>=10.4 in /local_disk0/.ephemeral_nfs/cluster_libraries/python/lib/python3.9/site-packages (from uvicorn[standard]>=0.18.3->chromadb) (11.0.3)\nRequirement already satisfied: anyio<5,>=3.4.0 in /local_disk0/.ephemeral_nfs/cluster_libraries/python/lib/python3.9/site-packages (from starlette<0.28.0,>=0.27.0->fastapi>=0.85.1->chromadb) (3.7.0)\nRequirement already satisfied: humanfriendly>=9.1 in /local_disk0/.ephemeral_nfs/envs/pythonEnv-9bd80bd4-8b18-454c-aac7-91f2b4aa2b37/lib/python3.9/site-packages (from coloredlogs->onnxruntime>=1.14.1->chromadb) (10.0)\nRequirement already satisfied: pyparsing!=3.0.5,>=2.0.2 in /databricks/python3/lib/python3.9/site-packages (from packaging->onnxruntime>=1.14.1->chromadb) (3.0.9)\nRequirement already satisfied: mpmath>=0.19 in /local_disk0/.ephemeral_nfs/envs/pythonEnv-9bd80bd4-8b18-454c-aac7-91f2b4aa2b37/lib/python3.9/site-packages (from sympy->onnxruntime>=1.14.1->chromadb) (1.3.0)\nRequirement already satisfied: sniffio>=1.1 in /local_disk0/.ephemeral_nfs/cluster_libraries/python/lib/python3.9/site-packages (from anyio<5,>=3.4.0->starlette<0.28.0,>=0.27.0->fastapi>=0.85.1->chromadb) (1.3.0)\nRequirement already satisfied: exceptiongroup in /local_disk0/.ephemeral_nfs/cluster_libraries/python/lib/python3.9/site-packages (from anyio<5,>=3.4.0->starlette<0.28.0,>=0.27.0->fastapi>=0.85.1->chromadb) (1.1.1)\nPython interpreter will be restarted.\n"
     ]
    }
   ],
   "source": [
    "%pip install chromadb"
   ]
  },
  {
   "cell_type": "code",
   "execution_count": 0,
   "metadata": {
    "application/vnd.databricks.v1+cell": {
     "cellMetadata": {
      "byteLimit": 2048000,
      "rowLimit": 10000
     },
     "inputWidgets": {},
     "nuid": "9f3c8498-028e-4448-adf7-074492f5623f",
     "showTitle": false,
     "title": ""
    }
   },
   "outputs": [
    {
     "output_type": "stream",
     "name": "stdout",
     "output_type": "stream",
     "text": [
      "Requirement already satisfied: pip in /local_disk0/.ephemeral_nfs/envs/pythonEnv-9bd80bd4-8b18-454c-aac7-91f2b4aa2b37/lib/python3.9/site-packages (21.2.4)\r\nCollecting pip\r\n  Downloading pip-23.1.2-py3-none-any.whl (2.1 MB)\r\n\u001B[?25l\r\u001B[K     |▏                               | 10 kB 31.7 MB/s eta 0:00:01\r\u001B[K     |▎                               | 20 kB 12.4 MB/s eta 0:00:01\r\u001B[K     |▌                               | 30 kB 17.2 MB/s eta 0:00:01\r\u001B[K     |▋                               | 40 kB 9.9 MB/s eta 0:00:01\r\u001B[K     |▉                               | 51 kB 9.4 MB/s eta 0:00:01\r\u001B[K     |█                               | 61 kB 11.1 MB/s eta 0:00:01\r\u001B[K     |█                               | 71 kB 11.1 MB/s eta 0:00:01\r\u001B[K     |█▎                              | 81 kB 11.1 MB/s eta 0:00:01\r\u001B[K     |█▍                              | 92 kB 12.3 MB/s eta 0:00:01\r\u001B[K     |█▋                              | 102 kB 11.3 MB/s eta 0:00:01\r\u001B[K     |█▊                              | 112 kB 11.3 MB/s eta 0:00:01\r\u001B[K     |██                              | 122 kB 11.3 MB/s eta 0:00:01\r\u001B[K     |██                              | 133 kB 11.3 MB/s eta 0:00:01\r\u001B[K     |██▏                             | 143 kB 11.3 MB/s eta 0:00:01\r\u001B[K     |██▍                             | 153 kB 11.3 MB/s eta 0:00:01\r\u001B[K     |██▌                             | 163 kB 11.3 MB/s eta 0:00:01\r\u001B[K     |██▊                             | 174 kB 11.3 MB/s eta 0:00:01\r\u001B[K     |██▉                             | 184 kB 11.3 MB/s eta 0:00:01\r\u001B[K     |███                             | 194 kB 11.3 MB/s eta 0:00:01\r\u001B[K     |███▏                            | 204 kB 11.3 MB/s eta 0:00:01\r\u001B[K     |███▎                            | 215 kB 11.3 MB/s eta 0:00:01\r\u001B[K     |███▌                            | 225 kB 11.3 MB/s eta 0:00:01\r\u001B[K     |███▋                            | 235 kB 11.3 MB/s eta 0:00:01\r\u001B[K     |███▉                            | 245 kB 11.3 MB/s eta 0:00:01\r\u001B[K     |████                            | 256 kB 11.3 MB/s eta 0:00:01\r\u001B[K     |████▏                           | 266 kB 11.3 MB/s eta 0:00:01\r\u001B[K     |████▎                           | 276 kB 11.3 MB/s eta 0:00:01\r\u001B[K     |████▍                           | 286 kB 11.3 MB/s eta 0:00:01\r\u001B[K     |████▋                           | 296 kB 11.3 MB/s eta 0:00:01\r\u001B[K     |████▊                           | 307 kB 11.3 MB/s eta 0:00:01\r\u001B[K     |█████                           | 317 kB 11.3 MB/s eta 0:00:01\r\u001B[K     |█████                           | 327 kB 11.3 MB/s eta 0:00:01\r\u001B[K     |█████▎                          | 337 kB 11.3 MB/s eta 0:00:01\r\u001B[K     |█████▍                          | 348 kB 11.3 MB/s eta 0:00:01\r\u001B[K     |█████▌                          | 358 kB 11.3 MB/s eta 0:00:01\r\u001B[K     |█████▊                          | 368 kB 11.3 MB/s eta 0:00:01\r\u001B[K     |█████▉                          | 378 kB 11.3 MB/s eta 0:00:01\r\u001B[K     |██████                          | 389 kB 11.3 MB/s eta 0:00:01\r\u001B[K     |██████▏                         | 399 kB 11.3 MB/s eta 0:00:01\r\u001B[K     |██████▍                         | 409 kB 11.3 MB/s eta 0:00:01\r\u001B[K     |██████▌                         | 419 kB 11.3 MB/s eta 0:00:01\r\u001B[K     |██████▋                         | 430 kB 11.3 MB/s eta 0:00:01\r\u001B[K     |██████▉                         | 440 kB 11.3 MB/s eta 0:00:01\r\u001B[K     |███████                         | 450 kB 11.3 MB/s eta 0:00:01\r\u001B[K     |███████▏                        | 460 kB 11.3 MB/s eta 0:00:01\r\u001B[K     |███████▎                        | 471 kB 11.3 MB/s eta 0:00:01\r\u001B[K     |███████▌                        | 481 kB 11.3 MB/s eta 0:00:01\r\u001B[K     |███████▋                        | 491 kB 11.3 MB/s eta 0:00:01\r\u001B[K     |███████▊                        | 501 kB 11.3 MB/s eta 0:00:01\r\u001B[K     |████████                        | 512 kB 11.3 MB/s eta 0:00:01\r\u001B[K     |████████                        | 522 kB 11.3 MB/s eta 0:00:01\r\u001B[K     |████████▎                       | 532 kB 11.3 MB/s eta 0:00:01\r\u001B[K     |████████▍                       | 542 kB 11.3 MB/s eta 0:00:01\r\u001B[K     |████████▋                       | 552 kB 11.3 MB/s eta 0:00:01\r\u001B[K     |████████▊                       | 563 kB 11.3 MB/s eta 0:00:01\r\u001B[K     |████████▉                       | 573 kB 11.3 MB/s eta 0:00:01\r\u001B[K     |█████████                       | 583 kB 11.3 MB/s eta 0:00:01\r\u001B[K     |█████████▏                      | 593 kB 11.3 MB/s eta 0:00:01\r\u001B[K     |█████████▍                      | 604 kB 11.3 MB/s eta 0:00:01\r\u001B[K     |█████████▌                      | 614 kB 11.3 MB/s eta 0:00:01\r\u001B[K     |█████████▊                      | 624 kB 11.3 MB/s eta 0:00:01\r\u001B[K     |█████████▉                      | 634 kB 11.3 MB/s eta 0:00:01\r\u001B[K     |██████████                      | 645 kB 11.3 MB/s eta 0:00:01\r\u001B[K     |██████████▏                     | 655 kB 11.3 MB/s eta 0:00:01\r\u001B[K     |██████████▎                     | 665 kB 11.3 MB/s eta 0:00:01\r\u001B[K     |██████████▌                     | 675 kB 11.3 MB/s eta 0:00:01\r\u001B[K     |██████████▋                     | 686 kB 11.3 MB/s eta 0:00:01\r\u001B[K     |██████████▉                     | 696 kB 11.3 MB/s eta 0:00:01\r\u001B[K     |███████████                     | 706 kB 11.3 MB/s eta 0:00:01\r\u001B[K     |███████████                     | 716 kB 11.3 MB/s eta 0:00:01\r\u001B[K     |███████████▎                    | 727 kB 11.3 MB/s eta 0:00:01\r\u001B[K     |███████████▍                    | 737 kB 11.3 MB/s eta 0:00:01\r\u001B[K     |███████████▋                    | 747 kB 11.3 MB/s eta 0:00:01\r\u001B[K     |███████████▊                    | 757 kB 11.3 MB/s eta 0:00:01\r\u001B[K     |████████████                    | 768 kB 11.3 MB/s eta 0:00:01\r\u001B[K     |████████████                    | 778 kB 11.3 MB/s eta 0:00:01\r\u001B[K     |████████████▏                   | 788 kB 11.3 MB/s eta 0:00:01\r\u001B[K     |████████████▍                   | 798 kB 11.3 MB/s eta 0:00:01\r\u001B[K     |████████████▌                   | 808 kB 11.3 MB/s eta 0:00:01\r\u001B[K     |████████████▊                   | 819 kB 11.3 MB/s eta 0:00:01\r\u001B[K     |████████████▉                   | 829 kB 11.3 MB/s eta 0:00:01\r\u001B[K     |█████████████                   | 839 kB 11.3 MB/s eta 0:00:01\r\u001B[K     |█████████████▏                  | 849 kB 11.3 MB/s eta 0:00:01\r\u001B[K     |█████████████▎                  | 860 kB 11.3 MB/s eta 0:00:01\r\u001B[K     |█████████████▌                  | 870 kB 11.3 MB/s eta 0:00:01\r\u001B[K     |█████████████▋                  | 880 kB 11.3 MB/s eta 0:00:01\r\u001B[K     |█████████████▉                  | 890 kB 11.3 MB/s eta 0:00:01\r\u001B[K     |██████████████                  | 901 kB 11.3 MB/s eta 0:00:01\r\u001B[K     |██████████████▏                 | 911 kB 11.3 MB/s eta 0:00:01\r\u001B[K     |██████████████▎                 | 921 kB 11.3 MB/s eta 0:00:01\r\u001B[K     |██████████████▍                 | 931 kB 11.3 MB/s eta 0:00:01\r\u001B[K     |██████████████▋                 | 942 kB 11.3 MB/s eta 0:00:01\r\u001B[K     |██████████████▊                 | 952 kB 11.3 MB/s eta 0:00:01\r\u001B[K     |███████████████                 | 962 kB 11.3 MB/s eta 0:00:01\r\u001B[K     |███████████████                 | 972 kB 11.3 MB/s eta 0:00:01\r\u001B[K     |███████████████▎                | 983 kB 11.3 MB/s eta 0:00:01\r\u001B[K     |███████████████▍                | 993 kB 11.3 MB/s eta 0:00:01\r\u001B[K     |███████████████▌                | 1.0 MB 11.3 MB/s eta 0:00:01\r\u001B[K     |███████████████▊                | 1.0 MB 11.3 MB/s eta 0:00:01\r\u001B[K     |███████████████▉                | 1.0 MB 11.3 MB/s eta 0:00:01\r\u001B[K     |████████████████                | 1.0 MB 11.3 MB/s eta 0:00:01\r\u001B[K     |████████████████▏               | 1.0 MB 11.3 MB/s eta 0:00:01\r\u001B[K     |████████████████▍               | 1.1 MB 11.3 MB/s eta 0:00:01\r\u001B[K     |████████████████▌               | 1.1 MB 11.3 MB/s eta 0:00:01\r\u001B[K     |████████████████▋               | 1.1 MB 11.3 MB/s eta 0:00:01\r\u001B[K     |████████████████▉               | 1.1 MB 11.3 MB/s eta 0:00:01\r\u001B[K     |█████████████████               | 1.1 MB 11.3 MB/s eta 0:00:01\r\u001B[K     |█████████████████▏              | 1.1 MB 11.3 MB/s eta 0:00:01\r\u001B[K     |█████████████████▎              | 1.1 MB 11.3 MB/s eta 0:00:01\r\u001B[K     |█████████████████▌              | 1.1 MB 11.3 MB/s eta 0:00:01\r\u001B[K     |█████████████████▋              | 1.1 MB 11.3 MB/s eta 0:00:01\r\u001B[K     |█████████████████▊              | 1.1 MB 11.3 MB/s eta 0:00:01\r\u001B[K     |██████████████████              | 1.2 MB 11.3 MB/s eta 0:00:01\r\u001B[K     |██████████████████              | 1.2 MB 11.3 MB/s eta 0:00:01\r\u001B[K     |██████████████████▎             | 1.2 MB 11.3 MB/s eta 0:00:01\r\u001B[K     |██████████████████▍             | 1.2 MB 11.3 MB/s eta 0:00:01\r\u001B[K     |██████████████████▋             | 1.2 MB 11.3 MB/s eta 0:00:01\r\u001B[K     |██████████████████▊             | 1.2 MB 11.3 MB/s eta 0:00:01\r\u001B[K     |██████████████████▉             | 1.2 MB 11.3 MB/s eta 0:00:01\r\u001B[K     |███████████████████             | 1.2 MB 11.3 MB/s eta 0:00:01\r\u001B[K     |███████████████████▏            | 1.2 MB 11.3 MB/s eta 0:00:01\r\u001B[K     |███████████████████▍            | 1.2 MB 11.3 MB/s eta 0:00:01\r\u001B[K     |███████████████████▌            | 1.3 MB 11.3 MB/s eta 0:00:01\r\u001B[K     |███████████████████▊            | 1.3 MB 11.3 MB/s eta 0:00:01\r\u001B[K     |███████████████████▉            | 1.3 MB 11.3 MB/s eta 0:00:01\r\u001B[K     |████████████████████            | 1.3 MB 11.3 MB/s eta 0:00:01\r\u001B[K     |████████████████████▏           | 1.3 MB 11.3 MB/s eta 0:00:01\r\u001B[K     |████████████████████▎           | 1.3 MB 11.3 MB/s eta 0:00:01\r\u001B[K     |████████████████████▌           | 1.3 MB 11.3 MB/s eta 0:00:01\r\u001B[K     |████████████████████▋           | 1.3 MB 11.3 MB/s eta 0:00:01\r\u001B[K     |████████████████████▉           | 1.3 MB 11.3 MB/s eta 0:00:01\r\u001B[K     |█████████████████████           | 1.4 MB 11.3 MB/s eta 0:00:01\r\u001B[K     |█████████████████████           | 1.4 MB 11.3 MB/s eta 0:00:01\r\u001B[K     |█████████████████████▎          | 1.4 MB 11.3 MB/s eta 0:00:01\r\u001B[K     |█████████████████████▍          | 1.4 MB 11.3 MB/s eta 0:00:01\r\u001B[K     |█████████████████████▋          | 1.4 MB 11.3 MB/s eta 0:00:01\r\u001B[K     |█████████████████████▊          | 1.4 MB 11.3 MB/s eta 0:00:01\r\u001B[K     |██████████████████████          | 1.4 MB 11.3 MB/s eta 0:00:01\r\u001B[K     |██████████████████████          | 1.4 MB 11.3 MB/s eta 0:00:01\r\u001B[K     |██████████████████████▏         | 1.4 MB 11.3 MB/s eta 0:00:01\r\u001B[K     |██████████████████████▍         | 1.4 MB 11.3 MB/s eta 0:00:01\r\u001B[K     |██████████████████████▌         | 1.5 MB 11.3 MB/s eta 0:00:01\r\u001B[K     |██████████████████████▊         | 1.5 MB 11.3 MB/s eta 0:00:01\r\u001B[K     |██████████████████████▉         | 1.5 MB 11.3 MB/s eta 0:00:01\r\u001B[K     |███████████████████████         | 1.5 MB 11.3 MB/s eta 0:00:01\r\u001B[K     |███████████████████████▏        | 1.5 MB 11.3 MB/s eta 0:00:01\r\u001B[K     |███████████████████████▎        | 1.5 MB 11.3 MB/s eta 0:00:01\r\u001B[K     |███████████████████████▌        | 1.5 MB 11.3 MB/s eta 0:00:01\r\u001B[K     |███████████████████████▋        | 1.5 MB 11.3 MB/s eta 0:00:01\r\u001B[K     |███████████████████████▉        | 1.5 MB 11.3 MB/s eta 0:00:01\r\u001B[K     |████████████████████████        | 1.5 MB 11.3 MB/s eta 0:00:01\r\u001B[K     |████████████████████████▏       | 1.6 MB 11.3 MB/s eta 0:00:01\r\u001B[K     |████████████████████████▎       | 1.6 MB 11.3 MB/s eta 0:00:01\r\u001B[K     |████████████████████████▍       | 1.6 MB 11.3 MB/s eta 0:00:01\r\u001B[K     |████████████████████████▋       | 1.6 MB 11.3 MB/s eta 0:00:01\r\u001B[K     |████████████████████████▊       | 1.6 MB 11.3 MB/s eta 0:00:01\r\u001B[K     |█████████████████████████       | 1.6 MB 11.3 MB/s eta 0:00:01\r\u001B[K     |█████████████████████████       | 1.6 MB 11.3 MB/s eta 0:00:01\r\u001B[K     |█████████████████████████▎      | 1.6 MB 11.3 MB/s eta 0:00:01\r\u001B[K     |█████████████████████████▍      | 1.6 MB 11.3 MB/s eta 0:00:01\r\u001B[K     |█████████████████████████▌      | 1.6 MB 11.3 MB/s eta 0:00:01\r\u001B[K     |█████████████████████████▊      | 1.7 MB 11.3 MB/s eta 0:00:01\r\u001B[K     |█████████████████████████▉      | 1.7 MB 11.3 MB/s eta 0:00:01\r\u001B[K     |██████████████████████████      | 1.7 MB 11.3 MB/s eta 0:00:01\r\u001B[K     |██████████████████████████▏     | 1.7 MB 11.3 MB/s eta 0:00:01\r\u001B[K     |██████████████████████████▍     | 1.7 MB 11.3 MB/s eta 0:00:01\r\u001B[K     |██████████████████████████▌     | 1.7 MB 11.3 MB/s eta 0:00:01\r\u001B[K     |██████████████████████████▋     | 1.7 MB 11.3 MB/s eta 0:00:01\r\u001B[K     |██████████████████████████▉     | 1.7 MB 11.3 MB/s eta 0:00:01\r\u001B[K     |███████████████████████████     | 1.7 MB 11.3 MB/s eta 0:00:01\r\u001B[K     |███████████████████████████▏    | 1.8 MB 11.3 MB/s eta 0:00:01\r\u001B[K     |███████████████████████████▎    | 1.8 MB 11.3 MB/s eta 0:00:01\r\u001B[K     |███████████████████████████▌    | 1.8 MB 11.3 MB/s eta 0:00:01\r\u001B[K     |███████████████████████████▋    | 1.8 MB 11.3 MB/s eta 0:00:01\r\u001B[K     |███████████████████████████▊    | 1.8 MB 11.3 MB/s eta 0:00:01\r\u001B[K     |████████████████████████████    | 1.8 MB 11.3 MB/s eta 0:00:01\r\u001B[K     |████████████████████████████    | 1.8 MB 11.3 MB/s eta 0:00:01\r\u001B[K     |████████████████████████████▎   | 1.8 MB 11.3 MB/s eta 0:00:01\r\u001B[K     |████████████████████████████▍   | 1.8 MB 11.3 MB/s eta 0:00:01\r\u001B[K     |████████████████████████████▋   | 1.8 MB 11.3 MB/s eta 0:00:01\r\u001B[K     |████████████████████████████▊   | 1.9 MB 11.3 MB/s eta 0:00:01\r\u001B[K     |████████████████████████████▉   | 1.9 MB 11.3 MB/s eta 0:00:01\r\u001B[K     |█████████████████████████████   | 1.9 MB 11.3 MB/s eta 0:00:01\r\u001B[K     |█████████████████████████████▏  | 1.9 MB 11.3 MB/s eta 0:00:01\r\u001B[K     |█████████████████████████████▍  | 1.9 MB 11.3 MB/s eta 0:00:01\r\u001B[K     |█████████████████████████████▌  | 1.9 MB 11.3 MB/s eta 0:00:01\r\u001B[K     |█████████████████████████████▊  | 1.9 MB 11.3 MB/s eta 0:00:01\r\u001B[K     |█████████████████████████████▉  | 1.9 MB 11.3 MB/s eta 0:00:01\r\u001B[K     |██████████████████████████████  | 1.9 MB 11.3 MB/s eta 0:00:01\r\u001B[K     |██████████████████████████████▏ | 1.9 MB 11.3 MB/s eta 0:00:01\r\u001B[K     |██████████████████████████████▎ | 2.0 MB 11.3 MB/s eta 0:00:01\r\u001B[K     |██████████████████████████████▌ | 2.0 MB 11.3 MB/s eta 0:00:01\r\u001B[K     |██████████████████████████████▋ | 2.0 MB 11.3 MB/s eta 0:00:01\r\u001B[K     |██████████████████████████████▉ | 2.0 MB 11.3 MB/s eta 0:00:01\r\u001B[K     |███████████████████████████████ | 2.0 MB 11.3 MB/s eta 0:00:01\r\u001B[K     |███████████████████████████████ | 2.0 MB 11.3 MB/s eta 0:00:01\r\u001B[K     |███████████████████████████████▎| 2.0 MB 11.3 MB/s eta 0:00:01\r\u001B[K     |███████████████████████████████▍| 2.0 MB 11.3 MB/s eta 0:00:01\r\u001B[K     |███████████████████████████████▋| 2.0 MB 11.3 MB/s eta 0:00:01\r\u001B[K     |███████████████████████████████▊| 2.0 MB 11.3 MB/s eta 0:00:01\r\u001B[K     |████████████████████████████████| 2.1 MB 11.3 MB/s eta 0:00:01\r\u001B[K     |████████████████████████████████| 2.1 MB 11.3 MB/s \r\n\u001B[?25hInstalling collected packages: pip\r\n  Attempting uninstall: pip\r\n    Found existing installation: pip 21.2.4\r\n    Uninstalling pip-21.2.4:\r\n      Successfully uninstalled pip-21.2.4\r\nSuccessfully installed pip-23.1.2\r\n"
     ]
    }
   ],
   "source": [
    "!python -m pip install --upgrade pip"
   ]
  },
  {
   "cell_type": "code",
   "execution_count": 0,
   "metadata": {
    "application/vnd.databricks.v1+cell": {
     "cellMetadata": {
      "byteLimit": 2048000,
      "rowLimit": 10000
     },
     "inputWidgets": {},
     "nuid": "7c2486be-f186-49ec-8c5e-db48e3818d33",
     "showTitle": false,
     "title": ""
    }
   },
   "outputs": [],
   "source": [
    "\n",
    "# loader = TextLoader(\"/dbfs/FileStore/state_of_the_union.txt\")\n",
    "loader = TextLoader(\"/dbfs/FileStore/justText.txt\")\n",
    "\n",
    "documents = loader.load()\n",
    "\n",
    "\n",
    "text_splitter = CharacterTextSplitter(chunk_size=1000, chunk_overlap=0, separator = \" \")\n",
    "texts = text_splitter.split_documents(documents)\n",
    "\n",
    "embeddings = OpenAIEmbeddings(deployment =\"text-embedding-ada-002-v2\")\n",
    "investment_transcript = Chroma.from_documents(\n",
    "    texts[:1], embeddings, collection_name=\"investment_transcripts\"\n",
    ")\n",
    "# Azure embeddings wont batch, so need to add in one at a time\n",
    "for d in texts:\n",
    "    investment_transcript.add_documents([d])\n"
   ]
  },
  {
   "cell_type": "code",
   "execution_count": 0,
   "metadata": {
    "application/vnd.databricks.v1+cell": {
     "cellMetadata": {
      "byteLimit": 2048000,
      "rowLimit": 10000
     },
     "inputWidgets": {},
     "nuid": "abf013ba-9dc7-498b-9df4-ca9488274099",
     "showTitle": false,
     "title": ""
    }
   },
   "outputs": [
    {
     "output_type": "display_data",
     "data": {
      "text/html": [
       "<style scoped>\n",
       "  .ansiout {\n",
       "    display: block;\n",
       "    unicode-bidi: embed;\n",
       "    white-space: pre-wrap;\n",
       "    word-wrap: break-word;\n",
       "    word-break: break-all;\n",
       "    font-family: \"Source Code Pro\", \"Menlo\", monospace;;\n",
       "    font-size: 13px;\n",
       "    color: #555;\n",
       "    margin-left: 4px;\n",
       "    line-height: 19px;\n",
       "  }\n",
       "</style>"
      ]
     },
     "metadata": {
      "application/vnd.databricks.v1+output": {
       "arguments": {},
       "data": "",
       "errorSummary": "",
       "errorTraceType": null,
       "metadata": {},
       "type": "ipynbError"
      }
     },
     "output_type": "display_data"
    }
   ],
   "source": [
    "qa = RetrievalQA.from_chain_type(\n",
    "    llm=chatLLM,\n",
    "    chain_type=\"stuff\",\n",
    "    retriever=investment_transcript.as_retriever(search_type=\"similarity\"),\n",
    ")"
   ]
  },
  {
   "cell_type": "code",
   "execution_count": 0,
   "metadata": {
    "application/vnd.databricks.v1+cell": {
     "cellMetadata": {
      "byteLimit": 2048000,
      "rowLimit": 10000
     },
     "inputWidgets": {},
     "nuid": "1c51d54b-70c8-4b4b-8b9b-5bafa1f7ec11",
     "showTitle": false,
     "title": ""
    }
   },
   "outputs": [
    {
     "output_type": "display_data",
     "data": {
      "text/html": [
       "<style scoped>\n",
       "  .ansiout {\n",
       "    display: block;\n",
       "    unicode-bidi: embed;\n",
       "    white-space: pre-wrap;\n",
       "    word-wrap: break-word;\n",
       "    word-break: break-all;\n",
       "    font-family: \"Source Code Pro\", \"Menlo\", monospace;;\n",
       "    font-size: 13px;\n",
       "    color: #555;\n",
       "    margin-left: 4px;\n",
       "    line-height: 19px;\n",
       "  }\n",
       "</style>"
      ]
     },
     "metadata": {
      "application/vnd.databricks.v1+output": {
       "arguments": {},
       "data": "",
       "errorSummary": "",
       "errorTraceType": null,
       "metadata": {},
       "type": "ipynbError"
      }
     },
     "output_type": "display_data"
    }
   ],
   "source": [
    "qa.run(\"How can I buy my first stock?\")"
   ]
  },
  {
   "cell_type": "code",
   "execution_count": 0,
   "metadata": {
    "application/vnd.databricks.v1+cell": {
     "cellMetadata": {
      "byteLimit": 2048000,
      "rowLimit": 10000
     },
     "inputWidgets": {},
     "nuid": "4c6760f9-8bb0-4dac-a521-920f2b28caaf",
     "showTitle": false,
     "title": ""
    }
   },
   "outputs": [
    {
     "output_type": "display_data",
     "data": {
      "text/html": [
       "<style scoped>\n",
       "  .ansiout {\n",
       "    display: block;\n",
       "    unicode-bidi: embed;\n",
       "    white-space: pre-wrap;\n",
       "    word-wrap: break-word;\n",
       "    word-break: break-all;\n",
       "    font-family: \"Source Code Pro\", \"Menlo\", monospace;;\n",
       "    font-size: 13px;\n",
       "    color: #555;\n",
       "    margin-left: 4px;\n",
       "    line-height: 19px;\n",
       "  }\n",
       "</style>"
      ]
     },
     "metadata": {
      "application/vnd.databricks.v1+output": {
       "arguments": {},
       "data": "",
       "errorSummary": "",
       "errorTraceType": null,
       "metadata": {},
       "type": "ipynbError"
      }
     },
     "output_type": "display_data"
    }
   ],
   "source": [
    "qa.run(\"What stock do you recommend in 2023\")"
   ]
  },
  {
   "cell_type": "code",
   "execution_count": 0,
   "metadata": {
    "application/vnd.databricks.v1+cell": {
     "cellMetadata": {
      "byteLimit": 2048000,
      "rowLimit": 10000
     },
     "inputWidgets": {},
     "nuid": "5371834e-ab9d-4b80-8fed-7639662c3912",
     "showTitle": false,
     "title": ""
    }
   },
   "outputs": [
    {
     "output_type": "display_data",
     "data": {
      "text/html": [
       "<style scoped>\n",
       "  .ansiout {\n",
       "    display: block;\n",
       "    unicode-bidi: embed;\n",
       "    white-space: pre-wrap;\n",
       "    word-wrap: break-word;\n",
       "    word-break: break-all;\n",
       "    font-family: \"Source Code Pro\", \"Menlo\", monospace;;\n",
       "    font-size: 13px;\n",
       "    color: #555;\n",
       "    margin-left: 4px;\n",
       "    line-height: 19px;\n",
       "  }\n",
       "</style>"
      ]
     },
     "metadata": {
      "application/vnd.databricks.v1+output": {
       "arguments": {},
       "data": "",
       "errorSummary": "",
       "errorTraceType": null,
       "metadata": {},
       "type": "ipynbError"
      }
     },
     "output_type": "display_data"
    }
   ],
   "source": [
    "retriever_sim = investment_transcript.as_retriever(search_type=\"similarity\")\n",
    "simDocs = retriever_sim.get_relevant_documents(\"What's the difference between ETF and stock\")\n",
    "print(simDocs[1].page_content)"
   ]
  },
  {
   "cell_type": "code",
   "execution_count": 0,
   "metadata": {
    "application/vnd.databricks.v1+cell": {
     "cellMetadata": {},
     "inputWidgets": {},
     "nuid": "45907084-9511-4947-a388-1c7403f18ce7",
     "showTitle": false,
     "title": ""
    }
   },
   "outputs": [],
   "source": []
  }
 ],
 "metadata": {
  "application/vnd.databricks.v1+notebook": {
   "dashboards": [],
   "language": "python",
   "notebookMetadata": {
    "pythonIndentUnit": 4
   },
   "notebookName": "Investment_Chatbot",
   "widgets": {}
  }
 },
 "nbformat": 4,
 "nbformat_minor": 0
}
